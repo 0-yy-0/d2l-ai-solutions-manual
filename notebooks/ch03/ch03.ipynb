{
 "cells": [
  {
   "cell_type": "markdown",
   "metadata": {},
   "source": [
    "# 第3章 线性神经网络"
   ]
  },
  {
   "cell_type": "markdown",
   "metadata": {},
   "source": [
    "## 3.1 线性回归"
   ]
  },
  {
   "cell_type": "markdown",
   "metadata": {},
   "source": [
    "### 练习3.1.1 \n",
    "\n",
    "假设我们有一些数据$x_1, \\ldots, x_n \\in \\mathbb{R}$。我们的目标是找到一个常数$b$，使得最小化$\\sum_i (x_i - b)^2$。\n",
    "\n",
    "1. 找到最优值$b$的解析解。\n",
    "2. 这个问题及其解与正态分布有什么关系?"
   ]
  },
  {
   "cell_type": "markdown",
   "metadata": {},
   "source": [
    "**解答：**"
   ]
  },
  {
   "cell_type": "markdown",
   "metadata": {},
   "source": [
    "**第1问：**"
   ]
  },
  {
   "cell_type": "markdown",
   "metadata": {},
   "source": [
    "&emsp;&emsp;首先，最优值的b满足$\\displaystyle \\frac{d   \\sum_i (x_i - b)^2}{d b}=0$ 求b的导数："
   ]
  },
  {
   "cell_type": "markdown",
   "metadata": {},
   "source": [
    "&emsp;&emsp;接着，可以将左边的式子进行化简：\n",
    "\n",
    "$$\n",
    "\\begin{aligned} \n",
    "\\displaystyle \\frac{d  \\sum_i (x_i - b)^2}{d b}&=2\\sum_i (x_i -  b)\\\\\n",
    "&= 2(\\sum_i x_i  -nb)\\\\\n",
    "&= 2 n (\\bar{x}-b)\n",
    "\n",
    "\\end{aligned}\n",
    "$$\n",
    "&emsp;&emsp;$\\bar{x}$ 是$x_1, \\ldots, x_n$的平均值.因此当且仅当$b = \\bar{x}$时，$\\sum_i (x_i - b)^2$最小."
   ]
  },
  {
   "cell_type": "markdown",
   "metadata": {},
   "source": [
    "**第2问：**"
   ]
  },
  {
   "cell_type": "markdown",
   "metadata": {},
   "source": [
    "&emsp;&emsp;假设$x_1, \\ldots, x_n$是从正态分布中采样得到的，那么$b = \\bar{x}$是最大似然估计下的均值。也就是说，如果假设数据来自正态分布，并且想要找到一个最好的均值来描述这些数据，那么可以选择样本均值作为估计量。\n",
    "\n",
    "&emsp;&emsp;所以，该问题及其解与$x_1, \\ldots, x_n$符合正态分布相关。"
   ]
  },
  {
   "cell_type": "markdown",
   "metadata": {},
   "source": [
    "### 练习3.1.2\n",
    "\n",
    "推导出使用平方误差的线性回归优化问题的解析解。为了简化问题，可以忽略偏置$b$（我们可以通过向$\\mathbf X$添加所有值为1的一列来做到这一点）。\n",
    "\n",
    "1. 用矩阵和向量表示法写出优化问题（将所有数据视为单个矩阵，将所有目标值视为单个向量）。\n",
    "2. 计算损失对$w$的梯度。\n",
    "3. 通过将梯度设为0、求解矩阵方程来找到解析解。\n",
    "4. 什么时候可能比使用随机梯度下降更好？这种方法何时会失效？"
   ]
  },
  {
   "cell_type": "markdown",
   "metadata": {},
   "source": [
    "**解答：**"
   ]
  },
  {
   "cell_type": "markdown",
   "metadata": {},
   "source": [
    "**第1问：**"
   ]
  },
  {
   "cell_type": "markdown",
   "metadata": {},
   "source": [
    "&emsp;&emsp;对于线性回归问题，损失函数是平方误差。假设我们有一个数据集$\\{(\\mathbf x_1, y_1), \\ldots, (\\mathbf x_n, y_n)\\}$，其中$\\mathbf x_i \\in \\mathbb R^d$是输入特征，$y_i \\in \\mathbb R$是标签。我们的目标是找到一组权重向量$\\mathbf w \\in \\mathbb R^d$，使得预测值$\\hat{y}_i = \\mathbf w^\\top\\mathbf x_i$（忽略偏置$b$）与真实标签$y_i$之间的平方误差最小化。因此，损失函数可以写成以下形式：\n",
    "\n",
    "$$\n",
    "L(\\mathbf w) = \\frac{1}{2n} \\sum_{i=1}^n (\\hat{y}_i - y_i)^2 = \\frac{1}{2n} \\| \\mathbf X\\mathbf w - \\mathbf y \\|_2^2,\n",
    "$$\n",
    "\n",
    "其中$\\mathbf X = [\\mathbf x_1^\\top, \\ldots, \\mathbf x_n^\\top]^\\top$是输入特征的矩阵，$\\mathbf y = [y_1, \\ldots, y_n]^\\top$是标签向量。"
   ]
  },
  {
   "cell_type": "markdown",
   "metadata": {},
   "source": [
    "&emsp;&emsp;则线性回归优化问题可以写成：\n",
    "$$\n",
    "\\min_{\\mathbf w} \\frac{1}{2n} \\| \\mathbf X\\mathbf w - \\mathbf y \\|_2^2.\n",
    "$$"
   ]
  },
  {
   "cell_type": "markdown",
   "metadata": {},
   "source": [
    "**第2问：**"
   ]
  },
  {
   "cell_type": "markdown",
   "metadata": {},
   "source": [
    "&emsp;&emsp;损失函数对权重向量$\\mathbf w$的梯度为\n",
    "\n",
    "$$\n",
    "\\nabla_{\\mathbf w} L(\\mathbf w) = \\frac{1}{n} \\sum_{i=1}^n (\\hat{y}_i - y_i) \\nabla_{\\mathbf w} \\hat{y}_i = \\frac{1}{n} \\sum_{i=1}^n (\\hat{y}_i - y_i) \\mathbf x_i,\n",
    "$$\n",
    "\n",
    "其中$\\hat{\\mathbf y} = [\\hat{y}_1, \\ldots, \\hat{y}_n]^\\top$是预测值向量。"
   ]
  },
  {
   "cell_type": "markdown",
   "metadata": {},
   "source": [
    "**第3问：**"
   ]
  },
  {
   "cell_type": "markdown",
   "metadata": {},
   "source": [
    "&emsp;&emsp;根据题意，将梯度设为0，可得：\n",
    "\n",
    "$$ \n",
    "\\nabla_{\\mathbf w} L(\\mathbf w) = \\frac{1}{n} \\mathbf X^\\top (\\hat{\\mathbf y} - \\mathbf y) = 0 \n",
    "$$"
   ]
  },
  {
   "cell_type": "markdown",
   "metadata": {},
   "source": [
    "其中，$\\hat{\\mathbf y}$ 是预测值，$\\mathbf y$ 是真实值，$\\mathbf X$ 是输入数据。将上式变形为：\n",
    "\n",
    "$$ \n",
    "\\mathbf X^\\top (\\hat{\\mathbf y} - \\mathbf y) = 0 \n",
    "$$"
   ]
  },
  {
   "cell_type": "markdown",
   "metadata": {},
   "source": [
    "进一步变形得到：\n",
    "\n",
    "$$ \n",
    "\\mathbf X^\\top \\hat{\\mathbf y} = \\mathbf X^\\top \\mathbf y \n",
    "$$"
   ]
  },
  {
   "cell_type": "markdown",
   "metadata": {},
   "source": [
    "因为 $\\hat{\\mathbf y} = \\mathbf X\\hat{\\mathbf w}$，所以：\n",
    "\n",
    "$$ \n",
    "\\begin{aligned} \n",
    "&\\quad\\; \\mathbf X^\\top (\\hat{\\mathbf y} - \\mathbf y) = 0 \\\\ \n",
    "&\\Rightarrow\\; \\mathbf X^\\top ({\\mathbf X}{\\mathbf w} - \\mathbf y) = 0 \\\\ \n",
    "&\\Rightarrow\\; {\\mathbf w} = ({\\mathbf X}^\\top{\\mathbf X})^{-1}{\\mathbf X}^\\top\\mathbf y \\\\ \n",
    "\\end{aligned} \n",
    "$$"
   ]
  },
  {
   "cell_type": "markdown",
   "metadata": {},
   "source": [
    "**第4问：**"
   ]
  },
  {
   "cell_type": "markdown",
   "metadata": {},
   "source": [
    "&emsp;&emsp;当数据集较小时，解析解可能比随机梯度下降更好。然而，在大型数据集上，计算解析解可能会非常耗时。此外，当矩阵$\\mathbf X^\\top\\mathbf X$不可逆时，解析解不存在。在这种情况下，需要使用正则化或数值优化方法。"
   ]
  },
  {
   "cell_type": "markdown",
   "metadata": {},
   "source": [
    "### 练习3.1.3\n",
    "\n",
    "假定控制附加噪声$\\epsilon$的噪声模型是指数分布。也就是说，$\\displaystyle p(\\epsilon) = \\frac{1}{2} \\exp(-|\\epsilon|)$\n",
    "\n",
    "1. 写出模型$-\\log P(\\mathbf y \\mid \\mathbf X)$下数据的负对数似然。\n",
    "2. 请试着写出解析解。\n",
    "3. 提出一种随机梯度下降算法来解决这个问题。哪里可能出错？（提示：当我们不断更新参数时，在驻点附近会发生什么情况）请尝试解决这个问题。"
   ]
  },
  {
   "cell_type": "markdown",
   "metadata": {},
   "source": [
    "**解答：**"
   ]
  },
  {
   "cell_type": "markdown",
   "metadata": {},
   "source": [
    "**第1问：**"
   ]
  },
  {
   "cell_type": "markdown",
   "metadata": {},
   "source": [
    "&emsp;&emsp;根据题意噪声服从指数分布，如下式：\n",
    "$$\n",
    "y = {\\mathbf w}^T {\\mathbf x} + b + \\epsilon\n",
    "$$\n",
    "其中，$\\displaystyle p(\\epsilon) = \\frac{1}{2} \\exp(-|\\epsilon|)$"
   ]
  },
  {
   "cell_type": "markdown",
   "metadata": {},
   "source": [
    "可得到给定的$\\mathbf x$观测到特定$y$的似然：\n",
    "$$\n",
    "P(\\mathbf y | \\mathbf X) = \\frac{1}{2} \\exp (- |y - {\\mathbf w}^T {\\mathbf x} - b|)\n",
    "$$"
   ]
  },
  {
   "cell_type": "markdown",
   "metadata": {},
   "source": [
    "根据极大似然估计法，参数$\\mathbf w$和$b$的最优值是使整个数据集的似然最大的值：\n",
    "$$\n",
    "\\begin{aligned}\n",
    "P(\\mathbf y | \\mathbf X) \n",
    "&= \\prod_{i=1}^n p(y^{(i)} | x^{i}) \\\\\n",
    "&= \\prod_{i=1}^n \\left( \\frac{1}{2} \\exp \\left ( - \\left |y^{(i)} - {\\mathbf w}^T x^{(i)} - b \\right | \\right) \\right) \\\\\n",
    "&= \\left( \\frac{1}{2} \\right)^n \\exp \\left( - \\sum_{i=1}^n \\left | y^{(i)} - {\\mathbf w}^T x^{(i)} - b \\right | \\right)\n",
    "\\end{aligned}\n",
    "$$"
   ]
  },
  {
   "cell_type": "markdown",
   "metadata": {},
   "source": [
    "可得到负对数似然：\n",
    "$$\n",
    "-\\log P(\\mathbf y | \\mathbf X) = n \\log 2 + \\sum_{i=1}^n \\left | y^{(i)} - {\\mathbf w}^T x^{(i)} - b\\right |\n",
    "$$"
   ]
  },
  {
   "cell_type": "markdown",
   "metadata": {},
   "source": [
    "**第2问：**"
   ]
  },
  {
   "cell_type": "markdown",
   "metadata": {},
   "source": [
    "&emsp;&emsp;根据负对数似然可得到损失函数：\n",
    "$$\n",
    "L(\\mathbf w, b) = n \\log 2 + \\sum_{i=1}^n \\left | y^{(i)} - {\\mathbf w}^T x^{(i)} - b\\right |\n",
    "$$"
   ]
  },
  {
   "cell_type": "markdown",
   "metadata": {},
   "source": [
    "由于损失函数是一个绝对值函数，因此该问题没有解析解。"
   ]
  },
  {
   "cell_type": "markdown",
   "metadata": {},
   "source": [
    "**第3问：**"
   ]
  },
  {
   "cell_type": "markdown",
   "metadata": {},
   "source": [
    "&emsp;&emsp;根据题意，可使用随机梯度下降（SGD）算法求解，可计算梯度：\n",
    "$$\n",
    "\\nabla_{\\mathbf w} L(\\mathbf w, b) = - \\sum_{i=1}^n x^{(i)} \\cdot \\text{sgn} (y^{(i)} - {\\mathbf w}^T x^{(i)} - b) \\\\\n",
    "\\nabla_{\\mathbf b} L(\\mathbf w, b) = - \\sum_{i=1}^n \\text{sgn} (y^{(i)} - {\\mathbf w}^T x^{(i)} - b)\n",
    "$$"
   ]
  },
  {
   "cell_type": "markdown",
   "metadata": {},
   "source": [
    "&emsp;&emsp;对于SGD算法，每次迭代使用一个样本，则参数更新为：\n",
    "$$\n",
    "\\begin{array}{ll}\n",
    "\\mathbf w \\leftarrow \\mathbf w + \\eta x^{(i)} \\cdot \\text{sgn} (y^{(i)} - {\\mathbf w}^T x^{(i)} - b) \\\\\n",
    "b \\leftarrow b + \\eta \\cdot \\text{sgn} (y^{(i)} - {\\mathbf w}^T x^{(i)} - b)\n",
    "\\end{array}\n",
    "$$\n",
    "其中 $\\eta$ 是学习率。"
   ]
  },
  {
   "cell_type": "markdown",
   "metadata": {},
   "source": [
    "&emsp;&emsp;由于使用了绝对值函数作为损失函数，梯度在接近驻点（即梯度接近零的点）时，梯度不会平滑地趋向于零，而是存在突变。当使用SGD算法，不断更新参数时，可能导致模型无法稳定收敛。"
   ]
  },
  {
   "cell_type": "markdown",
   "metadata": {},
   "source": [
    "&emsp;&emsp;解决该问题的方法：\n",
    "1. 使用平滑的损失函数，可使用MSE、Smooth L1损失函数等。\n",
    "2. 调整学习率，逐渐减小学习率，使得在驻点附近的参数更新更加稳定\n",
    "3. 使用动量法或自适应学习率优化算法"
   ]
  },
  {
   "cell_type": "markdown",
   "metadata": {},
   "source": [
    "## 3.2 线性回归的从零开始实现"
   ]
  },
  {
   "cell_type": "markdown",
   "metadata": {},
   "source": [
    "### 练习3.2.1\n",
    "\n",
    "如果我们将权重初始化为零，会发生什么。算法仍然有效吗？"
   ]
  },
  {
   "cell_type": "markdown",
   "metadata": {},
   "source": [
    "**解答：**"
   ]
  },
  {
   "cell_type": "markdown",
   "metadata": {},
   "source": [
    "&emsp;&emsp;如果将权重初始化为零，那么每个神经元的输出都是相同的，这意味着每个神经元学习到的参数也是相同的。因此，每个神经元都会更新相同的参数，最终导致所有神经元学习到相同的特征。因此，权重初始化为零会使算法失效。这样就失去了神经网络的优势，即可以学习到不同特征的能力。"
   ]
  },
  {
   "cell_type": "markdown",
   "metadata": {},
   "source": [
    "&emsp;&emsp;逻辑回归和神经网络有不同的权重初始化方法。对于逻辑回归，可以将权重初始化为零，因为这是一个线性模型，梯度下降算法仍然可以更新它们。然而，对于神经网络来说，将权重初始化为零可能会导致对称性问题，并阻止隐藏单元学习不同的特征。因此，最好使用随机或其他方法来初始化神经网络的权重。"
   ]
  },
  {
   "cell_type": "markdown",
   "metadata": {},
   "source": [
    "### 练习3.2.2\n",
    "\n",
    "假设试图为电压和电流的关系建立一个模型。自动微分可以用来学习模型的参数吗?"
   ]
  },
  {
   "cell_type": "markdown",
   "metadata": {},
   "source": [
    "**解答：**"
   ]
  },
  {
   "cell_type": "markdown",
   "metadata": {},
   "source": [
    "&emsp;&emsp;根据电压（$U$）与电流（$I$）的关系，可以构建模型：\n",
    "$$\n",
    "U = {\\mathbf w}^T I + b\n",
    "$$"
   ]
  },
  {
   "cell_type": "markdown",
   "metadata": {},
   "source": [
    "&emsp;&emsp;自动微分（Automatic Differentiation，简称AD）是一种对计算机程序进行高效准确求导的技术。它是介于符号微分和数值微分之间的一种方法，可以计算可导函数在某点处的导数值的计算，是反向传播算法的一般化。\n",
    "\n",
    "&emsp;&emsp;自动微分要解决的核心问题是计算复杂函数，通常是多层复合函数在某一点处的导数、梯度以及Hessian矩阵值\n",
    "torch中的backward就是自动微分。backward()函数会自动计算所有需要求导的变量的梯度，并将结果存储在相应变量的grad属性中。"
   ]
  },
  {
   "cell_type": "markdown",
   "metadata": {},
   "source": [
    "根据书中对自动微分的描述：\n",
    "> &emsp;&emsp;深度学习框架通过自动计算导数，即自动微分（automatic differentiation）来加快求导。 实际中，根据设计好的模型，系统会构建一个计算图（computational graph）， 来跟踪计算是哪些数据通过哪些操作组合起来产生输出。 自动微分使系统能够随后反向传播梯度。 这里，反向传播（backpropagate）意味着跟踪整个计算图，填充关于每个参数的偏导数。"
   ]
  },
  {
   "cell_type": "markdown",
   "metadata": {},
   "source": [
    "&emsp;&emsp;用代码验证电阻为$30 \\Omega$的电流与电压的计算公式："
   ]
  },
  {
   "cell_type": "code",
   "execution_count": 1,
   "metadata": {
    "tags": []
   },
   "outputs": [
    {
     "name": "stdout",
     "output_type": "stream",
     "text": [
      "Parameter containing:\n",
      "tensor([[29.9949]], requires_grad=True)\n",
      "Parameter containing:\n",
      "tensor([-0.0012], requires_grad=True)\n"
     ]
    }
   ],
   "source": [
    "import torch\n",
    "\n",
    "# 生成数据\n",
    "x = torch.randn(100, 1)\n",
    "y = 30 * x\n",
    "\n",
    "# 定义模型\n",
    "model = torch.nn.Linear(1, 1)\n",
    "\n",
    "# 定义损失函数和优化器\n",
    "criterion = torch.nn.MSELoss()\n",
    "optimizer = torch.optim.SGD(model.parameters(), lr=0.01)\n",
    "\n",
    "# 训练模型\n",
    "for epoch in range(500):\n",
    "    # 前向传播\n",
    "    y_pred = model(x)\n",
    "\n",
    "    # 计算损失\n",
    "    loss = criterion(y_pred, y)\n",
    "\n",
    "    # 反向传播\n",
    "    optimizer.zero_grad()\n",
    "    loss.backward()\n",
    "    optimizer.step()\n",
    "\n",
    "print(model.weight)\n",
    "print(model.bias)"
   ]
  },
  {
   "cell_type": "markdown",
   "metadata": {},
   "source": [
    "### 练习3.2.3\n",
    "\n",
    "能基于[普朗克定律](https://en.wikipedia.org/wiki/Planck%27s_law)使用光谱能量密度来确定物体的温度吗？"
   ]
  },
  {
   "cell_type": "markdown",
   "metadata": {},
   "source": [
    "**解答：**"
   ]
  },
  {
   "cell_type": "markdown",
   "metadata": {},
   "source": [
    "&emsp;&emsp;根据维基百科：\n",
    "> &emsp;&emsp;在物理学中，普朗克黑体辐射定律（也简称普朗克定律或黑体辐射定律）是指在任意温度$\\displaystyle T$下，从一个黑体中发射出的电磁辐射的辐射率与频率之间的关系，在这里，辐射率是频率$\\nu$的函数：\n",
    "> $$\n",
    "I_{\\nu }(\\nu ,T)={\\frac {2h\\nu ^{3}}{c^{2}}}{\\frac {1}{e^{\\frac {h\\nu }{kT}}-1}}\n",
    "$$\n",
    "其中，$I_{\\nu}$是辐射率，$\\nu$是频率，$T$是黑体的温度，$h$是普朗克常数，$c$是光速，$k$是波兹曼常数。\n",
    "> \n",
    "> 根据电磁波波长和频率的关系为\n",
    "> $$\n",
    "\\lambda = \\frac{c}{\\nu}\n",
    "$$\n",
    "> 普朗克定律有时写做能量密度频谱的形式：\n",
    "> $$\n",
    "u_{ \\nu }(\\nu ,T) \n",
    "= \\frac{4 \\pi}{c} I_{\\nu }(\\nu ,T) \n",
    "= \\frac {8 \\pi h \\nu^{3}}{c^3} \\frac {1}{e^{\\frac {h\\nu }{kT}} - 1}\n",
    "$$"
   ]
  },
  {
   "cell_type": "markdown",
   "metadata": {},
   "source": [
    "&emsp;&emsp;根据上述公式，可以得到物体的温度计算公式：\n",
    "$$\n",
    "T = \\frac{h \\nu}{K \\ln \\left( 1 + \\displaystyle \\frac{8 \\pi h \\nu^3}{c^3 u_{\\nu}} \\right)}\n",
    "$$"
   ]
  },
  {
   "cell_type": "markdown",
   "metadata": {
    "tags": []
   },
   "source": [
    "&emsp;&emsp;通过测量物体发出的辐射能量密度，并使用普朗克定律，可以确定物体的温度。"
   ]
  },
  {
   "cell_type": "markdown",
   "metadata": {},
   "source": [
    "### 练习3.2.4\n",
    "\n",
    "计算二阶导数时可能会遇到什么问题？这些问题可以如何解决？"
   ]
  },
  {
   "cell_type": "markdown",
   "metadata": {},
   "source": [
    "**解答：**"
   ]
  },
  {
   "cell_type": "markdown",
   "metadata": {},
   "source": [
    "&emsp;&emsp;计算计算二阶导数时可能会遇到如下问题："
   ]
  },
  {
   "cell_type": "markdown",
   "metadata": {},
   "source": [
    "1. 数值不稳定性问题：该问题可以通过使用更高精度的数据类型（例如双精度浮点数）或通过使用数值稳定性技巧（例如中心差分）来解决。  \n",
    "中心差分是一种常用的数值稳定性技巧，它可以用于计算函数在某个点处的导数。具体来说，中心差分可以通过以下公式计算：\n",
    "\n",
    "$$f'(x) \\approx \\frac{f(x+h)-f(x-h)}{2h}$$\n",
    "\n",
    "&emsp;&emsp;其中 $h$ 是一个很小的正数，通常取 $10^{-6}$ 或更小。"
   ]
  },
  {
   "cell_type": "markdown",
   "metadata": {},
   "source": [
    "2. 一阶导数的计算图保存问题：计算二阶导数，需要将一阶导数的计算图保存起来，使用`create_graph`和`retain_graph`参数"
   ]
  },
  {
   "cell_type": "markdown",
   "metadata": {},
   "source": [
    "以下面函数举例：\n",
    "\n",
    "- 原函数：$ y = x^3$\n",
    "- 一阶导函数：$y = 3 x^2$\n",
    "- 二阶导函数：$y = 6 x$"
   ]
  },
  {
   "cell_type": "code",
   "execution_count": 2,
   "metadata": {},
   "outputs": [],
   "source": [
    "import torch\n",
    "\n",
    "x = torch.randn((2), requires_grad=True)\n",
    "y = x ** 3"
   ]
  },
  {
   "cell_type": "code",
   "execution_count": 3,
   "metadata": {},
   "outputs": [],
   "source": [
    "# 一阶导数\n",
    "dy = torch.autograd.grad(y, x, grad_outputs=torch.ones(x.shape), \n",
    "                         retain_graph=True, create_graph=True)\n",
    "\n",
    "# 二阶导数\n",
    "dy2 = torch.autograd.grad(dy, x, grad_outputs=torch.ones(x.shape))"
   ]
  },
  {
   "cell_type": "code",
   "execution_count": 4,
   "metadata": {
    "scrolled": true
   },
   "outputs": [
    {
     "data": {
      "text/plain": [
       "tensor([True, True])"
      ]
     },
     "execution_count": 4,
     "metadata": {},
     "output_type": "execute_result"
    }
   ],
   "source": [
    "dy[0] == 3 * x**2"
   ]
  },
  {
   "cell_type": "code",
   "execution_count": 5,
   "metadata": {
    "scrolled": true
   },
   "outputs": [
    {
     "data": {
      "text/plain": [
       "tensor([True, True])"
      ]
     },
     "execution_count": 5,
     "metadata": {},
     "output_type": "execute_result"
    }
   ],
   "source": [
    "dy2[0] == 6 * x"
   ]
  },
  {
   "cell_type": "markdown",
   "metadata": {},
   "source": [
    "### 练习3.2.5\n",
    "\n",
    "为什么在`squared_loss`函数中需要使用`reshape`函数？"
   ]
  },
  {
   "cell_type": "markdown",
   "metadata": {},
   "source": [
    "**解答：**"
   ]
  },
  {
   "cell_type": "markdown",
   "metadata": {},
   "source": [
    "书中第3.2.5节的代码："
   ]
  },
  {
   "cell_type": "code",
   "execution_count": 6,
   "metadata": {},
   "outputs": [],
   "source": [
    "def squared_loss(y_hat, y):  #@save\n",
    "    \"\"\"均方损失\"\"\"\n",
    "    return (y_hat - y.reshape(y_hat.shape)) ** 2 / 2"
   ]
  },
  {
   "cell_type": "markdown",
   "metadata": {},
   "source": [
    "&emsp;&emsp;这里使用`reshape`函数是为了保证`y`和`y_hat`形状相同，避免触发广播机制导致错误的结果。"
   ]
  },
  {
   "cell_type": "markdown",
   "metadata": {},
   "source": [
    "### 练习3.2.6\n",
    "\n",
    "尝试使用不同的学习率，观察损失函数值下降的快慢。"
   ]
  },
  {
   "cell_type": "markdown",
   "metadata": {},
   "source": [
    "**解答：**"
   ]
  },
  {
   "cell_type": "code",
   "execution_count": 7,
   "metadata": {},
   "outputs": [],
   "source": [
    "%matplotlib inline\n",
    "import random\n",
    "import torch\n",
    "import numpy as np\n",
    "from d2l import torch as d2l"
   ]
  },
  {
   "cell_type": "code",
   "execution_count": 8,
   "metadata": {},
   "outputs": [],
   "source": [
    "# 生成数据集\n",
    "def synthetic_data(w, b, num_examples):  #@save\n",
    "    \"\"\"生成y=Xw+b+噪声\"\"\"\n",
    "    X = torch.normal(0, 1, (num_examples, len(w)))\n",
    "    y = torch.matmul(X, w) + b\n",
    "    y += torch.normal(0, 0.01, y.shape)\n",
    "    return X, y.reshape((-1, 1))\n",
    "\n",
    "true_w = torch.tensor([2, -3.4])\n",
    "true_b = 4.2\n",
    "features, labels = synthetic_data(true_w, true_b, 1000)"
   ]
  },
  {
   "cell_type": "code",
   "execution_count": 9,
   "metadata": {},
   "outputs": [],
   "source": [
    "# 读取数据集\n",
    "def data_iter(batch_size, features, labels):\n",
    "    num_examples = len(features)\n",
    "    indices = list(range(num_examples))\n",
    "    # 这些样本是随机读取的，没有特定的顺序\n",
    "    random.shuffle(indices)\n",
    "    for i in range(0, num_examples, batch_size):\n",
    "        batch_indices = torch.tensor(\n",
    "            indices[i: min(i + batch_size, num_examples)])\n",
    "        yield features[batch_indices], labels[batch_indices]"
   ]
  },
  {
   "cell_type": "code",
   "execution_count": 10,
   "metadata": {},
   "outputs": [],
   "source": [
    "# 初始化参数\n",
    "w = torch.normal(0, 0.01, size=(2,1), requires_grad=True)\n",
    "b = torch.zeros(1, requires_grad=True)"
   ]
  },
  {
   "cell_type": "code",
   "execution_count": 11,
   "metadata": {},
   "outputs": [],
   "source": [
    "def linreg(X, w, b):  #@save\n",
    "    \"\"\"线性回归模型\"\"\"\n",
    "    return torch.matmul(X, w) + b"
   ]
  },
  {
   "cell_type": "code",
   "execution_count": 12,
   "metadata": {},
   "outputs": [],
   "source": [
    "def squared_loss(y_hat, y):  #@save\n",
    "    \"\"\"均方损失\"\"\"\n",
    "    return (y_hat - y.reshape(y_hat.shape)) ** 2 / 2"
   ]
  },
  {
   "cell_type": "code",
   "execution_count": 13,
   "metadata": {},
   "outputs": [],
   "source": [
    "def sgd(params, lr, batch_size):  #@save\n",
    "    \"\"\"小批量随机梯度下降\"\"\"\n",
    "    with torch.no_grad():\n",
    "        for param in params:\n",
    "            param -= lr * param.grad / batch_size\n",
    "            param.grad.zero_()"
   ]
  },
  {
   "cell_type": "code",
   "execution_count": 14,
   "metadata": {},
   "outputs": [],
   "source": [
    "lrs = [0.5, 0.3, 0.1, 0.01]\n",
    "num_epochs = 10\n",
    "net = linreg\n",
    "loss = squared_loss\n",
    "\n",
    "batch_size = 10\n",
    "\n",
    "all_lrs = []\n",
    "for lr in lrs:\n",
    "    train_lrs = []\n",
    "    for epoch in range(num_epochs):\n",
    "        for X, y in data_iter(batch_size, features, labels):\n",
    "            l = loss(net(X, w, b), y)  # X和y的小批量损失\n",
    "            # 因为l形状是(batch_size,1)，而不是一个标量。l中的所有元素被加到一起，\n",
    "            # 并以此计算关于[w,b]的梯度\n",
    "            l.sum().backward()\n",
    "            sgd([w, b], lr, batch_size)  # 使用参数的梯度更新参数\n",
    "        with torch.no_grad():\n",
    "            train_l = loss(net(features, w, b), labels)\n",
    "            train_lrs.append(float(train_l.mean()))\n",
    "    all_lrs.append(train_lrs)"
   ]
  },
  {
   "cell_type": "code",
   "execution_count": 15,
   "metadata": {},
   "outputs": [
    {
     "data": {
      "image/svg+xml": [
       "<?xml version=\"1.0\" encoding=\"utf-8\" standalone=\"no\"?>\n",
       "<!DOCTYPE svg PUBLIC \"-//W3C//DTD SVG 1.1//EN\"\n",
       "  \"http://www.w3.org/Graphics/SVG/1.1/DTD/svg11.dtd\">\n",
       "<svg xmlns:xlink=\"http://www.w3.org/1999/xlink\" width=\"385.78125pt\" height=\"277.114688pt\" viewBox=\"0 0 385.78125 277.114688\" xmlns=\"http://www.w3.org/2000/svg\" version=\"1.1\">\n",
       " <metadata>\n",
       "  <rdf:RDF xmlns:dc=\"http://purl.org/dc/elements/1.1/\" xmlns:cc=\"http://creativecommons.org/ns#\" xmlns:rdf=\"http://www.w3.org/1999/02/22-rdf-syntax-ns#\">\n",
       "   <cc:Work>\n",
       "    <dc:type rdf:resource=\"http://purl.org/dc/dcmitype/StillImage\"/>\n",
       "    <dc:date>2024-01-05T20:18:13.995248</dc:date>\n",
       "    <dc:format>image/svg+xml</dc:format>\n",
       "    <dc:creator>\n",
       "     <cc:Agent>\n",
       "      <dc:title>Matplotlib v3.7.2, https://matplotlib.org/</dc:title>\n",
       "     </cc:Agent>\n",
       "    </dc:creator>\n",
       "   </cc:Work>\n",
       "  </rdf:RDF>\n",
       " </metadata>\n",
       " <defs>\n",
       "  <style type=\"text/css\">*{stroke-linejoin: round; stroke-linecap: butt}</style>\n",
       " </defs>\n",
       " <g id=\"figure_1\">\n",
       "  <g id=\"patch_1\">\n",
       "   <path d=\"M 0 277.114688 \n",
       "L 385.78125 277.114688 \n",
       "L 385.78125 0 \n",
       "L 0 0 \n",
       "z\n",
       "\" style=\"fill: #ffffff\"/>\n",
       "  </g>\n",
       "  <g id=\"axes_1\">\n",
       "   <g id=\"patch_2\">\n",
       "    <path d=\"M 43.78125 239.558437 \n",
       "L 378.58125 239.558437 \n",
       "L 378.58125 17.798437 \n",
       "L 43.78125 17.798437 \n",
       "z\n",
       "\" style=\"fill: #ffffff\"/>\n",
       "   </g>\n",
       "   <g id=\"matplotlib.axis_1\">\n",
       "    <g id=\"xtick_1\">\n",
       "     <g id=\"line2d_1\">\n",
       "      <path d=\"M 92.817614 239.558437 \n",
       "L 92.817614 17.798437 \n",
       "\" clip-path=\"url(#p3facc6d4d7)\" style=\"fill: none; stroke: #b0b0b0; stroke-width: 0.8; stroke-linecap: square\"/>\n",
       "     </g>\n",
       "     <g id=\"line2d_2\">\n",
       "      <defs>\n",
       "       <path id=\"m5de22286f5\" d=\"M 0 0 \n",
       "L 0 3.5 \n",
       "\" style=\"stroke: #000000; stroke-width: 0.8\"/>\n",
       "      </defs>\n",
       "      <g>\n",
       "       <use xlink:href=\"#m5de22286f5\" x=\"92.817614\" y=\"239.558437\" style=\"stroke: #000000; stroke-width: 0.8\"/>\n",
       "      </g>\n",
       "     </g>\n",
       "     <g id=\"text_1\">\n",
       "      <!-- 2 -->\n",
       "      <g transform=\"translate(89.636364 254.156875) scale(0.1 -0.1)\">\n",
       "       <defs>\n",
       "        <path id=\"DejaVuSans-32\" d=\"M 1228 531 \n",
       "L 3431 531 \n",
       "L 3431 0 \n",
       "L 469 0 \n",
       "L 469 531 \n",
       "Q 828 903 1448 1529 \n",
       "Q 2069 2156 2228 2338 \n",
       "Q 2531 2678 2651 2914 \n",
       "Q 2772 3150 2772 3378 \n",
       "Q 2772 3750 2511 3984 \n",
       "Q 2250 4219 1831 4219 \n",
       "Q 1534 4219 1204 4116 \n",
       "Q 875 4013 500 3803 \n",
       "L 500 4441 \n",
       "Q 881 4594 1212 4672 \n",
       "Q 1544 4750 1819 4750 \n",
       "Q 2544 4750 2975 4387 \n",
       "Q 3406 4025 3406 3419 \n",
       "Q 3406 3131 3298 2873 \n",
       "Q 3191 2616 2906 2266 \n",
       "Q 2828 2175 2409 1742 \n",
       "Q 1991 1309 1228 531 \n",
       "z\n",
       "\" transform=\"scale(0.015625)\"/>\n",
       "       </defs>\n",
       "       <use xlink:href=\"#DejaVuSans-32\"/>\n",
       "      </g>\n",
       "     </g>\n",
       "    </g>\n",
       "    <g id=\"xtick_2\">\n",
       "     <g id=\"line2d_3\">\n",
       "      <path d=\"M 160.453977 239.558437 \n",
       "L 160.453977 17.798437 \n",
       "\" clip-path=\"url(#p3facc6d4d7)\" style=\"fill: none; stroke: #b0b0b0; stroke-width: 0.8; stroke-linecap: square\"/>\n",
       "     </g>\n",
       "     <g id=\"line2d_4\">\n",
       "      <g>\n",
       "       <use xlink:href=\"#m5de22286f5\" x=\"160.453977\" y=\"239.558437\" style=\"stroke: #000000; stroke-width: 0.8\"/>\n",
       "      </g>\n",
       "     </g>\n",
       "     <g id=\"text_2\">\n",
       "      <!-- 4 -->\n",
       "      <g transform=\"translate(157.272727 254.156875) scale(0.1 -0.1)\">\n",
       "       <defs>\n",
       "        <path id=\"DejaVuSans-34\" d=\"M 2419 4116 \n",
       "L 825 1625 \n",
       "L 2419 1625 \n",
       "L 2419 4116 \n",
       "z\n",
       "M 2253 4666 \n",
       "L 3047 4666 \n",
       "L 3047 1625 \n",
       "L 3713 1625 \n",
       "L 3713 1100 \n",
       "L 3047 1100 \n",
       "L 3047 0 \n",
       "L 2419 0 \n",
       "L 2419 1100 \n",
       "L 313 1100 \n",
       "L 313 1709 \n",
       "L 2253 4666 \n",
       "z\n",
       "\" transform=\"scale(0.015625)\"/>\n",
       "       </defs>\n",
       "       <use xlink:href=\"#DejaVuSans-34\"/>\n",
       "      </g>\n",
       "     </g>\n",
       "    </g>\n",
       "    <g id=\"xtick_3\">\n",
       "     <g id=\"line2d_5\">\n",
       "      <path d=\"M 228.090341 239.558437 \n",
       "L 228.090341 17.798437 \n",
       "\" clip-path=\"url(#p3facc6d4d7)\" style=\"fill: none; stroke: #b0b0b0; stroke-width: 0.8; stroke-linecap: square\"/>\n",
       "     </g>\n",
       "     <g id=\"line2d_6\">\n",
       "      <g>\n",
       "       <use xlink:href=\"#m5de22286f5\" x=\"228.090341\" y=\"239.558437\" style=\"stroke: #000000; stroke-width: 0.8\"/>\n",
       "      </g>\n",
       "     </g>\n",
       "     <g id=\"text_3\">\n",
       "      <!-- 6 -->\n",
       "      <g transform=\"translate(224.909091 254.156875) scale(0.1 -0.1)\">\n",
       "       <defs>\n",
       "        <path id=\"DejaVuSans-36\" d=\"M 2113 2584 \n",
       "Q 1688 2584 1439 2293 \n",
       "Q 1191 2003 1191 1497 \n",
       "Q 1191 994 1439 701 \n",
       "Q 1688 409 2113 409 \n",
       "Q 2538 409 2786 701 \n",
       "Q 3034 994 3034 1497 \n",
       "Q 3034 2003 2786 2293 \n",
       "Q 2538 2584 2113 2584 \n",
       "z\n",
       "M 3366 4563 \n",
       "L 3366 3988 \n",
       "Q 3128 4100 2886 4159 \n",
       "Q 2644 4219 2406 4219 \n",
       "Q 1781 4219 1451 3797 \n",
       "Q 1122 3375 1075 2522 \n",
       "Q 1259 2794 1537 2939 \n",
       "Q 1816 3084 2150 3084 \n",
       "Q 2853 3084 3261 2657 \n",
       "Q 3669 2231 3669 1497 \n",
       "Q 3669 778 3244 343 \n",
       "Q 2819 -91 2113 -91 \n",
       "Q 1303 -91 875 529 \n",
       "Q 447 1150 447 2328 \n",
       "Q 447 3434 972 4092 \n",
       "Q 1497 4750 2381 4750 \n",
       "Q 2619 4750 2861 4703 \n",
       "Q 3103 4656 3366 4563 \n",
       "z\n",
       "\" transform=\"scale(0.015625)\"/>\n",
       "       </defs>\n",
       "       <use xlink:href=\"#DejaVuSans-36\"/>\n",
       "      </g>\n",
       "     </g>\n",
       "    </g>\n",
       "    <g id=\"xtick_4\">\n",
       "     <g id=\"line2d_7\">\n",
       "      <path d=\"M 295.726705 239.558437 \n",
       "L 295.726705 17.798437 \n",
       "\" clip-path=\"url(#p3facc6d4d7)\" style=\"fill: none; stroke: #b0b0b0; stroke-width: 0.8; stroke-linecap: square\"/>\n",
       "     </g>\n",
       "     <g id=\"line2d_8\">\n",
       "      <g>\n",
       "       <use xlink:href=\"#m5de22286f5\" x=\"295.726705\" y=\"239.558437\" style=\"stroke: #000000; stroke-width: 0.8\"/>\n",
       "      </g>\n",
       "     </g>\n",
       "     <g id=\"text_4\">\n",
       "      <!-- 8 -->\n",
       "      <g transform=\"translate(292.545455 254.156875) scale(0.1 -0.1)\">\n",
       "       <defs>\n",
       "        <path id=\"DejaVuSans-38\" d=\"M 2034 2216 \n",
       "Q 1584 2216 1326 1975 \n",
       "Q 1069 1734 1069 1313 \n",
       "Q 1069 891 1326 650 \n",
       "Q 1584 409 2034 409 \n",
       "Q 2484 409 2743 651 \n",
       "Q 3003 894 3003 1313 \n",
       "Q 3003 1734 2745 1975 \n",
       "Q 2488 2216 2034 2216 \n",
       "z\n",
       "M 1403 2484 \n",
       "Q 997 2584 770 2862 \n",
       "Q 544 3141 544 3541 \n",
       "Q 544 4100 942 4425 \n",
       "Q 1341 4750 2034 4750 \n",
       "Q 2731 4750 3128 4425 \n",
       "Q 3525 4100 3525 3541 \n",
       "Q 3525 3141 3298 2862 \n",
       "Q 3072 2584 2669 2484 \n",
       "Q 3125 2378 3379 2068 \n",
       "Q 3634 1759 3634 1313 \n",
       "Q 3634 634 3220 271 \n",
       "Q 2806 -91 2034 -91 \n",
       "Q 1263 -91 848 271 \n",
       "Q 434 634 434 1313 \n",
       "Q 434 1759 690 2068 \n",
       "Q 947 2378 1403 2484 \n",
       "z\n",
       "M 1172 3481 \n",
       "Q 1172 3119 1398 2916 \n",
       "Q 1625 2713 2034 2713 \n",
       "Q 2441 2713 2670 2916 \n",
       "Q 2900 3119 2900 3481 \n",
       "Q 2900 3844 2670 4047 \n",
       "Q 2441 4250 2034 4250 \n",
       "Q 1625 4250 1398 4047 \n",
       "Q 1172 3844 1172 3481 \n",
       "z\n",
       "\" transform=\"scale(0.015625)\"/>\n",
       "       </defs>\n",
       "       <use xlink:href=\"#DejaVuSans-38\"/>\n",
       "      </g>\n",
       "     </g>\n",
       "    </g>\n",
       "    <g id=\"xtick_5\">\n",
       "     <g id=\"line2d_9\">\n",
       "      <path d=\"M 363.363068 239.558437 \n",
       "L 363.363068 17.798437 \n",
       "\" clip-path=\"url(#p3facc6d4d7)\" style=\"fill: none; stroke: #b0b0b0; stroke-width: 0.8; stroke-linecap: square\"/>\n",
       "     </g>\n",
       "     <g id=\"line2d_10\">\n",
       "      <g>\n",
       "       <use xlink:href=\"#m5de22286f5\" x=\"363.363068\" y=\"239.558437\" style=\"stroke: #000000; stroke-width: 0.8\"/>\n",
       "      </g>\n",
       "     </g>\n",
       "     <g id=\"text_5\">\n",
       "      <!-- 10 -->\n",
       "      <g transform=\"translate(357.000568 254.156875) scale(0.1 -0.1)\">\n",
       "       <defs>\n",
       "        <path id=\"DejaVuSans-31\" d=\"M 794 531 \n",
       "L 1825 531 \n",
       "L 1825 4091 \n",
       "L 703 3866 \n",
       "L 703 4441 \n",
       "L 1819 4666 \n",
       "L 2450 4666 \n",
       "L 2450 531 \n",
       "L 3481 531 \n",
       "L 3481 0 \n",
       "L 794 0 \n",
       "L 794 531 \n",
       "z\n",
       "\" transform=\"scale(0.015625)\"/>\n",
       "        <path id=\"DejaVuSans-30\" d=\"M 2034 4250 \n",
       "Q 1547 4250 1301 3770 \n",
       "Q 1056 3291 1056 2328 \n",
       "Q 1056 1369 1301 889 \n",
       "Q 1547 409 2034 409 \n",
       "Q 2525 409 2770 889 \n",
       "Q 3016 1369 3016 2328 \n",
       "Q 3016 3291 2770 3770 \n",
       "Q 2525 4250 2034 4250 \n",
       "z\n",
       "M 2034 4750 \n",
       "Q 2819 4750 3233 4129 \n",
       "Q 3647 3509 3647 2328 \n",
       "Q 3647 1150 3233 529 \n",
       "Q 2819 -91 2034 -91 \n",
       "Q 1250 -91 836 529 \n",
       "Q 422 1150 422 2328 \n",
       "Q 422 3509 836 4129 \n",
       "Q 1250 4750 2034 4750 \n",
       "z\n",
       "\" transform=\"scale(0.015625)\"/>\n",
       "       </defs>\n",
       "       <use xlink:href=\"#DejaVuSans-31\"/>\n",
       "       <use xlink:href=\"#DejaVuSans-30\" x=\"63.623047\"/>\n",
       "      </g>\n",
       "     </g>\n",
       "    </g>\n",
       "    <g id=\"text_6\">\n",
       "     <!-- epoch num -->\n",
       "     <g transform=\"translate(183.15625 267.835) scale(0.1 -0.1)\">\n",
       "      <defs>\n",
       "       <path id=\"DejaVuSans-65\" d=\"M 3597 1894 \n",
       "L 3597 1613 \n",
       "L 953 1613 \n",
       "Q 991 1019 1311 708 \n",
       "Q 1631 397 2203 397 \n",
       "Q 2534 397 2845 478 \n",
       "Q 3156 559 3463 722 \n",
       "L 3463 178 \n",
       "Q 3153 47 2828 -22 \n",
       "Q 2503 -91 2169 -91 \n",
       "Q 1331 -91 842 396 \n",
       "Q 353 884 353 1716 \n",
       "Q 353 2575 817 3079 \n",
       "Q 1281 3584 2069 3584 \n",
       "Q 2775 3584 3186 3129 \n",
       "Q 3597 2675 3597 1894 \n",
       "z\n",
       "M 3022 2063 \n",
       "Q 3016 2534 2758 2815 \n",
       "Q 2500 3097 2075 3097 \n",
       "Q 1594 3097 1305 2825 \n",
       "Q 1016 2553 972 2059 \n",
       "L 3022 2063 \n",
       "z\n",
       "\" transform=\"scale(0.015625)\"/>\n",
       "       <path id=\"DejaVuSans-70\" d=\"M 1159 525 \n",
       "L 1159 -1331 \n",
       "L 581 -1331 \n",
       "L 581 3500 \n",
       "L 1159 3500 \n",
       "L 1159 2969 \n",
       "Q 1341 3281 1617 3432 \n",
       "Q 1894 3584 2278 3584 \n",
       "Q 2916 3584 3314 3078 \n",
       "Q 3713 2572 3713 1747 \n",
       "Q 3713 922 3314 415 \n",
       "Q 2916 -91 2278 -91 \n",
       "Q 1894 -91 1617 61 \n",
       "Q 1341 213 1159 525 \n",
       "z\n",
       "M 3116 1747 \n",
       "Q 3116 2381 2855 2742 \n",
       "Q 2594 3103 2138 3103 \n",
       "Q 1681 3103 1420 2742 \n",
       "Q 1159 2381 1159 1747 \n",
       "Q 1159 1113 1420 752 \n",
       "Q 1681 391 2138 391 \n",
       "Q 2594 391 2855 752 \n",
       "Q 3116 1113 3116 1747 \n",
       "z\n",
       "\" transform=\"scale(0.015625)\"/>\n",
       "       <path id=\"DejaVuSans-6f\" d=\"M 1959 3097 \n",
       "Q 1497 3097 1228 2736 \n",
       "Q 959 2375 959 1747 \n",
       "Q 959 1119 1226 758 \n",
       "Q 1494 397 1959 397 \n",
       "Q 2419 397 2687 759 \n",
       "Q 2956 1122 2956 1747 \n",
       "Q 2956 2369 2687 2733 \n",
       "Q 2419 3097 1959 3097 \n",
       "z\n",
       "M 1959 3584 \n",
       "Q 2709 3584 3137 3096 \n",
       "Q 3566 2609 3566 1747 \n",
       "Q 3566 888 3137 398 \n",
       "Q 2709 -91 1959 -91 \n",
       "Q 1206 -91 779 398 \n",
       "Q 353 888 353 1747 \n",
       "Q 353 2609 779 3096 \n",
       "Q 1206 3584 1959 3584 \n",
       "z\n",
       "\" transform=\"scale(0.015625)\"/>\n",
       "       <path id=\"DejaVuSans-63\" d=\"M 3122 3366 \n",
       "L 3122 2828 \n",
       "Q 2878 2963 2633 3030 \n",
       "Q 2388 3097 2138 3097 \n",
       "Q 1578 3097 1268 2742 \n",
       "Q 959 2388 959 1747 \n",
       "Q 959 1106 1268 751 \n",
       "Q 1578 397 2138 397 \n",
       "Q 2388 397 2633 464 \n",
       "Q 2878 531 3122 666 \n",
       "L 3122 134 \n",
       "Q 2881 22 2623 -34 \n",
       "Q 2366 -91 2075 -91 \n",
       "Q 1284 -91 818 406 \n",
       "Q 353 903 353 1747 \n",
       "Q 353 2603 823 3093 \n",
       "Q 1294 3584 2113 3584 \n",
       "Q 2378 3584 2631 3529 \n",
       "Q 2884 3475 3122 3366 \n",
       "z\n",
       "\" transform=\"scale(0.015625)\"/>\n",
       "       <path id=\"DejaVuSans-68\" d=\"M 3513 2113 \n",
       "L 3513 0 \n",
       "L 2938 0 \n",
       "L 2938 2094 \n",
       "Q 2938 2591 2744 2837 \n",
       "Q 2550 3084 2163 3084 \n",
       "Q 1697 3084 1428 2787 \n",
       "Q 1159 2491 1159 1978 \n",
       "L 1159 0 \n",
       "L 581 0 \n",
       "L 581 4863 \n",
       "L 1159 4863 \n",
       "L 1159 2956 \n",
       "Q 1366 3272 1645 3428 \n",
       "Q 1925 3584 2291 3584 \n",
       "Q 2894 3584 3203 3211 \n",
       "Q 3513 2838 3513 2113 \n",
       "z\n",
       "\" transform=\"scale(0.015625)\"/>\n",
       "       <path id=\"DejaVuSans-20\" transform=\"scale(0.015625)\"/>\n",
       "       <path id=\"DejaVuSans-6e\" d=\"M 3513 2113 \n",
       "L 3513 0 \n",
       "L 2938 0 \n",
       "L 2938 2094 \n",
       "Q 2938 2591 2744 2837 \n",
       "Q 2550 3084 2163 3084 \n",
       "Q 1697 3084 1428 2787 \n",
       "Q 1159 2491 1159 1978 \n",
       "L 1159 0 \n",
       "L 581 0 \n",
       "L 581 3500 \n",
       "L 1159 3500 \n",
       "L 1159 2956 \n",
       "Q 1366 3272 1645 3428 \n",
       "Q 1925 3584 2291 3584 \n",
       "Q 2894 3584 3203 3211 \n",
       "Q 3513 2838 3513 2113 \n",
       "z\n",
       "\" transform=\"scale(0.015625)\"/>\n",
       "       <path id=\"DejaVuSans-75\" d=\"M 544 1381 \n",
       "L 544 3500 \n",
       "L 1119 3500 \n",
       "L 1119 1403 \n",
       "Q 1119 906 1312 657 \n",
       "Q 1506 409 1894 409 \n",
       "Q 2359 409 2629 706 \n",
       "Q 2900 1003 2900 1516 \n",
       "L 2900 3500 \n",
       "L 3475 3500 \n",
       "L 3475 0 \n",
       "L 2900 0 \n",
       "L 2900 538 \n",
       "Q 2691 219 2414 64 \n",
       "Q 2138 -91 1772 -91 \n",
       "Q 1169 -91 856 284 \n",
       "Q 544 659 544 1381 \n",
       "z\n",
       "M 1991 3584 \n",
       "L 1991 3584 \n",
       "z\n",
       "\" transform=\"scale(0.015625)\"/>\n",
       "       <path id=\"DejaVuSans-6d\" d=\"M 3328 2828 \n",
       "Q 3544 3216 3844 3400 \n",
       "Q 4144 3584 4550 3584 \n",
       "Q 5097 3584 5394 3201 \n",
       "Q 5691 2819 5691 2113 \n",
       "L 5691 0 \n",
       "L 5113 0 \n",
       "L 5113 2094 \n",
       "Q 5113 2597 4934 2840 \n",
       "Q 4756 3084 4391 3084 \n",
       "Q 3944 3084 3684 2787 \n",
       "Q 3425 2491 3425 1978 \n",
       "L 3425 0 \n",
       "L 2847 0 \n",
       "L 2847 2094 \n",
       "Q 2847 2600 2669 2842 \n",
       "Q 2491 3084 2119 3084 \n",
       "Q 1678 3084 1418 2786 \n",
       "Q 1159 2488 1159 1978 \n",
       "L 1159 0 \n",
       "L 581 0 \n",
       "L 581 3500 \n",
       "L 1159 3500 \n",
       "L 1159 2956 \n",
       "Q 1356 3278 1631 3431 \n",
       "Q 1906 3584 2284 3584 \n",
       "Q 2666 3584 2933 3390 \n",
       "Q 3200 3197 3328 2828 \n",
       "z\n",
       "\" transform=\"scale(0.015625)\"/>\n",
       "      </defs>\n",
       "      <use xlink:href=\"#DejaVuSans-65\"/>\n",
       "      <use xlink:href=\"#DejaVuSans-70\" x=\"61.523438\"/>\n",
       "      <use xlink:href=\"#DejaVuSans-6f\" x=\"125\"/>\n",
       "      <use xlink:href=\"#DejaVuSans-63\" x=\"186.181641\"/>\n",
       "      <use xlink:href=\"#DejaVuSans-68\" x=\"241.162109\"/>\n",
       "      <use xlink:href=\"#DejaVuSans-20\" x=\"304.541016\"/>\n",
       "      <use xlink:href=\"#DejaVuSans-6e\" x=\"336.328125\"/>\n",
       "      <use xlink:href=\"#DejaVuSans-75\" x=\"399.707031\"/>\n",
       "      <use xlink:href=\"#DejaVuSans-6d\" x=\"463.085938\"/>\n",
       "     </g>\n",
       "    </g>\n",
       "   </g>\n",
       "   <g id=\"matplotlib.axis_2\">\n",
       "    <g id=\"ytick_1\">\n",
       "     <g id=\"line2d_11\">\n",
       "      <path d=\"M 43.78125 206.389435 \n",
       "L 378.58125 206.389435 \n",
       "\" clip-path=\"url(#p3facc6d4d7)\" style=\"fill: none; stroke: #b0b0b0; stroke-width: 0.8; stroke-linecap: square\"/>\n",
       "     </g>\n",
       "     <g id=\"line2d_12\">\n",
       "      <defs>\n",
       "       <path id=\"mb5869b06a6\" d=\"M 0 0 \n",
       "L -3.5 0 \n",
       "\" style=\"stroke: #000000; stroke-width: 0.8\"/>\n",
       "      </defs>\n",
       "      <g>\n",
       "       <use xlink:href=\"#mb5869b06a6\" x=\"43.78125\" y=\"206.389435\" style=\"stroke: #000000; stroke-width: 0.8\"/>\n",
       "      </g>\n",
       "     </g>\n",
       "     <g id=\"text_7\">\n",
       "      <!-- 5.2 -->\n",
       "      <g transform=\"translate(20.878125 210.188654) scale(0.1 -0.1)\">\n",
       "       <defs>\n",
       "        <path id=\"DejaVuSans-35\" d=\"M 691 4666 \n",
       "L 3169 4666 \n",
       "L 3169 4134 \n",
       "L 1269 4134 \n",
       "L 1269 2991 \n",
       "Q 1406 3038 1543 3061 \n",
       "Q 1681 3084 1819 3084 \n",
       "Q 2600 3084 3056 2656 \n",
       "Q 3513 2228 3513 1497 \n",
       "Q 3513 744 3044 326 \n",
       "Q 2575 -91 1722 -91 \n",
       "Q 1428 -91 1123 -41 \n",
       "Q 819 9 494 109 \n",
       "L 494 744 \n",
       "Q 775 591 1075 516 \n",
       "Q 1375 441 1709 441 \n",
       "Q 2250 441 2565 725 \n",
       "Q 2881 1009 2881 1497 \n",
       "Q 2881 1984 2565 2268 \n",
       "Q 2250 2553 1709 2553 \n",
       "Q 1456 2553 1204 2497 \n",
       "Q 953 2441 691 2322 \n",
       "L 691 4666 \n",
       "z\n",
       "\" transform=\"scale(0.015625)\"/>\n",
       "        <path id=\"DejaVuSans-2e\" d=\"M 684 794 \n",
       "L 1344 794 \n",
       "L 1344 0 \n",
       "L 684 0 \n",
       "L 684 794 \n",
       "z\n",
       "\" transform=\"scale(0.015625)\"/>\n",
       "       </defs>\n",
       "       <use xlink:href=\"#DejaVuSans-35\"/>\n",
       "       <use xlink:href=\"#DejaVuSans-2e\" x=\"63.623047\"/>\n",
       "       <use xlink:href=\"#DejaVuSans-32\" x=\"95.410156\"/>\n",
       "      </g>\n",
       "     </g>\n",
       "    </g>\n",
       "    <g id=\"ytick_2\">\n",
       "     <g id=\"line2d_13\">\n",
       "      <path d=\"M 43.78125 172.70267 \n",
       "L 378.58125 172.70267 \n",
       "\" clip-path=\"url(#p3facc6d4d7)\" style=\"fill: none; stroke: #b0b0b0; stroke-width: 0.8; stroke-linecap: square\"/>\n",
       "     </g>\n",
       "     <g id=\"line2d_14\">\n",
       "      <g>\n",
       "       <use xlink:href=\"#mb5869b06a6\" x=\"43.78125\" y=\"172.70267\" style=\"stroke: #000000; stroke-width: 0.8\"/>\n",
       "      </g>\n",
       "     </g>\n",
       "     <g id=\"text_8\">\n",
       "      <!-- 5.4 -->\n",
       "      <g transform=\"translate(20.878125 176.501888) scale(0.1 -0.1)\">\n",
       "       <use xlink:href=\"#DejaVuSans-35\"/>\n",
       "       <use xlink:href=\"#DejaVuSans-2e\" x=\"63.623047\"/>\n",
       "       <use xlink:href=\"#DejaVuSans-34\" x=\"95.410156\"/>\n",
       "      </g>\n",
       "     </g>\n",
       "    </g>\n",
       "    <g id=\"ytick_3\">\n",
       "     <g id=\"line2d_15\">\n",
       "      <path d=\"M 43.78125 139.015904 \n",
       "L 378.58125 139.015904 \n",
       "\" clip-path=\"url(#p3facc6d4d7)\" style=\"fill: none; stroke: #b0b0b0; stroke-width: 0.8; stroke-linecap: square\"/>\n",
       "     </g>\n",
       "     <g id=\"line2d_16\">\n",
       "      <g>\n",
       "       <use xlink:href=\"#mb5869b06a6\" x=\"43.78125\" y=\"139.015904\" style=\"stroke: #000000; stroke-width: 0.8\"/>\n",
       "      </g>\n",
       "     </g>\n",
       "     <g id=\"text_9\">\n",
       "      <!-- 5.6 -->\n",
       "      <g transform=\"translate(20.878125 142.815123) scale(0.1 -0.1)\">\n",
       "       <use xlink:href=\"#DejaVuSans-35\"/>\n",
       "       <use xlink:href=\"#DejaVuSans-2e\" x=\"63.623047\"/>\n",
       "       <use xlink:href=\"#DejaVuSans-36\" x=\"95.410156\"/>\n",
       "      </g>\n",
       "     </g>\n",
       "    </g>\n",
       "    <g id=\"ytick_4\">\n",
       "     <g id=\"line2d_17\">\n",
       "      <path d=\"M 43.78125 105.329139 \n",
       "L 378.58125 105.329139 \n",
       "\" clip-path=\"url(#p3facc6d4d7)\" style=\"fill: none; stroke: #b0b0b0; stroke-width: 0.8; stroke-linecap: square\"/>\n",
       "     </g>\n",
       "     <g id=\"line2d_18\">\n",
       "      <g>\n",
       "       <use xlink:href=\"#mb5869b06a6\" x=\"43.78125\" y=\"105.329139\" style=\"stroke: #000000; stroke-width: 0.8\"/>\n",
       "      </g>\n",
       "     </g>\n",
       "     <g id=\"text_10\">\n",
       "      <!-- 5.8 -->\n",
       "      <g transform=\"translate(20.878125 109.128357) scale(0.1 -0.1)\">\n",
       "       <use xlink:href=\"#DejaVuSans-35\"/>\n",
       "       <use xlink:href=\"#DejaVuSans-2e\" x=\"63.623047\"/>\n",
       "       <use xlink:href=\"#DejaVuSans-38\" x=\"95.410156\"/>\n",
       "      </g>\n",
       "     </g>\n",
       "    </g>\n",
       "    <g id=\"ytick_5\">\n",
       "     <g id=\"line2d_19\">\n",
       "      <path d=\"M 43.78125 71.642373 \n",
       "L 378.58125 71.642373 \n",
       "\" clip-path=\"url(#p3facc6d4d7)\" style=\"fill: none; stroke: #b0b0b0; stroke-width: 0.8; stroke-linecap: square\"/>\n",
       "     </g>\n",
       "     <g id=\"line2d_20\">\n",
       "      <g>\n",
       "       <use xlink:href=\"#mb5869b06a6\" x=\"43.78125\" y=\"71.642373\" style=\"stroke: #000000; stroke-width: 0.8\"/>\n",
       "      </g>\n",
       "     </g>\n",
       "     <g id=\"text_11\">\n",
       "      <!-- 6.0 -->\n",
       "      <g transform=\"translate(20.878125 75.441592) scale(0.1 -0.1)\">\n",
       "       <use xlink:href=\"#DejaVuSans-36\"/>\n",
       "       <use xlink:href=\"#DejaVuSans-2e\" x=\"63.623047\"/>\n",
       "       <use xlink:href=\"#DejaVuSans-30\" x=\"95.410156\"/>\n",
       "      </g>\n",
       "     </g>\n",
       "    </g>\n",
       "    <g id=\"ytick_6\">\n",
       "     <g id=\"line2d_21\">\n",
       "      <path d=\"M 43.78125 37.955608 \n",
       "L 378.58125 37.955608 \n",
       "\" clip-path=\"url(#p3facc6d4d7)\" style=\"fill: none; stroke: #b0b0b0; stroke-width: 0.8; stroke-linecap: square\"/>\n",
       "     </g>\n",
       "     <g id=\"line2d_22\">\n",
       "      <g>\n",
       "       <use xlink:href=\"#mb5869b06a6\" x=\"43.78125\" y=\"37.955608\" style=\"stroke: #000000; stroke-width: 0.8\"/>\n",
       "      </g>\n",
       "     </g>\n",
       "     <g id=\"text_12\">\n",
       "      <!-- 6.2 -->\n",
       "      <g transform=\"translate(20.878125 41.754826) scale(0.1 -0.1)\">\n",
       "       <use xlink:href=\"#DejaVuSans-36\"/>\n",
       "       <use xlink:href=\"#DejaVuSans-2e\" x=\"63.623047\"/>\n",
       "       <use xlink:href=\"#DejaVuSans-32\" x=\"95.410156\"/>\n",
       "      </g>\n",
       "     </g>\n",
       "    </g>\n",
       "    <g id=\"text_13\">\n",
       "     <!-- loss -->\n",
       "     <g transform=\"translate(14.798438 138.33625) rotate(-90) scale(0.1 -0.1)\">\n",
       "      <defs>\n",
       "       <path id=\"DejaVuSans-6c\" d=\"M 603 4863 \n",
       "L 1178 4863 \n",
       "L 1178 0 \n",
       "L 603 0 \n",
       "L 603 4863 \n",
       "z\n",
       "\" transform=\"scale(0.015625)\"/>\n",
       "       <path id=\"DejaVuSans-73\" d=\"M 2834 3397 \n",
       "L 2834 2853 \n",
       "Q 2591 2978 2328 3040 \n",
       "Q 2066 3103 1784 3103 \n",
       "Q 1356 3103 1142 2972 \n",
       "Q 928 2841 928 2578 \n",
       "Q 928 2378 1081 2264 \n",
       "Q 1234 2150 1697 2047 \n",
       "L 1894 2003 \n",
       "Q 2506 1872 2764 1633 \n",
       "Q 3022 1394 3022 966 \n",
       "Q 3022 478 2636 193 \n",
       "Q 2250 -91 1575 -91 \n",
       "Q 1294 -91 989 -36 \n",
       "Q 684 19 347 128 \n",
       "L 347 722 \n",
       "Q 666 556 975 473 \n",
       "Q 1284 391 1588 391 \n",
       "Q 1994 391 2212 530 \n",
       "Q 2431 669 2431 922 \n",
       "Q 2431 1156 2273 1281 \n",
       "Q 2116 1406 1581 1522 \n",
       "L 1381 1569 \n",
       "Q 847 1681 609 1914 \n",
       "Q 372 2147 372 2553 \n",
       "Q 372 3047 722 3315 \n",
       "Q 1072 3584 1716 3584 \n",
       "Q 2034 3584 2315 3537 \n",
       "Q 2597 3491 2834 3397 \n",
       "z\n",
       "\" transform=\"scale(0.015625)\"/>\n",
       "      </defs>\n",
       "      <use xlink:href=\"#DejaVuSans-6c\"/>\n",
       "      <use xlink:href=\"#DejaVuSans-6f\" x=\"27.783203\"/>\n",
       "      <use xlink:href=\"#DejaVuSans-73\" x=\"88.964844\"/>\n",
       "      <use xlink:href=\"#DejaVuSans-73\" x=\"141.064453\"/>\n",
       "     </g>\n",
       "    </g>\n",
       "    <g id=\"text_14\">\n",
       "     <!-- 1e−5 -->\n",
       "     <g transform=\"translate(43.78125 14.798437) scale(0.1 -0.1)\">\n",
       "      <defs>\n",
       "       <path id=\"DejaVuSans-2212\" d=\"M 678 2272 \n",
       "L 4684 2272 \n",
       "L 4684 1741 \n",
       "L 678 1741 \n",
       "L 678 2272 \n",
       "z\n",
       "\" transform=\"scale(0.015625)\"/>\n",
       "      </defs>\n",
       "      <use xlink:href=\"#DejaVuSans-31\"/>\n",
       "      <use xlink:href=\"#DejaVuSans-65\" x=\"63.623047\"/>\n",
       "      <use xlink:href=\"#DejaVuSans-2212\" x=\"125.146484\"/>\n",
       "      <use xlink:href=\"#DejaVuSans-35\" x=\"208.935547\"/>\n",
       "     </g>\n",
       "    </g>\n",
       "   </g>\n",
       "   <g id=\"line2d_23\">\n",
       "    <path d=\"M 58.999432 158.909654 \n",
       "L 92.817614 218.036946 \n",
       "L 126.635795 217.045931 \n",
       "L 160.453977 159.382519 \n",
       "L 194.272159 155.330285 \n",
       "L 228.090341 71.896387 \n",
       "L 261.908523 149.0837 \n",
       "L 295.726705 124.197548 \n",
       "L 329.544886 183.318283 \n",
       "L 363.363068 141.598853 \n",
       "\" clip-path=\"url(#p3facc6d4d7)\" style=\"fill: none; stroke: #1f77b4; stroke-width: 1.5; stroke-linecap: square\"/>\n",
       "   </g>\n",
       "   <g id=\"line2d_24\">\n",
       "    <path d=\"M 58.999432 110.438603 \n",
       "L 92.817614 205.184945 \n",
       "L 126.635795 161.912661 \n",
       "L 160.453977 27.878438 \n",
       "L 194.272159 201.196254 \n",
       "L 228.090341 182.344181 \n",
       "L 261.908523 140.79234 \n",
       "L 295.726705 167.144702 \n",
       "L 329.544886 226.510112 \n",
       "L 363.363068 185.354787 \n",
       "\" clip-path=\"url(#p3facc6d4d7)\" style=\"fill: none; stroke-dasharray: 5.55,2.4; stroke-dashoffset: 0; stroke: #bf00bf; stroke-width: 1.5\"/>\n",
       "   </g>\n",
       "   <g id=\"line2d_25\">\n",
       "    <path d=\"M 58.999432 221.89371 \n",
       "L 92.817614 224.81565 \n",
       "L 126.635795 216.391995 \n",
       "L 160.453977 188.140756 \n",
       "L 194.272159 221.207727 \n",
       "L 228.090341 216.869518 \n",
       "L 261.908523 205.129981 \n",
       "L 295.726705 225.851519 \n",
       "L 329.544886 221.198474 \n",
       "L 363.363068 208.905677 \n",
       "\" clip-path=\"url(#p3facc6d4d7)\" style=\"fill: none; stroke-dasharray: 9.6,2.4,1.5,2.4; stroke-dashoffset: 0; stroke: #008000; stroke-width: 1.5\"/>\n",
       "   </g>\n",
       "   <g id=\"line2d_26\">\n",
       "    <path d=\"M 58.999432 226.929913 \n",
       "L 92.817614 228.786939 \n",
       "L 126.635795 229.344488 \n",
       "L 160.453977 229.378435 \n",
       "L 194.272159 229.280639 \n",
       "L 228.090341 229.134067 \n",
       "L 261.908523 229.435789 \n",
       "L 295.726705 229.478438 \n",
       "L 329.544886 229.386279 \n",
       "L 363.363068 229.472616 \n",
       "\" clip-path=\"url(#p3facc6d4d7)\" style=\"fill: none; stroke-dasharray: 1.5,2.475; stroke-dashoffset: 0; stroke: #ff0000; stroke-width: 1.5\"/>\n",
       "   </g>\n",
       "   <g id=\"patch_3\">\n",
       "    <path d=\"M 43.78125 239.558438 \n",
       "L 43.78125 17.798438 \n",
       "\" style=\"fill: none; stroke: #000000; stroke-width: 0.8; stroke-linejoin: miter; stroke-linecap: square\"/>\n",
       "   </g>\n",
       "   <g id=\"patch_4\">\n",
       "    <path d=\"M 378.58125 239.558438 \n",
       "L 378.58125 17.798438 \n",
       "\" style=\"fill: none; stroke: #000000; stroke-width: 0.8; stroke-linejoin: miter; stroke-linecap: square\"/>\n",
       "   </g>\n",
       "   <g id=\"patch_5\">\n",
       "    <path d=\"M 43.78125 239.558437 \n",
       "L 378.58125 239.558437 \n",
       "\" style=\"fill: none; stroke: #000000; stroke-width: 0.8; stroke-linejoin: miter; stroke-linecap: square\"/>\n",
       "   </g>\n",
       "   <g id=\"patch_6\">\n",
       "    <path d=\"M 43.78125 17.798437 \n",
       "L 378.58125 17.798437 \n",
       "\" style=\"fill: none; stroke: #000000; stroke-width: 0.8; stroke-linejoin: miter; stroke-linecap: square\"/>\n",
       "   </g>\n",
       "   <g id=\"legend_1\">\n",
       "    <g id=\"patch_7\">\n",
       "     <path d=\"M 265.314063 84.510937 \n",
       "L 371.58125 84.510937 \n",
       "Q 373.58125 84.510937 373.58125 82.510937 \n",
       "L 373.58125 24.798437 \n",
       "Q 373.58125 22.798437 371.58125 22.798437 \n",
       "L 265.314063 22.798437 \n",
       "Q 263.314063 22.798437 263.314063 24.798437 \n",
       "L 263.314063 82.510937 \n",
       "Q 263.314063 84.510937 265.314063 84.510937 \n",
       "z\n",
       "\" style=\"fill: #ffffff; opacity: 0.8; stroke: #cccccc; stroke-linejoin: miter\"/>\n",
       "    </g>\n",
       "    <g id=\"line2d_27\">\n",
       "     <path d=\"M 267.314063 30.896875 \n",
       "L 277.314063 30.896875 \n",
       "L 287.314063 30.896875 \n",
       "\" style=\"fill: none; stroke: #1f77b4; stroke-width: 1.5; stroke-linecap: square\"/>\n",
       "    </g>\n",
       "    <g id=\"text_15\">\n",
       "     <!-- learn rate 0.5 -->\n",
       "     <g transform=\"translate(295.314063 34.396875) scale(0.1 -0.1)\">\n",
       "      <defs>\n",
       "       <path id=\"DejaVuSans-61\" d=\"M 2194 1759 \n",
       "Q 1497 1759 1228 1600 \n",
       "Q 959 1441 959 1056 \n",
       "Q 959 750 1161 570 \n",
       "Q 1363 391 1709 391 \n",
       "Q 2188 391 2477 730 \n",
       "Q 2766 1069 2766 1631 \n",
       "L 2766 1759 \n",
       "L 2194 1759 \n",
       "z\n",
       "M 3341 1997 \n",
       "L 3341 0 \n",
       "L 2766 0 \n",
       "L 2766 531 \n",
       "Q 2569 213 2275 61 \n",
       "Q 1981 -91 1556 -91 \n",
       "Q 1019 -91 701 211 \n",
       "Q 384 513 384 1019 \n",
       "Q 384 1609 779 1909 \n",
       "Q 1175 2209 1959 2209 \n",
       "L 2766 2209 \n",
       "L 2766 2266 \n",
       "Q 2766 2663 2505 2880 \n",
       "Q 2244 3097 1772 3097 \n",
       "Q 1472 3097 1187 3025 \n",
       "Q 903 2953 641 2809 \n",
       "L 641 3341 \n",
       "Q 956 3463 1253 3523 \n",
       "Q 1550 3584 1831 3584 \n",
       "Q 2591 3584 2966 3190 \n",
       "Q 3341 2797 3341 1997 \n",
       "z\n",
       "\" transform=\"scale(0.015625)\"/>\n",
       "       <path id=\"DejaVuSans-72\" d=\"M 2631 2963 \n",
       "Q 2534 3019 2420 3045 \n",
       "Q 2306 3072 2169 3072 \n",
       "Q 1681 3072 1420 2755 \n",
       "Q 1159 2438 1159 1844 \n",
       "L 1159 0 \n",
       "L 581 0 \n",
       "L 581 3500 \n",
       "L 1159 3500 \n",
       "L 1159 2956 \n",
       "Q 1341 3275 1631 3429 \n",
       "Q 1922 3584 2338 3584 \n",
       "Q 2397 3584 2469 3576 \n",
       "Q 2541 3569 2628 3553 \n",
       "L 2631 2963 \n",
       "z\n",
       "\" transform=\"scale(0.015625)\"/>\n",
       "       <path id=\"DejaVuSans-74\" d=\"M 1172 4494 \n",
       "L 1172 3500 \n",
       "L 2356 3500 \n",
       "L 2356 3053 \n",
       "L 1172 3053 \n",
       "L 1172 1153 \n",
       "Q 1172 725 1289 603 \n",
       "Q 1406 481 1766 481 \n",
       "L 2356 481 \n",
       "L 2356 0 \n",
       "L 1766 0 \n",
       "Q 1100 0 847 248 \n",
       "Q 594 497 594 1153 \n",
       "L 594 3053 \n",
       "L 172 3053 \n",
       "L 172 3500 \n",
       "L 594 3500 \n",
       "L 594 4494 \n",
       "L 1172 4494 \n",
       "z\n",
       "\" transform=\"scale(0.015625)\"/>\n",
       "      </defs>\n",
       "      <use xlink:href=\"#DejaVuSans-6c\"/>\n",
       "      <use xlink:href=\"#DejaVuSans-65\" x=\"27.783203\"/>\n",
       "      <use xlink:href=\"#DejaVuSans-61\" x=\"89.306641\"/>\n",
       "      <use xlink:href=\"#DejaVuSans-72\" x=\"150.585938\"/>\n",
       "      <use xlink:href=\"#DejaVuSans-6e\" x=\"189.949219\"/>\n",
       "      <use xlink:href=\"#DejaVuSans-20\" x=\"253.328125\"/>\n",
       "      <use xlink:href=\"#DejaVuSans-72\" x=\"285.115234\"/>\n",
       "      <use xlink:href=\"#DejaVuSans-61\" x=\"326.228516\"/>\n",
       "      <use xlink:href=\"#DejaVuSans-74\" x=\"387.507812\"/>\n",
       "      <use xlink:href=\"#DejaVuSans-65\" x=\"426.716797\"/>\n",
       "      <use xlink:href=\"#DejaVuSans-20\" x=\"488.240234\"/>\n",
       "      <use xlink:href=\"#DejaVuSans-30\" x=\"520.027344\"/>\n",
       "      <use xlink:href=\"#DejaVuSans-2e\" x=\"583.650391\"/>\n",
       "      <use xlink:href=\"#DejaVuSans-35\" x=\"615.4375\"/>\n",
       "     </g>\n",
       "    </g>\n",
       "    <g id=\"line2d_28\">\n",
       "     <path d=\"M 267.314063 45.575 \n",
       "L 277.314063 45.575 \n",
       "L 287.314063 45.575 \n",
       "\" style=\"fill: none; stroke-dasharray: 5.55,2.4; stroke-dashoffset: 0; stroke: #bf00bf; stroke-width: 1.5\"/>\n",
       "    </g>\n",
       "    <g id=\"text_16\">\n",
       "     <!-- learn rate 0.3 -->\n",
       "     <g transform=\"translate(295.314063 49.075) scale(0.1 -0.1)\">\n",
       "      <defs>\n",
       "       <path id=\"DejaVuSans-33\" d=\"M 2597 2516 \n",
       "Q 3050 2419 3304 2112 \n",
       "Q 3559 1806 3559 1356 \n",
       "Q 3559 666 3084 287 \n",
       "Q 2609 -91 1734 -91 \n",
       "Q 1441 -91 1130 -33 \n",
       "Q 819 25 488 141 \n",
       "L 488 750 \n",
       "Q 750 597 1062 519 \n",
       "Q 1375 441 1716 441 \n",
       "Q 2309 441 2620 675 \n",
       "Q 2931 909 2931 1356 \n",
       "Q 2931 1769 2642 2001 \n",
       "Q 2353 2234 1838 2234 \n",
       "L 1294 2234 \n",
       "L 1294 2753 \n",
       "L 1863 2753 \n",
       "Q 2328 2753 2575 2939 \n",
       "Q 2822 3125 2822 3475 \n",
       "Q 2822 3834 2567 4026 \n",
       "Q 2313 4219 1838 4219 \n",
       "Q 1578 4219 1281 4162 \n",
       "Q 984 4106 628 3988 \n",
       "L 628 4550 \n",
       "Q 988 4650 1302 4700 \n",
       "Q 1616 4750 1894 4750 \n",
       "Q 2613 4750 3031 4423 \n",
       "Q 3450 4097 3450 3541 \n",
       "Q 3450 3153 3228 2886 \n",
       "Q 3006 2619 2597 2516 \n",
       "z\n",
       "\" transform=\"scale(0.015625)\"/>\n",
       "      </defs>\n",
       "      <use xlink:href=\"#DejaVuSans-6c\"/>\n",
       "      <use xlink:href=\"#DejaVuSans-65\" x=\"27.783203\"/>\n",
       "      <use xlink:href=\"#DejaVuSans-61\" x=\"89.306641\"/>\n",
       "      <use xlink:href=\"#DejaVuSans-72\" x=\"150.585938\"/>\n",
       "      <use xlink:href=\"#DejaVuSans-6e\" x=\"189.949219\"/>\n",
       "      <use xlink:href=\"#DejaVuSans-20\" x=\"253.328125\"/>\n",
       "      <use xlink:href=\"#DejaVuSans-72\" x=\"285.115234\"/>\n",
       "      <use xlink:href=\"#DejaVuSans-61\" x=\"326.228516\"/>\n",
       "      <use xlink:href=\"#DejaVuSans-74\" x=\"387.507812\"/>\n",
       "      <use xlink:href=\"#DejaVuSans-65\" x=\"426.716797\"/>\n",
       "      <use xlink:href=\"#DejaVuSans-20\" x=\"488.240234\"/>\n",
       "      <use xlink:href=\"#DejaVuSans-30\" x=\"520.027344\"/>\n",
       "      <use xlink:href=\"#DejaVuSans-2e\" x=\"583.650391\"/>\n",
       "      <use xlink:href=\"#DejaVuSans-33\" x=\"615.4375\"/>\n",
       "     </g>\n",
       "    </g>\n",
       "    <g id=\"line2d_29\">\n",
       "     <path d=\"M 267.314063 60.253125 \n",
       "L 277.314063 60.253125 \n",
       "L 287.314063 60.253125 \n",
       "\" style=\"fill: none; stroke-dasharray: 9.6,2.4,1.5,2.4; stroke-dashoffset: 0; stroke: #008000; stroke-width: 1.5\"/>\n",
       "    </g>\n",
       "    <g id=\"text_17\">\n",
       "     <!-- learn rate 0.1 -->\n",
       "     <g transform=\"translate(295.314063 63.753125) scale(0.1 -0.1)\">\n",
       "      <use xlink:href=\"#DejaVuSans-6c\"/>\n",
       "      <use xlink:href=\"#DejaVuSans-65\" x=\"27.783203\"/>\n",
       "      <use xlink:href=\"#DejaVuSans-61\" x=\"89.306641\"/>\n",
       "      <use xlink:href=\"#DejaVuSans-72\" x=\"150.585938\"/>\n",
       "      <use xlink:href=\"#DejaVuSans-6e\" x=\"189.949219\"/>\n",
       "      <use xlink:href=\"#DejaVuSans-20\" x=\"253.328125\"/>\n",
       "      <use xlink:href=\"#DejaVuSans-72\" x=\"285.115234\"/>\n",
       "      <use xlink:href=\"#DejaVuSans-61\" x=\"326.228516\"/>\n",
       "      <use xlink:href=\"#DejaVuSans-74\" x=\"387.507812\"/>\n",
       "      <use xlink:href=\"#DejaVuSans-65\" x=\"426.716797\"/>\n",
       "      <use xlink:href=\"#DejaVuSans-20\" x=\"488.240234\"/>\n",
       "      <use xlink:href=\"#DejaVuSans-30\" x=\"520.027344\"/>\n",
       "      <use xlink:href=\"#DejaVuSans-2e\" x=\"583.650391\"/>\n",
       "      <use xlink:href=\"#DejaVuSans-31\" x=\"615.4375\"/>\n",
       "     </g>\n",
       "    </g>\n",
       "    <g id=\"line2d_30\">\n",
       "     <path d=\"M 267.314063 74.93125 \n",
       "L 277.314063 74.93125 \n",
       "L 287.314063 74.93125 \n",
       "\" style=\"fill: none; stroke-dasharray: 1.5,2.475; stroke-dashoffset: 0; stroke: #ff0000; stroke-width: 1.5\"/>\n",
       "    </g>\n",
       "    <g id=\"text_18\">\n",
       "     <!-- learn rate 0.01 -->\n",
       "     <g transform=\"translate(295.314063 78.43125) scale(0.1 -0.1)\">\n",
       "      <use xlink:href=\"#DejaVuSans-6c\"/>\n",
       "      <use xlink:href=\"#DejaVuSans-65\" x=\"27.783203\"/>\n",
       "      <use xlink:href=\"#DejaVuSans-61\" x=\"89.306641\"/>\n",
       "      <use xlink:href=\"#DejaVuSans-72\" x=\"150.585938\"/>\n",
       "      <use xlink:href=\"#DejaVuSans-6e\" x=\"189.949219\"/>\n",
       "      <use xlink:href=\"#DejaVuSans-20\" x=\"253.328125\"/>\n",
       "      <use xlink:href=\"#DejaVuSans-72\" x=\"285.115234\"/>\n",
       "      <use xlink:href=\"#DejaVuSans-61\" x=\"326.228516\"/>\n",
       "      <use xlink:href=\"#DejaVuSans-74\" x=\"387.507812\"/>\n",
       "      <use xlink:href=\"#DejaVuSans-65\" x=\"426.716797\"/>\n",
       "      <use xlink:href=\"#DejaVuSans-20\" x=\"488.240234\"/>\n",
       "      <use xlink:href=\"#DejaVuSans-30\" x=\"520.027344\"/>\n",
       "      <use xlink:href=\"#DejaVuSans-2e\" x=\"583.650391\"/>\n",
       "      <use xlink:href=\"#DejaVuSans-30\" x=\"615.4375\"/>\n",
       "      <use xlink:href=\"#DejaVuSans-31\" x=\"679.060547\"/>\n",
       "     </g>\n",
       "    </g>\n",
       "   </g>\n",
       "  </g>\n",
       " </g>\n",
       " <defs>\n",
       "  <clipPath id=\"p3facc6d4d7\">\n",
       "   <rect x=\"43.78125\" y=\"17.798437\" width=\"334.8\" height=\"221.76\"/>\n",
       "  </clipPath>\n",
       " </defs>\n",
       "</svg>\n"
      ],
      "text/plain": [
       "<Figure size 600x400 with 1 Axes>"
      ]
     },
     "metadata": {},
     "output_type": "display_data"
    }
   ],
   "source": [
    "epochs = np.arange(1, num_epochs+1)\n",
    "d2l.plot(epochs, all_lrs, xlabel='epoch num', ylabel='loss', \n",
    "         legend=[f'learn rate {lr}' for lr in lrs],\n",
    "         figsize=(6, 4))"
   ]
  },
  {
   "cell_type": "markdown",
   "metadata": {},
   "source": [
    "&emsp;&emsp;根据上述试验结果，可得到如下结论：\n",
    "1. 学习率过大前期损失值下降快，但是后面不容易收敛\n",
    "2. 学习率太小，损失函数下降慢"
   ]
  },
  {
   "cell_type": "markdown",
   "metadata": {},
   "source": [
    "### 练习3.2.7\n",
    "\n",
    "如果样本个数不能被批量大小整除，`data_iter`函数的行为会有什么变化？"
   ]
  },
  {
   "cell_type": "markdown",
   "metadata": {},
   "source": [
    "**解答：**"
   ]
  },
  {
   "cell_type": "markdown",
   "metadata": {},
   "source": [
    "&emsp;&emsp;如果样本个数不能被批量大小整除，则在最后一个迭代周期中，最后一批次可能包含少于批量大小个样本。在这种情况下，我们只需忽略该批次中多余的样本即可。例如，1000个总样本，batch_size=3，那么最后1个样本会被舍去。"
   ]
  },
  {
   "cell_type": "markdown",
   "metadata": {},
   "source": [
    "## 3.3 线性回归的简洁实现"
   ]
  },
  {
   "cell_type": "markdown",
   "metadata": {},
   "source": [
    "### 练习3.3.1\n",
    "\n",
    "如果将小批量的总损失替换为小批量损失的平均值，需要如何更改学习率？"
   ]
  },
  {
   "cell_type": "markdown",
   "metadata": {},
   "source": [
    "**解答：**"
   ]
  },
  {
   "cell_type": "markdown",
   "metadata": {},
   "source": [
    "&emsp;&emsp;如果将小批量的总损失替换为小批量损失的平均值，则需要将学习率乘以批量大小。这是因为在计算梯度时，我们使用了小批量中所有样本的信息。因此，如果我们将小批量的总损失替换为小批量损失的平均值，则相当于将每个样本的梯度除以批量大小。因此，我们需要将学习率乘以批量大小，以保持相同的更新步长。"
   ]
  },
  {
   "cell_type": "markdown",
   "metadata": {},
   "source": [
    "### 练习3.3.2\n",
    "\n",
    "查看深度学习框架文档，它们提供了哪些损失函数和初始化方法？用Huber损失代替原损失，即\n",
    "$$\n",
    "l(y,y') = \\begin{cases}|y-y'| - \\displaystyle \\frac{\\sigma}{2} & \\text{ if } |y-y'| > \\sigma \\\\ \n",
    "\\displaystyle \\frac{1}{2 \\sigma} (y-y')^2 & \\text{ 其它情况}\\end{cases}\n",
    "$$"
   ]
  },
  {
   "cell_type": "markdown",
   "metadata": {},
   "source": [
    "**解答：**"
   ]
  },
  {
   "cell_type": "markdown",
   "metadata": {},
   "source": [
    "&emsp;&emsp;通过查看深度学习框架文档，有以下损失函数\n",
    "（参考链接：https://pytorch.org/docs/2.0/nn.html#loss-functions ）\n",
    "- L1Loss：L1范数损失函数\n",
    "- MSELoss：平均平方误差损失函数\n",
    "- CrossEntropyLoss：交叉熵损失函数\n",
    "- CTCLoss：连接时序分类损失函数\n",
    "- NLLLoss：负对数似然损失函数\n",
    "- PoissonNLLLoss：目标值为泊松分布的负对数似然损失函数\n",
    "- GaussianNLLLoss：目标值为高斯分布的负对数似然损失函数\n",
    "- KLDivLoss：KL散度损失函数\n",
    "- BCELoss：二元交叉熵损失函数\n",
    "- BCEWithLogitsLoss：基于sigmoid的二元交叉熵损失函数\n",
    "- MarginRankingLoss\n",
    "- HingeEmbeddingLoss\n",
    "- MultiLabelMarginLoss：\n",
    "- HuberLoss：基于Huber的损失函数\n",
    "- SmoothL1Loss：L1平滑损失函数\n",
    "- SoftMarginLoss\n",
    "- MultiLabelSoftMarginLoss\n",
    "- CosineEmbeddingLoss\n",
    "- MultiMarginLoss\n",
    "- TripletMarginLoss：三元组损失函数\n",
    "- TripletMarginWithDistanceLoss"
   ]
  },
  {
   "cell_type": "markdown",
   "metadata": {},
   "source": [
    "初始化方法有（参考链接：https://pytorch.org/docs/2.0/nn.init.html ）\n",
    "\n",
    "- calculate_gain(nonlinearity, param=None)：计算对非线性函数增益值\n",
    "- uniform_(tensor, a=0.0, b=1.0)：生成符合均匀分布的值\n",
    "- normal_(tensor, mean=0.0, std=1.0)：生成符合正态分布的值\n",
    "- constant_(tensor, val)：用 val 的值填充输入的张量或变量\n",
    "- ones_(tensor)：用1来填充张量或变量\n",
    "- zeros_(tensor)： 用0来填充张量或变量\n",
    "- eye_(tensor)：用单位矩阵来填充张量或变量\n",
    "- dirac_(tensor, groups=1)：用 Dirac delta 函数来填充{3, 4, 5}维输入张量或变量\n",
    "- xavier_uniform_(tensor, gain=1.0)\n",
    "- xavier_normal_(tensor, gain=1.0)\n",
    "- kaiming_uniform_(tensor, a=0, mode='fan_in', nonlinearity='leaky_relu')：\n",
    "- kaiming_normal_(tensor, a=0, mode='fan_in', nonlinearity='leaky_relu')：\n",
    "- trunc_normal_(tensor, mean=0.0, std=1.0, a=- 2.0, b=2.0)：\n",
    "- orthogonal_(tensor, gain=1)：\n",
    "- sparse_(tensor, sparsity, std=0.01)：将 2 维的输入张量或变量当做稀疏矩阵填充，结果张量中的值采样自 N(0,0.01)"
   ]
  },
  {
   "cell_type": "code",
   "execution_count": 16,
   "metadata": {},
   "outputs": [],
   "source": [
    "import numpy as np\n",
    "import torch\n",
    "from torch.utils import data\n",
    "from d2l import torch as d2l"
   ]
  },
  {
   "cell_type": "code",
   "execution_count": 17,
   "metadata": {},
   "outputs": [],
   "source": [
    "# 生成数据集\n",
    "true_w = torch.tensor([2, -3.4])\n",
    "true_b = 4.2\n",
    "features, labels = d2l.synthetic_data(true_w, true_b, 1000)"
   ]
  },
  {
   "cell_type": "code",
   "execution_count": 18,
   "metadata": {},
   "outputs": [],
   "source": [
    "# 读取数据集\n",
    "def load_array(data_arrays, batch_size, is_train=True):  #@save\n",
    "    \"\"\"构造一个PyTorch数据迭代器\"\"\"\n",
    "    dataset = data.TensorDataset(*data_arrays)\n",
    "    return data.DataLoader(dataset, batch_size, shuffle=is_train)\n",
    "\n",
    "batch_size = 10\n",
    "data_iter = load_array((features, labels), batch_size)"
   ]
  },
  {
   "cell_type": "code",
   "execution_count": 19,
   "metadata": {},
   "outputs": [],
   "source": [
    "# nn是神经网络的缩写\n",
    "from torch import nn\n",
    "\n",
    "net = nn.Sequential(nn.Linear(2, 1))"
   ]
  },
  {
   "cell_type": "code",
   "execution_count": 20,
   "metadata": {},
   "outputs": [],
   "source": [
    "# 使用Huber损失函数\n",
    "loss = nn.HuberLoss()"
   ]
  },
  {
   "cell_type": "code",
   "execution_count": 21,
   "metadata": {},
   "outputs": [],
   "source": [
    "trainer = torch.optim.SGD(net.parameters(), lr=0.03)"
   ]
  },
  {
   "cell_type": "code",
   "execution_count": 22,
   "metadata": {},
   "outputs": [
    {
     "name": "stdout",
     "output_type": "stream",
     "text": [
      "epoch 1, loss 2.346448\n",
      "epoch 2, loss 0.604051\n",
      "epoch 3, loss 0.003751\n"
     ]
    }
   ],
   "source": [
    "num_epochs = 3\n",
    "for epoch in range(num_epochs):\n",
    "    for X, y in data_iter:\n",
    "        l = loss(net(X) ,y)\n",
    "        trainer.zero_grad()\n",
    "        l.backward()\n",
    "        trainer.step()\n",
    "    l = loss(net(features), labels)\n",
    "    print(f'epoch {epoch + 1}, loss {l:f}')"
   ]
  },
  {
   "cell_type": "code",
   "execution_count": 23,
   "metadata": {},
   "outputs": [
    {
     "name": "stdout",
     "output_type": "stream",
     "text": [
      "w的估计误差： tensor([ 0.0357, -0.0612])\n",
      "b的估计误差： tensor([0.0512])\n"
     ]
    }
   ],
   "source": [
    "w = net[0].weight.data\n",
    "print('w的估计误差：', true_w - w.reshape(true_w.shape))\n",
    "b = net[0].bias.data\n",
    "print('b的估计误差：', true_b - b)"
   ]
  },
  {
   "cell_type": "markdown",
   "metadata": {},
   "source": [
    "### 练习3.3.3\n",
    "\n",
    "如何访问线性回归的梯度？"
   ]
  },
  {
   "cell_type": "markdown",
   "metadata": {},
   "source": [
    "**解答：**"
   ]
  },
  {
   "cell_type": "markdown",
   "metadata": {},
   "source": [
    "&emsp;&emsp;要访问线性回归模型的梯度，可以使用自动微分技术。在PyTorch中，可以通过调用`backward()`方法来计算模型参数相对于损失函数的梯度。然后，可以通过访问模型参数的`.grad`属性来获取梯度值。"
   ]
  },
  {
   "cell_type": "code",
   "execution_count": 24,
   "metadata": {},
   "outputs": [
    {
     "name": "stdout",
     "output_type": "stream",
     "text": [
      "w的梯度： tensor([[-0.0009,  0.0628]])\n",
      "b的梯度： tensor([-0.0801])\n"
     ]
    }
   ],
   "source": [
    "w_grad = net[0].weight.grad\n",
    "print('w的梯度：', w_grad)\n",
    "b_grad = net[0].bias.grad\n",
    "print('b的梯度：', b_grad)"
   ]
  },
  {
   "cell_type": "markdown",
   "metadata": {},
   "source": [
    "## 3.4 softmax回归"
   ]
  },
  {
   "cell_type": "markdown",
   "metadata": {},
   "source": [
    "### 练习3.4.1\n",
    "\n",
    "我们可以更深入地探讨指数族与softmax之间的联系。\n",
    "\n",
    "1. 计算softmax交叉熵损失$l(\\mathbf{y},\\hat{\\mathbf{y}})$的二阶导数。\n",
    "2. 计算$\\mathrm{softmax}(\\mathbf{o})$给出的分布方差，并与上面计算的二阶导数匹配。  "
   ]
  },
  {
   "cell_type": "markdown",
   "metadata": {},
   "source": [
    "**解答：**"
   ]
  },
  {
   "cell_type": "markdown",
   "metadata": {},
   "source": [
    "**第1问：**"
   ]
  },
  {
   "cell_type": "markdown",
   "metadata": {},
   "source": [
    "&emsp;&emsp;根据书中第3.4.6.2节\n",
    "> 利用 softmax 的定义，我们得到：\n",
    "$$\n",
    "\\begin{aligned}\n",
    "l(\\mathbf{y}, \\hat{\\mathbf{y}}) &=  - \\sum_{j=1}^q y_j \\log \\frac{\\exp(o_j)}{\\sum_{k=1}^q \\exp(o_k)} \\\\\n",
    "&= \\sum_{j=1}^q y_j \\log \\sum_{k=1}^q \\exp(o_k) - \\sum_{j=1}^q y_j o_j\\\\\n",
    "&= \\log \\sum_{k=1}^q \\exp(o_k) - \\sum_{j=1}^q y_j o_j\n",
    "\\end{aligned}\n",
    "$$\n",
    "> 考虑相对于任何未规范化的预测$o_j$的导数，我们得到：\n",
    "$$\n",
    "\\partial_{o_j} l(\\mathbf{y}, \\hat{\\mathbf{y}}) = \\frac{\\exp(o_j)}{\\sum_{k=1}^q \\exp(o_k)} - y_j = \\mathrm{softmax}(\\mathbf{o})_j - y_j\n",
    "$$\n",
    "> "
   ]
  },
  {
   "cell_type": "markdown",
   "metadata": {},
   "source": [
    "&emsp;&emsp;可计算二阶导数："
   ]
  },
  {
   "cell_type": "markdown",
   "metadata": {},
   "source": [
    "$$\n",
    "\\begin{aligned}\n",
    "\\partial_{o_j}^2 l(\\mathbf{y}, \\hat{\\mathbf{y}}) \n",
    "& = \\frac{\\exp(o_j)*\\sum_{k=1}^q \\exp(o_k)-\\exp(o_j)^2}{(\\sum_{k=1}^q \\exp(o_k))^2} \\\\\n",
    "&= \\mathrm{softmax}(\\mathbf{o})_j - (\\mathrm{softmax}(\\mathbf{o})_j)^2 \\\\\n",
    "&= \\mathrm{softmax}(\\mathbf{o})_j(1-\\mathrm{softmax}(\\mathbf{o})_j)\n",
    "\\end{aligned}\n",
    "$$"
   ]
  },
  {
   "cell_type": "markdown",
   "metadata": {},
   "source": [
    "&emsp;&emsp;其中，$\\mathrm{softmax}(\\mathbf{o})$是由向量$\\mathbf{o}$的元素通过softmax函数计算得到的概率分布。"
   ]
  },
  {
   "cell_type": "markdown",
   "metadata": {},
   "source": [
    "**第2问：**"
   ]
  },
  {
   "cell_type": "markdown",
   "metadata": {},
   "source": [
    "&emsp;&emsp;对于softmax函数$\\mathrm{softmax}(\\mathbf{o})$，其分布方差为：\n",
    "\n",
    "$$ \n",
    "\\begin{aligned} \n",
    "\\mathrm{Var}_{\\mathrm{softmax}(\\mathbf{o})} \n",
    "&= \\sum_{j=1}^q (\\mathrm{softmax}(\\mathbf{o})_j - E[\\mathrm{softmax}(\\mathbf{o})_j])^2 \\\\ \n",
    "&= \\sum_{j=1}^q (\\mathrm{softmax}(\\mathbf{o})_j - \\frac{1}{q}\\sum_{k=1}^q \\mathrm{softmax}(\\mathbf{o})_k)^2 \\\\ \n",
    "&= \\sum_{j=1}^q (\\mathrm{softmax}(\\mathbf{o})_j - \\frac{1}{q})^2 \\\\\n",
    "\\end{aligned} \n",
    "$$"
   ]
  },
  {
   "cell_type": "markdown",
   "metadata": {},
   "source": [
    "### 练习3.4.2\n",
    "\n",
    "假设我们有三个类发生的概率相等，即概率向量是$\\displaystyle (\\frac{1}{3}, \\frac{1}{3}, \\frac{1}{3})$。\n",
    "\n",
    "1. 如果我们尝试为它设计二进制代码，有什么问题？\n",
    "2. 请设计一个更好的编码。提示：如果我们尝试为两个独立的观察结果编码会发生什么？如果我们为$n$个观测值联合编码怎么办？"
   ]
  },
  {
   "cell_type": "markdown",
   "metadata": {},
   "source": [
    "**解答：**"
   ]
  },
  {
   "cell_type": "markdown",
   "metadata": {},
   "source": [
    "**第1问：**"
   ]
  },
  {
   "cell_type": "markdown",
   "metadata": {},
   "source": [
    "&emsp;&emsp;根据题意，三个类发生的概率都是$\\displaystyle \\frac{1}{3}$，使用二进制代码表示，如果使用两个独立的观察结果进行编码，则需要至少两个比特才能区分三个类别。但是，这意味着平均长度为$\\displaystyle \\frac{2}{3}$比特，而不是最优长度$\\log_2 3 \\approx 1.585$比特。"
   ]
  },
  {
   "cell_type": "markdown",
   "metadata": {
    "tags": []
   },
   "source": [
    "**第2问：**"
   ]
  },
  {
   "cell_type": "markdown",
   "metadata": {
    "tags": []
   },
   "source": [
    "&emsp;&emsp;可以使用联合编码来解决这个问题。具体来说，可以将$n$个观测值视为一个$n$元组，并将其映射到一个整数。例如，如果$n=2$，则可以将$(0, 0)$映射到0、$(0, 1)$映射到1、$(1, 0)$映射到2、$(1, 1)$映射到3。这样做的好处是可以使用$\\lceil \\log_2 3 \\rceil = 2$比特来编码三个类别。"
   ]
  },
  {
   "cell_type": "markdown",
   "metadata": {
    "tags": []
   },
   "source": [
    "&emsp;&emsp;对于$n$个观测值，使用长度为$\\displaystyle k=\\left \\lceil \\log_2 {n+2 \\choose 2} \\right \\rceil$的二进制代码来表示$n$个观测值的联合分布。"
   ]
  },
  {
   "cell_type": "markdown",
   "metadata": {},
   "source": [
    "### 练习3.4.3\n",
    "\n",
    "softmax是对上面介绍的映射的误称（虽然深度学习领域中很多人都使用这个名字）。真正的softmax被定义为 $\\mathrm{RealSoftMax}(a, b) = \\log (\\exp(a) + \\exp(b))$。\n",
    "\n",
    "1. 证明 $\\mathrm{RealSoftMax}(a, b) > \\mathrm{max}(a, b)$。\n",
    "2. 证明 $\\lambda^{-1} \\mathrm{RealSoftMax}(\\lambda a, \\lambda b) > \\mathrm{max}(a, b)$ 成立，前提是$\\lambda > 0$。\n",
    "3. 证明对于 $\\lambda \\to \\infty$，有$\\lambda^{-1} \\mathrm{RealSoftMax}(\\lambda a, \\lambda b) \\to \\mathrm{max}(a, b)$。\n",
    "4. softmin会是什么样子？\n",
    "5. 将其扩展到两个以上的数字。"
   ]
  },
  {
   "cell_type": "markdown",
   "metadata": {},
   "source": [
    "**解答：**"
   ]
  },
  {
   "cell_type": "markdown",
   "metadata": {},
   "source": [
    "**第1问：**"
   ]
  },
  {
   "cell_type": "markdown",
   "metadata": {},
   "source": [
    "根据题意可知：\n",
    "$$\n",
    "\\mathrm{RealSoftMax} (a, b) = \\log (\\exp(a) + \\exp(b))\n",
    "$$"
   ]
  },
  {
   "cell_type": "markdown",
   "metadata": {},
   "source": [
    "根据log函数的性质：\n",
    "$$\n",
    "\\log (\\exp(a) + \\exp(b)) > \\log (\\exp(a)) = a \\\\\n",
    "\\log (\\exp(a) + \\exp(b)) > \\log (\\exp(b)) = b\n",
    "$$"
   ]
  },
  {
   "cell_type": "markdown",
   "metadata": {},
   "source": [
    "结合上述两式，可得：\n",
    "$$\n",
    "\\mathrm{RealSoftMax}(a, b) > \\max(a,b)\n",
    "$$"
   ]
  },
  {
   "cell_type": "markdown",
   "metadata": {},
   "source": [
    "**第2问：**"
   ]
  },
  {
   "cell_type": "markdown",
   "metadata": {},
   "source": [
    "$$\n",
    "\\begin{aligned}\n",
    "\\lambda^{-1} \\mathrm{RealSoftMax}(\\lambda a, \\lambda b) \n",
    "&= \\lambda^{-1} \\log (\\exp(\\lambda a) + \\exp(\\lambda b)) \\\\\n",
    "&> \\lambda^{-1} \\log (\\max(\\exp(\\lambda a),\\exp(\\lambda b))) \\\\\n",
    "&= \\log (\\max (e^{\\lambda a \\cdot \\lambda^{-1}}, e^{\\lambda b \\cdot \\lambda^{-1}})) \\\\\n",
    "&= \\log (\\max (e^a, b^a)) \\\\\n",
    "&= \\max(\\log e^a, \\log e^b) \\\\\n",
    "&= \\max(a,b)\n",
    "\\end{aligned}\n",
    "$$"
   ]
  },
  {
   "cell_type": "markdown",
   "metadata": {},
   "source": [
    "因此$\\lambda^{-1} \\mathrm{RealSoftMax}(\\lambda a, \\lambda b) > \\max(a,b)$成立，前提是$\\lambda > 0$。"
   ]
  },
  {
   "cell_type": "markdown",
   "metadata": {},
   "source": [
    "**第3问：**"
   ]
  },
  {
   "cell_type": "markdown",
   "metadata": {},
   "source": [
    "&emsp;&emsp;根据题意，令：\n",
    "$$\n",
    "\\begin{aligned}\n",
    "f(a, b, \\lambda) \n",
    "&= \\lambda^{-1} \\mathrm{RealSoftMax}(\\lambda a, \\lambda b) \\\\\n",
    "&= \\lambda^{-1} \\log (\\exp(\\lambda a) + \\exp(\\lambda b))\n",
    "\\end{aligned}\n",
    "$$"
   ]
  },
  {
   "cell_type": "markdown",
   "metadata": {},
   "source": [
    "&emsp;&emsp;可知：\n",
    "$$\n",
    "\\begin{aligned}\n",
    "f(a, b, \\lambda)\n",
    "&> \\lambda^{-1} \\log (\\exp(\\lambda \\cdot \\max(a, b))) \\\\\n",
    "&= \\log (\\exp(\\lambda \\cdot \\max(a, b) \\cdot \\lambda^{-1} ) ) \\\\\n",
    "&= \\log (\\exp \\max(a, b) ) \\\\\n",
    "&= \\max (a, b)\n",
    "\\end{aligned}\n",
    "$$"
   ]
  },
  {
   "cell_type": "markdown",
   "metadata": {},
   "source": [
    "&emsp;&emsp;又可知：\n",
    "$$\n",
    "\\begin{aligned}\n",
    "f(a, b, \\lambda) \n",
    "&< \\lambda^{-1} \\log (\\exp(2 \\lambda \\cdot \\max(a, b))) \\\\\n",
    "&= \\frac{\\log 2}{\\lambda} + \\max(a, b)\n",
    "\\end{aligned}\n",
    "$$"
   ]
  },
  {
   "cell_type": "markdown",
   "metadata": {},
   "source": [
    "&emsp;&emsp;当$\\lambda \\rightarrow \\infty$ 时\n",
    "$$\n",
    "\\lim_{\\lambda \\rightarrow \\infty} \\frac{\\log 2}{\\lambda} + \\max(a, b) = \\max(a, b)\n",
    "$$"
   ]
  },
  {
   "cell_type": "markdown",
   "metadata": {},
   "source": [
    "&emsp;&emsp;根据夹逼定理，可得\n",
    "$$\n",
    "\\lim_{\\lambda \\rightarrow \\infty} f(a, b, \\lambda) = \\max (a, b)\n",
    "$$"
   ]
  },
  {
   "cell_type": "markdown",
   "metadata": {},
   "source": [
    "&emsp;&emsp;因此对于$\\lambda \\to \\infty$，有$\\lambda^{-1}\\mathrm{RealSoftMax}(\\lambda a,\\lambda b) \\to \\max(a,b)$。"
   ]
  },
  {
   "cell_type": "markdown",
   "metadata": {},
   "source": [
    "**第4问：**"
   ]
  },
  {
   "cell_type": "markdown",
   "metadata": {},
   "source": [
    "&emsp;&emsp;softmin函数是softmax函数的变体，将输入张量的每个元素 $x_i$ 替换为$-x_i$，然后对结果进行归一化。Softmin函数的公式如下：\n",
    "\n",
    "$$\n",
    "\\mathrm{softmin}(x_i) = \\frac{\\exp(-x_i)}{\\sum_j \\exp(-x_j)}\n",
    "$$"
   ]
  },
  {
   "cell_type": "markdown",
   "metadata": {},
   "source": [
    "&emsp;&emsp;与softmax函数类似，softmin函数也可以用于多分类问题。不同之处在于，当输入张量中的元素越大时，softmax函数会使输出概率越大，而softmin函数则会使输出概率越小。"
   ]
  },
  {
   "cell_type": "markdown",
   "metadata": {},
   "source": [
    "**第5问：**"
   ]
  },
  {
   "cell_type": "markdown",
   "metadata": {},
   "source": [
    "&emsp;&emsp;根据题意，多个数字的RealSoftMax函数表示如下：\n",
    "\n",
    "$$\n",
    "\\text{RealSoftMax} (a, b, c, \\cdots) = \\log(\\exp(a) + \\exp(b) + \\exp(c) + \\cdots)\n",
    "$$"
   ]
  },
  {
   "cell_type": "markdown",
   "metadata": {},
   "source": [
    "## 3.5 图像分类数据集"
   ]
  },
  {
   "cell_type": "markdown",
   "metadata": {},
   "source": [
    "### 练习3.5.1\n",
    "\n",
    "减少`batch_size`（如减少到1）是否会影响读取性能？"
   ]
  },
  {
   "cell_type": "markdown",
   "metadata": {},
   "source": [
    "**解答：**"
   ]
  },
  {
   "cell_type": "markdown",
   "metadata": {},
   "source": [
    "&emsp;&emsp;减少`batch_size`可能会影响读取性能。具体来说，当`batch_size`减小时，每个小批量的处理时间将增加，从而导致读取性能下降。此外，较小的批量大小可能会导致内存使用率更高。\n"
   ]
  },
  {
   "cell_type": "markdown",
   "metadata": {},
   "source": [
    "### 练习3.5.2\n",
    "\n",
    "数据迭代器的性能非常重要。当前的实现足够快吗？探索各种选择来改进它。"
   ]
  },
  {
   "cell_type": "markdown",
   "metadata": {},
   "source": [
    "**解答：**"
   ]
  },
  {
   "cell_type": "markdown",
   "metadata": {},
   "source": [
    "&emsp;&emsp;根据书中第3.5.2节\n",
    "> &emsp;&emsp;为了使我们在读取训练集和测试集时更容易，我们使用内置的数据迭代器，而不是从零开始创建。\n",
    "> ```python\n",
    "> batch_size = 256\n",
    ">\n",
    "> def get_dataloader_workers():  #@save\n",
    "    \"\"\"使用4个进程来读取数据\"\"\"\n",
    "    return 4\n",
    ">\n",
    "> train_iter = data.DataLoader(mnist_train, batch_size, shuffle=True,\n",
    ">                             num_workers=get_dataloader_workers())\n",
    "```"
   ]
  },
  {
   "cell_type": "markdown",
   "metadata": {},
   "source": [
    "&emsp;&emsp;书中使用的是PyTorch的DataLoader数据迭代器，数据迭代器的性能对于训练深度学习模型非常重要。当前的实现可能足够快，但是我们可以探索各种选择来改进它。例如，我们可以使用多线程或异步读取来加速数据迭代器。此外，我们还可以使用GPU加速数据预处理和增强。"
   ]
  },
  {
   "cell_type": "markdown",
   "metadata": {},
   "source": [
    "### 练习3.5.3\n",
    "\n",
    "查阅框架的在线API文档。还有哪些其他数据集可用？"
   ]
  },
  {
   "cell_type": "markdown",
   "metadata": {},
   "source": [
    "**解答：**"
   ]
  },
  {
   "cell_type": "markdown",
   "metadata": {},
   "source": [
    "&emsp;&emsp;通过查阅框架的在线API文档（参考链接：https://pytorch.org/vision/stable/datasets.html#built-in-datasets ），可以得到很多标准数据集，包括图像分类（Image classification）、图像检测或分割（Image detection or segmentation）、光流（Optical Flow）、立体声匹配（Stereo Matching）、图像对（Image pairs）、图片字幕（Image captioning）、视频分类（Video classification）、视频预测（Video prediction）。"
   ]
  },
  {
   "cell_type": "markdown",
   "metadata": {},
   "source": [
    "&emsp;&emsp;例如MNIST、CIFAR-10和ImageNet等。此外，还有许多其他数据集可用于特定领域的任务。"
   ]
  },
  {
   "cell_type": "markdown",
   "metadata": {},
   "source": [
    "## 3.6 softmax回归的从零开始实现"
   ]
  },
  {
   "cell_type": "markdown",
   "metadata": {},
   "source": [
    "### 练习3.6.1\n",
    "\n",
    "本节直接实现了基于数学定义softmax运算的`softmax`函数。这可能会导致什么问题？提示：尝试计算$\\exp(50)$的大小。"
   ]
  },
  {
   "cell_type": "markdown",
   "metadata": {},
   "source": [
    "**解答：**"
   ]
  },
  {
   "cell_type": "markdown",
   "metadata": {},
   "source": [
    "&emsp;&emsp;根据题意，使用书中实现的`softmax`函数"
   ]
  },
  {
   "cell_type": "code",
   "execution_count": 25,
   "metadata": {},
   "outputs": [],
   "source": [
    "def softmax(X):\n",
    "    X_exp = np.exp(X)\n",
    "    partition = X_exp.sum(1, keepdims=True)\n",
    "    return X_exp / partition  # 这里应用了广播机制"
   ]
  },
  {
   "cell_type": "code",
   "execution_count": 26,
   "metadata": {},
   "outputs": [],
   "source": [
    "try:\n",
    "    softmax(np.array([[50]]))\n",
    "except Exception as e:\n",
    "    print(e)"
   ]
  },
  {
   "cell_type": "markdown",
   "metadata": {},
   "source": [
    "&emsp;&emsp;由于指数函数的值域是 $(0,\\infty)$，因此可能会出现数值上溢的问题。这就是说，由于 $\\exp(50)$ 的结果非常大，它可能超出计算机所能表示的范围，从而被近似为无穷大（inf）。这会带来一些问题，例如在反向传播时可能会出现NaN（不是数字）的情况。解决这个问题的一种常用技巧是，在计算softmax之前，先从所有输入中减去输入中的最大值。这样可以确保指数函数的输入不会太大而导致数值上溢。"
   ]
  },
  {
   "cell_type": "markdown",
   "metadata": {},
   "source": [
    "### 练习3.6.2\n",
    "\n",
    "本节中的函数`cross_entropy`是根据交叉熵损失函数的定义实现的。它可能有什么问题？提示：考虑对数的定义域。"
   ]
  },
  {
   "cell_type": "markdown",
   "metadata": {},
   "source": [
    "**解答：**"
   ]
  },
  {
   "cell_type": "markdown",
   "metadata": {},
   "source": [
    "&emsp;&emsp;交叉熵损失函数定义了log函数。当模型预测概率为0时，log函数的值为负无穷。因此，在实际计算时，通常忽略预测概率接近0的样本对损失函数的贡献。这可能会导致模型欠拟合，并且在训练过程中难以收敛。"
   ]
  },
  {
   "cell_type": "markdown",
   "metadata": {},
   "source": [
    "### 练习3.6.3\n",
    "\n",
    "请提出一个解决方案来解决上述两个问题。"
   ]
  },
  {
   "cell_type": "markdown",
   "metadata": {},
   "source": [
    "**解答：**"
   ]
  },
  {
   "cell_type": "markdown",
   "metadata": {},
   "source": [
    "&emsp;&emsp;解决第一个问题的方法是使用PyTorch框架中实现的softmax方法（`torch.nn.functional.softmax`），先通过减去输入向量中的元素最大值来缩放softmax运算的输出。解决第二个问题的方法是使用PyTorch框架中实现的交叉熵损失函数（`torch.nn.CrossEntropyLoss`）。"
   ]
  },
  {
   "cell_type": "markdown",
   "metadata": {},
   "source": [
    "### 练习3.6.4\n",
    "\n",
    "返回概率最大的分类标签总是最优解吗？例如，医疗诊断场景下可以这样做吗？"
   ]
  },
  {
   "cell_type": "markdown",
   "metadata": {},
   "source": [
    "**解答：**"
   ]
  },
  {
   "cell_type": "markdown",
   "metadata": {},
   "source": [
    "&emsp;&emsp;在某些情况下，返回概率最大的分类标签可能不是最优解。例如，在医疗诊断场景下，我们更关心误诊率和漏诊率等错误类型之间的权衡，并且尽可能避免小概率事件的发生。"
   ]
  },
  {
   "cell_type": "markdown",
   "metadata": {},
   "source": [
    "### 练习3.6.5\n",
    "\n",
    "假设我们使用softmax回归来预测下一个单词，可选取的单词数过多可能会带来哪些问题?"
   ]
  },
  {
   "cell_type": "markdown",
   "metadata": {},
   "source": [
    "**解答：**"
   ]
  },
  {
   "cell_type": "markdown",
   "metadata": {},
   "source": [
    "&emsp;&emsp;根据题意可知，如果可选取单词数量过多，有以下问题：\n",
    "1. 单词量过大，会导致计算的复杂度增加\n",
    "2. 需要计算更多模型参数，并会导致模型复杂度增加\n",
    "3. 所有的单词所得概率容易接近0，导致难以判断输出结果\n",
    "4. 在训练期间需要处理更多数据，并且预测时间也会变得更长"
   ]
  },
  {
   "cell_type": "markdown",
   "metadata": {},
   "source": [
    "## 3.7 softmax回归的简洁实现"
   ]
  },
  {
   "cell_type": "markdown",
   "metadata": {},
   "source": [
    "### 练习3.7.1\n",
    "\n",
    "尝试调整超参数，例如批量大小、迭代周期数和学习率，并查看结果。"
   ]
  },
  {
   "cell_type": "markdown",
   "metadata": {},
   "source": [
    "**解答：**"
   ]
  },
  {
   "cell_type": "code",
   "execution_count": 27,
   "metadata": {
    "tags": []
   },
   "outputs": [],
   "source": [
    "import torch\n",
    "from torch import nn\n",
    "from d2l import torch as d2l"
   ]
  },
  {
   "cell_type": "code",
   "execution_count": 28,
   "metadata": {
    "tags": []
   },
   "outputs": [],
   "source": [
    "# PyTorch不会隐式地调整输入的形状。因此，\n",
    "# 我们在线性层前定义了展平层（flatten），来调整网络输入的形状\n",
    "net = nn.Sequential(nn.Flatten(), nn.Linear(784, 10))\n",
    "\n",
    "def init_weights(m):\n",
    "    if type(m) == nn.Linear:\n",
    "        nn.init.normal_(m.weight, std=0.01)\n",
    "\n",
    "net.apply(init_weights);"
   ]
  },
  {
   "cell_type": "code",
   "execution_count": 29,
   "metadata": {
    "tags": []
   },
   "outputs": [],
   "source": [
    "# 设置损失函数\n",
    "loss = nn.CrossEntropyLoss(reduction='none')\n",
    "\n",
    "# 设置优化器\n",
    "trainer = torch.optim.SGD(net.parameters(), lr=0.1)"
   ]
  },
  {
   "cell_type": "code",
   "execution_count": 30,
   "metadata": {
    "tags": []
   },
   "outputs": [
    {
     "ename": "AttributeError",
     "evalue": "module 'd2l.torch' has no attribute 'train_ch3'",
     "output_type": "error",
     "traceback": [
      "\u001b[1;31m---------------------------------------------------------------------------\u001b[0m",
      "\u001b[1;31mAttributeError\u001b[0m                            Traceback (most recent call last)",
      "File \u001b[1;32m<timed exec>:6\u001b[0m\n",
      "\u001b[1;31mAttributeError\u001b[0m: module 'd2l.torch' has no attribute 'train_ch3'"
     ]
    }
   ],
   "source": [
    "%%time\n",
    "num_epochs = 10\n",
    "batch_size = 256\n",
    "\n",
    "train_iter, test_iter = d2l.load_data_fashion_mnist(batch_size)\n",
    "\n",
    "d2l.train_ch3(net, train_iter, test_iter, loss, num_epochs, trainer)"
   ]
  },
  {
   "cell_type": "code",
   "execution_count": 31,
   "metadata": {
    "tags": []
   },
   "outputs": [
    {
     "ename": "AttributeError",
     "evalue": "module 'd2l.torch' has no attribute 'train_ch3'",
     "output_type": "error",
     "traceback": [
      "\u001b[1;31m---------------------------------------------------------------------------\u001b[0m",
      "\u001b[1;31mAttributeError\u001b[0m                            Traceback (most recent call last)",
      "File \u001b[1;32m<timed exec>:7\u001b[0m\n",
      "\u001b[1;31mAttributeError\u001b[0m: module 'd2l.torch' has no attribute 'train_ch3'"
     ]
    }
   ],
   "source": [
    "%%time\n",
    "net.apply(init_weights);\n",
    "num_epochs = 100\n",
    "batch_size = 256\n",
    "\n",
    "train_iter, test_iter = d2l.load_data_fashion_mnist(batch_size)\n",
    "\n",
    "d2l.train_ch3(net, train_iter, test_iter, loss, num_epochs, trainer)"
   ]
  },
  {
   "cell_type": "code",
   "execution_count": 32,
   "metadata": {
    "tags": []
   },
   "outputs": [
    {
     "ename": "AttributeError",
     "evalue": "module 'd2l.torch' has no attribute 'train_ch3'",
     "output_type": "error",
     "traceback": [
      "\u001b[1;31m---------------------------------------------------------------------------\u001b[0m",
      "\u001b[1;31mAttributeError\u001b[0m                            Traceback (most recent call last)",
      "File \u001b[1;32m<timed exec>:7\u001b[0m\n",
      "\u001b[1;31mAttributeError\u001b[0m: module 'd2l.torch' has no attribute 'train_ch3'"
     ]
    }
   ],
   "source": [
    "%%time\n",
    "net.apply(init_weights);\n",
    "num_epochs = 10\n",
    "batch_size = 16\n",
    "\n",
    "train_iter, test_iter = d2l.load_data_fashion_mnist(batch_size)\n",
    "\n",
    "d2l.train_ch3(net, train_iter, test_iter, loss, num_epochs, trainer)"
   ]
  },
  {
   "cell_type": "code",
   "execution_count": 33,
   "metadata": {
    "tags": []
   },
   "outputs": [
    {
     "ename": "AttributeError",
     "evalue": "module 'd2l.torch' has no attribute 'train_ch3'",
     "output_type": "error",
     "traceback": [
      "\u001b[1;31m---------------------------------------------------------------------------\u001b[0m",
      "\u001b[1;31mAttributeError\u001b[0m                            Traceback (most recent call last)",
      "File \u001b[1;32m<timed exec>:7\u001b[0m\n",
      "\u001b[1;31mAttributeError\u001b[0m: module 'd2l.torch' has no attribute 'train_ch3'"
     ]
    }
   ],
   "source": [
    "%%time\n",
    "net.apply(init_weights);\n",
    "num_epochs = 10\n",
    "batch_size = 64\n",
    "\n",
    "train_iter, test_iter = d2l.load_data_fashion_mnist(batch_size)\n",
    "\n",
    "d2l.train_ch3(net, train_iter, test_iter, loss, num_epochs, trainer)"
   ]
  },
  {
   "cell_type": "code",
   "execution_count": 34,
   "metadata": {
    "tags": []
   },
   "outputs": [
    {
     "ename": "AttributeError",
     "evalue": "module 'd2l.torch' has no attribute 'train_ch3'",
     "output_type": "error",
     "traceback": [
      "\u001b[1;31m---------------------------------------------------------------------------\u001b[0m",
      "\u001b[1;31mAttributeError\u001b[0m                            Traceback (most recent call last)",
      "File \u001b[1;32m<timed exec>:7\u001b[0m\n",
      "\u001b[1;31mAttributeError\u001b[0m: module 'd2l.torch' has no attribute 'train_ch3'"
     ]
    }
   ],
   "source": [
    "%%time\n",
    "net.apply(init_weights);\n",
    "num_epochs = 10\n",
    "batch_size = 128\n",
    "\n",
    "train_iter, test_iter = d2l.load_data_fashion_mnist(batch_size)\n",
    "\n",
    "d2l.train_ch3(net, train_iter, test_iter, loss, num_epochs, trainer)"
   ]
  },
  {
   "cell_type": "code",
   "execution_count": 35,
   "metadata": {
    "tags": []
   },
   "outputs": [
    {
     "ename": "AttributeError",
     "evalue": "module 'd2l.torch' has no attribute 'train_ch3'",
     "output_type": "error",
     "traceback": [
      "\u001b[1;31m---------------------------------------------------------------------------\u001b[0m",
      "\u001b[1;31mAttributeError\u001b[0m                            Traceback (most recent call last)",
      "File \u001b[1;32m<timed exec>:7\u001b[0m\n",
      "\u001b[1;31mAttributeError\u001b[0m: module 'd2l.torch' has no attribute 'train_ch3'"
     ]
    }
   ],
   "source": [
    "%%time\n",
    "net.apply(init_weights);\n",
    "num_epochs = 20\n",
    "batch_size = 1024\n",
    "\n",
    "train_iter, test_iter = d2l.load_data_fashion_mnist(batch_size)\n",
    "\n",
    "d2l.train_ch3(net, train_iter, test_iter, loss, num_epochs, trainer)"
   ]
  },
  {
   "cell_type": "code",
   "execution_count": 36,
   "metadata": {
    "tags": []
   },
   "outputs": [
    {
     "ename": "AttributeError",
     "evalue": "module 'd2l.torch' has no attribute 'train_ch3'",
     "output_type": "error",
     "traceback": [
      "\u001b[1;31m---------------------------------------------------------------------------\u001b[0m",
      "\u001b[1;31mAttributeError\u001b[0m                            Traceback (most recent call last)",
      "File \u001b[1;32m<timed exec>:7\u001b[0m\n",
      "\u001b[1;31mAttributeError\u001b[0m: module 'd2l.torch' has no attribute 'train_ch3'"
     ]
    }
   ],
   "source": [
    "%%time\n",
    "net.apply(init_weights);\n",
    "num_epochs = 20\n",
    "batch_size = 128\n",
    "\n",
    "train_iter, test_iter = d2l.load_data_fashion_mnist(batch_size)\n",
    "\n",
    "d2l.train_ch3(net, train_iter, test_iter, loss, num_epochs, trainer)"
   ]
  },
  {
   "cell_type": "code",
   "execution_count": 37,
   "metadata": {
    "tags": []
   },
   "outputs": [
    {
     "ename": "AttributeError",
     "evalue": "module 'd2l.torch' has no attribute 'train_ch3'",
     "output_type": "error",
     "traceback": [
      "\u001b[1;31m---------------------------------------------------------------------------\u001b[0m",
      "\u001b[1;31mAttributeError\u001b[0m                            Traceback (most recent call last)",
      "File \u001b[1;32m<timed exec>:12\u001b[0m\n",
      "\u001b[1;31mAttributeError\u001b[0m: module 'd2l.torch' has no attribute 'train_ch3'"
     ]
    }
   ],
   "source": [
    "%%time\n",
    "# 设置损失函数\n",
    "loss = nn.CrossEntropyLoss(reduction='none')\n",
    "# 设置优化器\n",
    "trainer = torch.optim.SGD(net.parameters(), lr=0.1)\n",
    "\n",
    "net.apply(init_weights);\n",
    "num_epochs = 10\n",
    "batch_size = 256\n",
    "\n",
    "train_iter, test_iter = d2l.load_data_fashion_mnist(batch_size)\n",
    "\n",
    "d2l.train_ch3(net, train_iter, test_iter, loss, num_epochs, trainer)"
   ]
  },
  {
   "cell_type": "code",
   "execution_count": 38,
   "metadata": {
    "tags": []
   },
   "outputs": [
    {
     "name": "stdout",
     "output_type": "stream",
     "text": [
      "module 'd2l.torch' has no attribute 'train_ch3'\n",
      "CPU times: total: 984 ms\n",
      "Wall time: 114 ms\n"
     ]
    }
   ],
   "source": [
    "%%time\n",
    "try:\n",
    "    # 设置损失函数\n",
    "    loss = nn.CrossEntropyLoss(reduction='none')\n",
    "    # 设置优化器\n",
    "    trainer = torch.optim.SGD(net.parameters(), lr=1)\n",
    "\n",
    "    net.apply(init_weights);\n",
    "    num_epochs = 10\n",
    "    batch_size = 256\n",
    "\n",
    "    train_iter, test_iter = d2l.load_data_fashion_mnist(batch_size)\n",
    "\n",
    "    d2l.train_ch3(net, train_iter, test_iter, loss, num_epochs, trainer)\n",
    "except Exception as e:\n",
    "    print(e)"
   ]
  },
  {
   "cell_type": "code",
   "execution_count": 39,
   "metadata": {
    "tags": []
   },
   "outputs": [
    {
     "name": "stdout",
     "output_type": "stream",
     "text": [
      "module 'd2l.torch' has no attribute 'train_ch3'\n",
      "CPU times: total: 812 ms\n",
      "Wall time: 116 ms\n"
     ]
    }
   ],
   "source": [
    "%%time\n",
    "try:\n",
    "    # 设置损失函数\n",
    "    loss = nn.CrossEntropyLoss(reduction='none')\n",
    "    # 设置优化器\n",
    "    trainer = torch.optim.SGD(net.parameters(), lr=1)\n",
    "\n",
    "    net.apply(init_weights);\n",
    "    num_epochs = 100\n",
    "    batch_size = 256\n",
    "\n",
    "    train_iter, test_iter = d2l.load_data_fashion_mnist(batch_size)\n",
    "\n",
    "    d2l.train_ch3(net, train_iter, test_iter, loss, num_epochs, trainer)\n",
    "except Exception as e:\n",
    "    print(e)"
   ]
  },
  {
   "cell_type": "code",
   "execution_count": 40,
   "metadata": {
    "tags": []
   },
   "outputs": [
    {
     "name": "stdout",
     "output_type": "stream",
     "text": [
      "module 'd2l.torch' has no attribute 'train_ch3'\n",
      "CPU times: total: 750 ms\n",
      "Wall time: 98.5 ms\n"
     ]
    }
   ],
   "source": [
    "%%time\n",
    "try:\n",
    "    # 设置损失函数\n",
    "    loss = nn.CrossEntropyLoss(reduction='none')\n",
    "    # 设置优化器\n",
    "    trainer = torch.optim.SGD(net.parameters(), lr=0.01)\n",
    "\n",
    "    net.apply(init_weights);\n",
    "    num_epochs = 10\n",
    "    batch_size = 256\n",
    "\n",
    "    train_iter, test_iter = d2l.load_data_fashion_mnist(batch_size)\n",
    "\n",
    "    d2l.train_ch3(net, train_iter, test_iter, loss, num_epochs, trainer)\n",
    "except Exception as e:\n",
    "    print(e)"
   ]
  },
  {
   "cell_type": "code",
   "execution_count": 41,
   "metadata": {
    "tags": []
   },
   "outputs": [
    {
     "name": "stdout",
     "output_type": "stream",
     "text": [
      "module 'd2l.torch' has no attribute 'train_ch3'\n",
      "CPU times: total: 859 ms\n",
      "Wall time: 101 ms\n"
     ]
    }
   ],
   "source": [
    "%%time\n",
    "try:\n",
    "    # 设置损失函数\n",
    "    loss = nn.CrossEntropyLoss(reduction='none')\n",
    "    # 设置优化器\n",
    "    trainer = torch.optim.SGD(net.parameters(), lr=0.001)\n",
    "\n",
    "    net.apply(init_weights);\n",
    "    num_epochs = 10\n",
    "    batch_size = 256\n",
    "\n",
    "    train_iter, test_iter = d2l.load_data_fashion_mnist(batch_size)\n",
    "\n",
    "    d2l.train_ch3(net, train_iter, test_iter, loss, num_epochs, trainer)\n",
    "except Exception as e:\n",
    "    print(e)"
   ]
  },
  {
   "cell_type": "code",
   "execution_count": 42,
   "metadata": {
    "tags": []
   },
   "outputs": [
    {
     "name": "stdout",
     "output_type": "stream",
     "text": [
      "module 'd2l.torch' has no attribute 'train_ch3'\n",
      "CPU times: total: 578 ms\n",
      "Wall time: 90.2 ms\n"
     ]
    }
   ],
   "source": [
    "%%time\n",
    "try:\n",
    "    # 设置损失函数\n",
    "    loss = nn.CrossEntropyLoss(reduction='none')\n",
    "    # 设置优化器\n",
    "    trainer = torch.optim.SGD(net.parameters(), lr=0.001)\n",
    "\n",
    "    net.apply(init_weights);\n",
    "    num_epochs = 100\n",
    "    batch_size = 256\n",
    "\n",
    "    train_iter, test_iter = d2l.load_data_fashion_mnist(batch_size)\n",
    "\n",
    "    d2l.train_ch3(net, train_iter, test_iter, loss, num_epochs, trainer)\n",
    "except Exception as e:\n",
    "    print(e)"
   ]
  },
  {
   "cell_type": "code",
   "execution_count": 43,
   "metadata": {},
   "outputs": [
    {
     "name": "stdout",
     "output_type": "stream",
     "text": [
      "module 'd2l.torch' has no attribute 'train_ch3'\n",
      "CPU times: total: 609 ms\n",
      "Wall time: 79.5 ms\n"
     ]
    }
   ],
   "source": [
    "%%time\n",
    "try:\n",
    "    # 设置损失函数\n",
    "    loss = nn.CrossEntropyLoss(reduction='none')\n",
    "    # 设置优化器\n",
    "    trainer = torch.optim.SGD(net.parameters(), lr=0.0001)\n",
    "\n",
    "    net.apply(init_weights);\n",
    "    num_epochs = 10\n",
    "    batch_size = 256\n",
    "\n",
    "    train_iter, test_iter = d2l.load_data_fashion_mnist(batch_size)\n",
    "\n",
    "    d2l.train_ch3(net, train_iter, test_iter, loss, num_epochs, trainer)\n",
    "except Exception as e:\n",
    "    print(e)"
   ]
  },
  {
   "cell_type": "markdown",
   "metadata": {},
   "source": [
    "&emsp;&emsp;通过实验，我们发现：\n",
    "1. 学习率越小，收敛越慢，同时可能存在局部收敛的问题，影响训练精度。\n",
    "2. 轮数越多，一般效果越好，但可能因为训练精度已收敛，会花费不必要的训练时间。\n",
    "3. `batch_size`越大，训练时间越短，但是可能会影响训练精度，并且`batch_size`与机器相关，使用`GPU`训练时，显存较小可能无法满足大`batch_size`训练。"
   ]
  },
  {
   "cell_type": "markdown",
   "metadata": {},
   "source": [
    "### 练习3.7.2\n",
    "\n",
    "增加轮数，为什么测试精度会在一段时间后降低？我们怎么解决这个问题？"
   ]
  },
  {
   "cell_type": "markdown",
   "metadata": {},
   "source": [
    "**解答：**"
   ]
  },
  {
   "cell_type": "markdown",
   "metadata": {},
   "source": [
    "&emsp;&emsp;增加迭代周期的数量可能会导致过拟合，从而导致测试精度下降。具体来说，当我们增加迭代周期的数量时，模型可能会开始学习到一些只能满足训练样本的非共性特征（这些更多是一种偶然性特征，不适用于测试样本），从而导致过拟合。为了解决这个问题，可以使用早停技术或正则化技术。早停技术是指在模型出现过拟合时（测试集表现开始下降）停止训练。正则化技术是指通过向损失函数添加惩罚项来限制模型参数的大小，从而减少过拟合。"
   ]
  }
 ],
 "metadata": {
  "kernelspec": {
   "display_name": "Python 3 (ipykernel)",
   "language": "python",
   "name": "python3"
  },
  "language_info": {
   "codemirror_mode": {
    "name": "ipython",
    "version": 3
   },
   "file_extension": ".py",
   "mimetype": "text/x-python",
   "name": "python",
   "nbconvert_exporter": "python",
   "pygments_lexer": "ipython3",
   "version": "3.10.13"
  }
 },
 "nbformat": 4,
 "nbformat_minor": 4
}
