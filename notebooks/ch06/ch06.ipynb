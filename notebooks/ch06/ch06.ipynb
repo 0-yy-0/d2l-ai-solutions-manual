{
  "cells": [
    {
      "cell_type": "markdown",
      "metadata": {
        "collapsed": true,
        "id": "huFZurQ5H6Ge"
      },
      "source": [
        "# 第6章 卷积神经网络"
      ]
    },
    {
      "cell_type": "markdown",
      "metadata": {
        "id": "cdtYxLrmH6Gf"
      },
      "source": [
        "## 6.1 从全连接层到卷积"
      ]
    },
    {
      "cell_type": "markdown",
      "metadata": {
        "id": "fHXEMzORH6Gg"
      },
      "source": [
        "### 练习 6.1.1\n",
        "\n",
        "假设卷积层(6.3)覆盖的局部区域$\\Delta = 0$。在这种情况下，证明卷积内核为每组通道独立地实现一个全连接层。"
      ]
    },
    {
      "cell_type": "markdown",
      "metadata": {
        "id": "QJmj0EV6H6Gg"
      },
      "source": [
        "**解答：** "
      ]
    },
    {
      "cell_type": "markdown",
      "metadata": {
        "id": "xPSRZGQ_H6Gg"
      },
      "source": [
        "&emsp;&emsp;局部区域$\\Delta=0$ 表示卷积核的大小等于输入的大小。实际就是问，1×1的卷积核是否等价于全连接（参见本书7.3节：NiN网络结构）。因此，每个卷积核只能覆盖一个像素点，在这种情况下，卷积层的计算方式与全连接层非常相似。因为每个卷积核只能看到一个通道的信息，相当于每个卷积核只是一个全连接层的权重矩阵。 所以，卷积内核可以看作是每组通道独立地实现一个全连接层。每个卷积核都有自己的权重，每个输入通道都被独立处理，输出通道是各个输入通道的加权和。这种独立处理的方式有效地减少了权重的数量，从而降低了计算成本，并且能够提取出输入数据中的空间特征。"
      ]
    },
    {
      "cell_type": "code",
      "execution_count": null,
      "metadata": {
        "id": "KDK67aUiH6Gg",
        "outputId": "7a6b52e0-493d-421f-ad12-6258356a3399"
      },
      "outputs": [],
      "source": [
        "# 代码验证\n",
        "import torch\n",
        "import torch.nn as nn\n",
        "\n",
        "\n",
        "# 定义一个神经网络类MyNet1，继承自nn.Module\n",
        "class MyNet1(nn.Module):\n",
        "    def __init__(self, linear1, linear2):\n",
        "        super(MyNet1, self).__init__()\n",
        "        # 初始化两个线性层\n",
        "        self.linear1 = linear1\n",
        "        self.linear2 = linear2\n",
        "\n",
        "    def forward(self, X):\n",
        "        # 定义前向传播过程：先展平输入X，然后通过两个线性层\n",
        "        return self.linear2(self.linear1(nn.Flatten()(X)))\n",
        "\n",
        "\n",
        "# 定义另一个神经网络类MyNet2，也继承自nn.Module\n",
        "class MyNet2(nn.Module):\n",
        "    def __init__(self, linear, conv2d):\n",
        "        super(MyNet2, self).__init__()\n",
        "        # 初始化一个线性层和一个卷积层\n",
        "        self.linear = linear\n",
        "        self.conv2d = conv2d\n",
        "\n",
        "    def forward(self, X):\n",
        "        # 定义前向传播过程\n",
        "        X = self.linear(nn.Flatten()(X))  # 先展平输入X，然后通过线性层\n",
        "        X = X.reshape(X.shape[0], -1, 1, 1)  # 调整X的形状以适应卷积层的输入\n",
        "        X = nn.Flatten()(self.conv2d(X))  # 通过卷积层，然后再次展平\n",
        "        return X\n",
        "\n",
        "\n",
        "# 初始化线性层和卷积层\n",
        "linear1 = nn.Linear(15, 10)\n",
        "linear2 = nn.Linear(10, 5)\n",
        "conv2d = nn.Conv2d(10, 5, 1)\n",
        "\n",
        "# 将卷积层的权重和偏置参数重塑并分别赋值给linear2的权重和偏置\n",
        "linear2.weight = nn.Parameter(conv2d.weight.reshape(linear2.weight.shape))\n",
        "linear2.bias = nn.Parameter(conv2d.bias)\n",
        "\n",
        "# 实例化两个网络\n",
        "net1 = MyNet1(linear1, linear2)\n",
        "net2 = MyNet2(linear1, conv2d)\n",
        "\n",
        "# 创建一个随机输入张量X\n",
        "X = torch.randn(2, 3, 5)\n",
        "# 打印两个网络对同一输入X的输出结果\n",
        "# 两个结果实际存在一定的误差，直接print(net1(X) == net2(X))得到的结果不全是True\n",
        "print(net1(X))\n",
        "print(net2(X))"
      ]
    },
    {
      "cell_type": "markdown",
      "metadata": {
        "id": "BX-MU4UWH6Gi"
      },
      "source": [
        "### 练习 6.1.2\n",
        "\n",
        "为什么平移不变性可能也不是好主意呢？"
      ]
    },
    {
      "cell_type": "markdown",
      "metadata": {
        "id": "GjZs5ROiH6Gi"
      },
      "source": [
        "**解答：** "
      ]
    },
    {
      "cell_type": "markdown",
      "metadata": {
        "id": "nVHNkPmfH6Gi"
      },
      "source": [
        "&emsp;&emsp;平移不变性是一种在信号处理和图像分析中常见的特性，尤其是在卷积神经网络（`CNNs`）中。它意味着一个系统或函数对输入数据的平移是不变的，即如果输入数据发生平移，输出不会改变。这对于很多应用来说是有益的，比如在图像识别中，无论物体在图像中的位置如何，模型都能识别它。\\\n",
        "&emsp;&emsp;平移不变性可能也存在一些局限性或不足之处：\\\n",
        "&emsp;&emsp;1.丢失空间信息：当模型对位置不敏感时，它可能无法识别对象的确切位置或对象之间的空间关系。在某些任务中，如场景理解或对象定位，这种空间信息非常重要。\\\n",
        "&emsp;&emsp;2.不适用于所有任务：对于一些特定的任务，如图像中文本的识别或布局分析，平移不变性可能不是一个理想的特性，因为这些任务需要对位置和排列非常敏感。\\\n",
        "&emsp;&emsp;3.过度泛化：平移不变性可能导致模型过度泛化，无法识别某些应该被视为不同的模式或对象。例如，在医学成像分析中，肿瘤的确切位置对于诊断至关重要。\\\n",
        "&emsp;&emsp;4.缩放和旋转问题：虽然平移不变性处理位置的变化，但它不处理缩放或旋转，这可能是图像识别中的关键因素。\\\n",
        "&emsp;&emsp;5.计算效率：为了实现平移不变性，卷积网络通常需要更多的参数和计算资源，这可能导致效率低下，尤其是在资源受限的环境中。\\\n",
        "&emsp;&emsp;6.局部性限制：平移不变性通常通过局部感受野实现，这可能限制模型捕捉长距离依赖或大尺度结构的能力。\n",
        "\n",
        "&emsp;&emsp;参考：[https://arxiv.org/pdf/1805.12177.pdf](https://arxiv.org/pdf/1805.12177.pdf)"
      ]
    },
    {
      "cell_type": "markdown",
      "metadata": {
        "id": "AwOkiEoTH6Gj"
      },
      "source": [
        "### 练习 6.1.3\n",
        "\n",
        "当从图像边界像素获取隐藏表示时，我们需要思考哪些问题？"
      ]
    },
    {
      "cell_type": "markdown",
      "metadata": {
        "id": "m-VNPxDKH6Gj"
      },
      "source": [
        "**解答：** "
      ]
    },
    {
      "cell_type": "markdown",
      "metadata": {
        "id": "n5z7Gh2xH6Gj"
      },
      "source": [
        "&emsp;&emsp;考虑是否填充`padding`，以及填充多大的`padding`的问题。可以使用`torch.nn`模块中的`functional.pad`函数对图像进行填充操作，以保证边界像素的信息完整。填充后还需要进行额外的处理，例如使用图像复制、填充、平滑等方法来获取隐藏表示。"
      ]
    },
    {
      "cell_type": "markdown",
      "metadata": {
        "id": "jmJosLlWH6Gj"
      },
      "source": [
        "### 练习 6.1.4\n",
        "\n",
        "描述一个类似的音频卷积层的架构。"
      ]
    },
    {
      "cell_type": "markdown",
      "metadata": {
        "id": "NCd3SLSwH6Gj"
      },
      "source": [
        "**解答：** "
      ]
    },
    {
      "cell_type": "markdown",
      "metadata": {
        "id": "zktnQ2nWH6Gj"
      },
      "source": [
        "&emsp;&emsp;一种基于卷积神经网络的音频特征生成方法，首先对声音信号进行预处理和离散傅里叶变换计算声音信号的幅度谱，形成二维谱图信号；然后搭建以上述二维谱图信号为输入的一维卷积神经网络并进行模型训练，得到特征生成器模型；最后对待测声音进行预处理和离散傅里叶变换得到二维谱图信号，并将其送入训练好的一维卷积神经网络，通过卷积网络计算，得到输出即为所要生成的音频特征，实现声音信号的音频特征生成。"
      ]
    },
    {
      "cell_type": "markdown",
      "metadata": {
        "id": "IGBTjTXVH6Gj"
      },
      "source": [
        "### 练习 6.1.5\n",
        "\n",
        "卷积层也适合于文本数据吗？为什么？"
      ]
    },
    {
      "cell_type": "markdown",
      "metadata": {
        "id": "xGi_RvNkH6Gk"
      },
      "source": [
        "**解答：** "
      ]
    },
    {
      "cell_type": "markdown",
      "metadata": {
        "id": "il8LGBpTH6Gk"
      },
      "source": [
        "&emsp;&emsp;卷积层也适合于文本数据。 在自然语言处理中，文本数据通常表示为词向量矩阵，其中每行代表一个词的向量表示。卷积层可以在这个矩阵上进行卷积操作，类似于图像卷积层中对图像进行卷积操作。 在卷积层中，卷积核会在输入矩阵上进行滑动窗口计算，输出一个新的特征矩阵。在文本数据中，这个特征矩阵可以看作是对输入文本的不同`n-gram`特征的提取。例如，一个大小为3的卷积核可以提取出输入文本中每个长度为3的n-gram特征。这些特征可以用于后续的分类或者回归任务。 此外，卷积层还可以与循环神经网络（`RNN`）结合使用，形成卷积神经网络（`CNN`）和循环神经网络（`RNN`）的混合模型。这种模型可以同时捕捉文本中的局部特征和全局特征，提高模型的性能。 因此，卷积层适用于文本数据，可以对文本数据进行卷积操作，提取出不同`n-gram`特征，并且可以与`RNN`结合使用，提高模型的性能。"
      ]
    },
    {
      "cell_type": "markdown",
      "metadata": {
        "id": "f8asaRppH6Gk"
      },
      "source": [
        "### 练习 6.1.6\n",
        "\n",
        "证明在式(6.6)中，$f * g = g * f$。"
      ]
    },
    {
      "cell_type": "markdown",
      "metadata": {
        "id": "QeBwPGyRH6Gk"
      },
      "source": [
        "**解答：** "
      ]
    },
    {
      "cell_type": "markdown",
      "metadata": {
        "id": "yZOvmmOkH6Gk"
      },
      "source": [
        "&emsp;&emsp;通过式(6.6)的定义，我们可以得到：\n",
        "\n",
        "$$(f * g)(x) = \\int_{-\\infty}^{\\infty}f(y)g(x-y)dy$$\n",
        "\n",
        "$$(g * f)(x) = \\int_{-\\infty}^{\\infty}g(y)f(x-y)dy$$\n",
        "\n",
        "&emsp;&emsp;要证明$f * g = g * f$，即证明：\n",
        "\n",
        "$$\\int_{-\\infty}^{\\infty}f(y)g(x-y)dy = \\int_{-\\infty}^{\\infty}g(y)f(x-y)dy$$\n",
        "\n",
        "&emsp;&emsp;为了证明上式成立，我们将其中一个积分的变量名改为$t=x-y$，则有：\n",
        "\n",
        "$$\\int_{-\\infty}^{\\infty}f(y)g(x-y)dy = \\int_{-\\infty}^{\\infty}f(x-t)g(t)dt$$\n",
        "\n",
        "&emsp;&emsp;再将这个式子代回式(6.6)中：\n",
        "\n",
        "$$(f * g)(x) = \\int_{-\\infty}^{\\infty}f(x-t)g(t)dt$$\n",
        "\n",
        "&emsp;&emsp;对比式(6.6)和上面的式子，可以发现它们的形式是完全一样的，只是积分变量名不同而已。因此，我们可以得到：\n",
        "\n",
        "$$(f * g)(x) = \\int_{-\\infty}^{\\infty}f(y)g(x-y)dy = \\int_{-\\infty}^{\\infty}g(y)f(x-y)dy = (g * f)(x)$$\n",
        "\n",
        "&emsp;&emsp;因此，$f * g = g * f$，证毕。\n",
        "\n"
      ]
    },
    {
      "cell_type": "markdown",
      "metadata": {
        "id": "JnoQzdf5H6Gk"
      },
      "source": [
        "## 6.2 图像卷积"
      ]
    },
    {
      "cell_type": "markdown",
      "metadata": {
        "id": "U_ATWo-vH6Gk"
      },
      "source": [
        "### 练习 6.2.1  \n",
        "\n",
        "构建一个具有对角线边缘的图像`X`。\n",
        "1. 如果将本节中举例的卷积核`K`应用于`X`，会发生什么情况？\n",
        "2. 如果转置`X`会发生什么？\n",
        "3. 如果转置`K`会发生什么？"
      ]
    },
    {
      "cell_type": "markdown",
      "metadata": {
        "id": "tBApQWHKH6Gk"
      },
      "source": [
        "**解答：** "
      ]
    },
    {
      "cell_type": "markdown",
      "metadata": {
        "id": "lkEMrGV4SCW5"
      },
      "source": [
        "**第1问：**"
      ]
    },
    {
      "cell_type": "markdown",
      "metadata": {
        "id": "kq6MSSR8H6Gk"
      },
      "source": [
        "&emsp;&emsp;在对角线处有分别为1和-1的数据，其他区域都为0。"
      ]
    },
    {
      "cell_type": "code",
      "execution_count": null,
      "metadata": {
        "id": "hiEfX0AoH6Gl",
        "outputId": "37bc785e-2ef0-44d2-d047-0c732d1cb81e"
      },
      "outputs": [],
      "source": [
        "import torch\n",
        "from torch import nn\n",
        "from d2l import torch as d2l\n",
        "\n",
        "def corr2d(X, K):  #@save\n",
        "    \"\"\"计算二维互相关运算\"\"\"\n",
        "    h, w = K.shape\n",
        "    Y = torch.zeros((X.shape[0] - h + 1, X.shape[1] - w + 1))\n",
        "    for i in range(Y.shape[0]):\n",
        "        for j in range(Y.shape[1]):\n",
        "            Y[i, j] = (X[i:i + h, j:j + w] * K).sum()\n",
        "    return Y\n",
        "\n",
        "# 如果将本节中举例的卷积核K应用于X，会发生什么情况？\n",
        "X = torch.eye(8)\n",
        "K = torch.tensor([[1.0, -1.0]])\n",
        "Y = corr2d(X, K)\n",
        "print(Y)"
      ]
    },
    {
      "cell_type": "markdown",
      "metadata": {
        "id": "e3Oz9yYDSdI3"
      },
      "source": [
        "**第2问：**"
      ]
    },
    {
      "cell_type": "markdown",
      "metadata": {
        "id": "mUbUM7rZH6Gl"
      },
      "source": [
        "&emsp;&emsp;转置后结果不变。"
      ]
    },
    {
      "cell_type": "code",
      "execution_count": null,
      "metadata": {
        "id": "02INn5CxH6Gl",
        "outputId": "8841140a-0258-40f5-a0be-1f9306ef7b60"
      },
      "outputs": [],
      "source": [
        "import torch\n",
        "from torch import nn\n",
        "from d2l import torch as d2l\n",
        "\n",
        "def corr2d(X, K):  #@save\n",
        "    \"\"\"计算二维互相关运算\"\"\"\n",
        "    h, w = K.shape\n",
        "    Y = torch.zeros((X.shape[0] - h + 1, X.shape[1] - w + 1))\n",
        "    for i in range(Y.shape[0]):\n",
        "        for j in range(Y.shape[1]):\n",
        "            Y[i, j] = (X[i:i + h, j:j + w] * K).sum()\n",
        "    return Y\n",
        "\n",
        "# 如果将本节中举例的卷积核K应用于X，会发生什么情况？\n",
        "X = torch.eye(8)\n",
        "K = torch.tensor([[1.0, -1.0]])\n",
        "Y = corr2d(X.T, K)\n",
        "X, Y"
      ]
    },
    {
      "cell_type": "markdown",
      "metadata": {
        "id": "RWwEZaw0StRK"
      },
      "source": [
        "**第3问：**"
      ]
    },
    {
      "cell_type": "markdown",
      "metadata": {
        "id": "MTOiA5ipH6Gl"
      },
      "source": [
        "&emsp;&emsp;K转置后，结果也转置了 "
      ]
    },
    {
      "cell_type": "code",
      "execution_count": null,
      "metadata": {
        "id": "yD4k1hrmH6Gl",
        "outputId": "6502c42f-12b4-4260-fc74-f1987a55f870"
      },
      "outputs": [],
      "source": [
        "import torch\n",
        "from torch import nn\n",
        "from d2l import torch as d2l\n",
        "\n",
        "def corr2d(X, K):  #@save\n",
        "    \"\"\"计算二维互相关运算\"\"\"\n",
        "    h, w = K.shape\n",
        "    Y = torch.zeros((X.shape[0] - h + 1, X.shape[1] - w + 1))\n",
        "    for i in range(Y.shape[0]):\n",
        "        for j in range(Y.shape[1]):\n",
        "            Y[i, j] = (X[i:i + h, j:j + w] * K).sum()\n",
        "    return Y\n",
        "\n",
        "# 如果将本节中举例的卷积核K应用于X，会发生什么情况？\n",
        "X = torch.eye(8)\n",
        "K = torch.tensor([[1.0, -1.0]])\n",
        "Y = corr2d(X, K.T)\n",
        "X, Y"
      ]
    },
    {
      "cell_type": "markdown",
      "metadata": {
        "id": "Jxhbn1TzH6Gl"
      },
      "source": [
        "### 练习 6.2.2 \n",
        "\n",
        "在我们创建的`Conv2D`自动求导时，有什么错误消息？"
      ]
    },
    {
      "cell_type": "markdown",
      "metadata": {
        "id": "tZh5dWTzH6Gl"
      },
      "source": [
        "**解答：** "
      ]
    },
    {
      "cell_type": "markdown",
      "metadata": {
        "id": "FsZJjjLoH6Gl"
      },
      "source": [
        "&emsp;&emsp;会提示维度不对称的错误信息，因为torch提供的二维卷积层是nn.Conv2d() 采用的是四维输入和输出格式（批量大小、通道、高度、宽度）,而我们自定义的仅仅是二维的。\n",
        "\n",
        "&emsp;&emsp;代码验证如下"
      ]
    },
    {
      "cell_type": "code",
      "execution_count": null,
      "metadata": {
        "id": "VjVH6TpjAKGX"
      },
      "outputs": [],
      "source": [
        "import torch\n",
        "from torch import nn\n",
        "from d2l import torch as d2l\n",
        "\n",
        "def corr2d(X, K):  #@save\n",
        "    \"\"\"计算二维互相关运算\"\"\"\n",
        "    h, w = K.shape\n",
        "    Y = torch.zeros((X.shape[0] - h + 1, X.shape[1] - w + 1))\n",
        "    for i in range(Y.shape[0]):\n",
        "        for j in range(Y.shape[1]):\n",
        "            Y[i, j] = (X[i:i + h, j:j + w] * K).sum()\n",
        "    return Y\n",
        "class Conv2D(nn.Module):\n",
        "    def __init__(self, kernel_size):\n",
        "        super().__init__()\n",
        "        self.weight = nn.Parameter(torch.rand(kernel_size))\n",
        "        self.bias = nn.Parameter(torch.zeros(1))\n",
        "\n",
        "    def forward(self, x):\n",
        "        return corr2d(x, self.weight) + self.bias\n",
        "X = torch.ones((6, 8))\n",
        "X[:, 2:6] = 0\n",
        "X\n",
        "K = torch.tensor([[1.0, -1.0]])\n",
        "Y = corr2d(X, K)\n",
        "Y\n",
        "corr2d(X.t(), K)"
      ]
    },
    {
      "cell_type": "markdown",
      "metadata": {
        "id": "m6bL6eI5xFLN"
      },
      "source": [
        "&emsp;&emsp;使用`nn.Conv2d`时可以正常运行"
      ]
    },
    {
      "cell_type": "code",
      "execution_count": null,
      "metadata": {
        "colab": {
          "base_uri": "https://localhost:8080/"
        },
        "id": "37pG9gVxBv-x",
        "outputId": "1c256b5d-79c0-4da3-b8c8-c5f480aeb04d"
      },
      "outputs": [],
      "source": [
        "import torch\n",
        "from torch import nn\n",
        "from d2l import torch as d2l\n",
        "\n",
        "def corr2d(X, K):  #@save\n",
        "    \"\"\"计算二维互相关运算\"\"\"\n",
        "    h, w = K.shape\n",
        "    Y = torch.zeros((X.shape[0] - h + 1, X.shape[1] - w + 1))\n",
        "    for i in range(Y.shape[0]):\n",
        "        for j in range(Y.shape[1]):\n",
        "            Y[i, j] = (X[i:i + h, j:j + w] * K).sum()\n",
        "    return Y\n",
        "class Conv2D(nn.Module):\n",
        "    def __init__(self, kernel_size):\n",
        "        super().__init__()\n",
        "        self.weight = nn.Parameter(torch.rand(kernel_size))\n",
        "        self.bias = nn.Parameter(torch.zeros(1))\n",
        "\n",
        "    def forward(self, x):\n",
        "        return corr2d(x, self.weight) + self.bias\n",
        "X = torch.ones((6, 8))\n",
        "X[:, 2:6] = 0\n",
        "X\n",
        "K = torch.tensor([[1.0, -1.0]])\n",
        "Y = corr2d(X, K)\n",
        "Y\n",
        "corr2d(X.t(), K)\n",
        "# 构造一个二维卷积层，它具有1个输出通道和形状为（1，2）的卷积核\n",
        "conv2d = nn.Conv2d(1,1, kernel_size=(1, 2), bias=False)\n",
        "\n",
        "# 这个二维卷积层使用四维输入和输出格式（批量大小、通道、高度、宽度），\n",
        "# 其中批量大小和通道数都为1\n",
        "X = X.reshape((1, 1, 6, 8))\n",
        "Y = Y.reshape((1, 1, 6, 7))\n",
        "lr = 3e-2  # 学习率\n",
        "\n",
        "for i in range(10):\n",
        "    Y_hat = conv2d(X)\n",
        "    l = (Y_hat - Y) ** 2\n",
        "    conv2d.zero_grad()\n",
        "    l.sum().backward()\n",
        "    # 迭代卷积核\n",
        "    conv2d.weight.data[:] -= lr * conv2d.weight.grad\n",
        "    if (i + 1) % 2 == 0:\n",
        "        print(f'epoch {i+1}, loss {l.sum():.3f}')"
      ]
    },
    {
      "cell_type": "markdown",
      "metadata": {
        "id": "CPIxue-DxOx-"
      },
      "source": [
        "&emsp;&emsp;使用创建的`Conv2D`时可以会报如下错误"
      ]
    },
    {
      "cell_type": "code",
      "execution_count": null,
      "metadata": {
        "colab": {
          "base_uri": "https://localhost:8080/"
        },
        "id": "msTn2YsGDq87",
        "outputId": "83bafb8a-8ffe-42fb-ccb5-775efe42b095"
      },
      "outputs": [],
      "source": [
        "conv2d = Conv2D(kernel_size=(1, 2))\n",
        "\n",
        "try:\n",
        "  for i in range(10):\n",
        "    Y_hat = conv2d(X)\n",
        "    l = (Y_hat - Y) ** 2\n",
        "    conv2d.zero_grad()\n",
        "    l.sum().backward()\n",
        "    # 迭代卷积核\n",
        "    conv2d.weight.data[:] -= lr * conv2d.weight.grad\n",
        "    if (i + 1) % 2 == 0:\n",
        "        print(f'epoch {i+1}, loss {l.sum():.3f}')\n",
        "except Exception as e:\n",
        "    print(e)"
      ]
    },
    {
      "cell_type": "markdown",
      "metadata": {
        "id": "Gax6VocXxTnp"
      },
      "source": [
        "&emsp;&emsp;可以通过下述方式调整"
      ]
    },
    {
      "cell_type": "code",
      "execution_count": null,
      "metadata": {
        "colab": {
          "base_uri": "https://localhost:8080/"
        },
        "id": "SMFz77vLEcrd",
        "outputId": "650e4729-b223-4fb7-9bd9-429b4dcb77eb"
      },
      "outputs": [],
      "source": [
        "\n",
        "X = X.reshape((6, 8))\n",
        "Y = Y.reshape((6, 7))\n",
        "lr = 3e-2  # 学习率\n",
        "\n",
        "for i in range(10):\n",
        "    Y_hat = conv2d(X)\n",
        "    l = (Y_hat - Y) ** 2\n",
        "    conv2d.zero_grad()\n",
        "    l.sum().backward()\n",
        "    # 迭代卷积核\n",
        "    conv2d.weight.data[:] -= lr * conv2d.weight.grad\n",
        "    if (i + 1) % 2 == 0:\n",
        "        print(f'epoch {i+1}, loss {l.sum():.3f}')"
      ]
    },
    {
      "cell_type": "markdown",
      "metadata": {
        "id": "_rl_95PQH6Gm"
      },
      "source": [
        "### 练习 6.2.3\n",
        "\n",
        "如何通过改变输入张量和卷积核张量，将互相关运算表示为矩阵乘法？"
      ]
    },
    {
      "cell_type": "markdown",
      "metadata": {
        "id": "iqzn_dbiH6Gm"
      },
      "source": [
        "**解答：** "
      ]
    },
    {
      "cell_type": "markdown",
      "metadata": {
        "id": "KzbnEauZH6Gm"
      },
      "source": [
        "&emsp;&emsp;题目的意思应该是如何通过矩阵乘法得到互相关（卷积）运算"
      ]
    },
    {
      "cell_type": "code",
      "execution_count": null,
      "metadata": {
        "id": "vIojUxrQH6Gm"
      },
      "outputs": [],
      "source": [
        "import torch\n",
        "from torch import nn\n",
        "from d2l import torch as d2l\n",
        "\n",
        "def conv2d_by_mul(X, K):\n",
        "    # 获取卷积核大小\n",
        "    h, w = K.shape\n",
        "    # 计算输出图像大小\n",
        "    outh = X.shape[0] - h + 1\n",
        "    outw = X.shape[1] - w + 1\n",
        "    # 调整卷积核形状以便做乘法\n",
        "    K = K.reshape(-1, 1)\n",
        "    # 将输入图像切成卷积核大小的块，打平成一维，存放在列表 Y 中\n",
        "    Y = []\n",
        "    for i in range(outh):\n",
        "        for j in range(outw):\n",
        "            Y.append(X[i:i + h, j:j + w].reshape(-1))\n",
        "    # 将列表 Y 转为张量，每行代表一块的打平结果\n",
        "    Y = torch.stack(Y, 0)\n",
        "    # 用矩阵乘法表示互相关运算\n",
        "    res = (torch.matmul(Y, K)).reshape(outh, outw)\n",
        "    # 返回输出结果\n",
        "    return res"
      ]
    },
    {
      "cell_type": "markdown",
      "metadata": {
        "id": "0Ta-sCxFH6Gm"
      },
      "source": [
        "### 练习 6.2.4\n",
        "\n",
        "手工设计一些卷积核。\n",
        "1. 二阶导数的核的形式是什么？\n",
        "1. 积分的核的形式是什么？\n",
        "1. 得到$d$次导数的最小核的大小是多少？"
      ]
    },
    {
      "cell_type": "markdown",
      "metadata": {
        "id": "2TpbNlmoH6Gm"
      },
      "source": [
        "**解答：** "
      ]
    },
    {
      "cell_type": "markdown",
      "metadata": {
        "id": "Sj92on4zTnmx"
      },
      "source": [
        "**第1问：**"
      ]
    },
    {
      "cell_type": "markdown",
      "metadata": {
        "id": "ZFTY9ib1Tr6j"
      },
      "source": [
        "&emsp;&emsp;一维的二阶导数的核的形式是：\n",
        "\n",
        "$$\\begin{bmatrix}-1 & 2 & -1\\end{bmatrix}$$\n",
        "\n",
        "&emsp;&emsp;这个一维卷积核可以用于计算信号或函数在每个点的二阶导数。它通过对信号进行两次微分来强调信号的曲率和变化率，通常用于边缘检测和特征检测等任务。\n",
        "\n",
        "&emsp;&emsp;在二维情况下，可以使用以下卷积核来计算图像的二阶导数：\n",
        "\n",
        "$$[[1, -2, 1],\\\\\n",
        " [-2, 4, -2],\\\\\n",
        " [1, -2, 1]]\n",
        "$$"
      ]
    },
    {
      "cell_type": "markdown",
      "metadata": {
        "id": "ZjHoDCPDTwf8"
      },
      "source": [
        "**第2问：**"
      ]
    },
    {
      "cell_type": "markdown",
      "metadata": {
        "id": "8-kf1IxsH6Gm"
      },
      "source": [
        "&emsp;&emsp;积分的核的形式是：\n",
        "\n",
        "$$\\begin{bmatrix}1 & 1 & 1 & \\cdots & 1\\end{bmatrix}$$\n"
      ]
    },
    {
      "cell_type": "markdown",
      "metadata": {
        "id": "20GNRTaGT3vl"
      },
      "source": [
        "**第3问：**"
      ]
    },
    {
      "cell_type": "markdown",
      "metadata": {
        "id": "mLPsGuj_T560"
      },
      "source": [
        "&emsp;&emsp;得到 𝑑 次导数的最小核的大小是 $d+1$。例如，一阶导数的最小核大小为 $2$，二阶导数的最小核大小为 $3$，三阶导数的最小核大小为 $4$，以此类推。"
      ]
    },
    {
      "cell_type": "markdown",
      "metadata": {
        "id": "Xxl6bZHSH6Gm"
      },
      "source": [
        "## 6.3 填充和步幅 "
      ]
    },
    {
      "cell_type": "markdown",
      "metadata": {
        "id": "F4I1FfTtH6Gm"
      },
      "source": [
        "### 练习 6.3.1  \n",
        "\n",
        "对于本节中的最后一个示例，计算其输出形状，以查看它是否与实验结果一致。"
      ]
    },
    {
      "cell_type": "markdown",
      "metadata": {
        "id": "db2l2ZVaH6Gm"
      },
      "source": [
        "**解答：** "
      ]
    },
    {
      "cell_type": "markdown",
      "metadata": {
        "id": "aUp1JW-cH6Gm"
      },
      "source": [
        "$$out_{shape}=\\lfloor(n_h-k_h+p_h*2+s_h)/s_h\\rfloor \\times \\lfloor(n_w-k_w+p_w*2+s_w)/s_w\\rfloor.$$\n",
        "\n",
        "&emsp;&emsp;示例中$X.shape = [8, 8]$，计算得出$out_shape = [(8-3+0+3)/3, (8-5+2+4)/4] = [2.67, 2.25]$,向下取整，所以为$[2, 2]$\n",
        "\n"
      ]
    },
    {
      "cell_type": "markdown",
      "metadata": {
        "id": "kTN4MS6Vzv-Y"
      },
      "source": [
        "&emsp;&emsp; 代码验证如下"
      ]
    },
    {
      "cell_type": "code",
      "execution_count": null,
      "metadata": {
        "colab": {
          "base_uri": "https://localhost:8080/"
        },
        "id": "Un2WNAxXzVvO",
        "outputId": "caf4dd00-192e-4cbb-def6-8dc86a3a632c"
      },
      "outputs": [],
      "source": [
        "import torch\n",
        "from torch import nn\n",
        "\n",
        "\n",
        "# 为了方便起见，我们定义了一个计算卷积层的函数。\n",
        "# 此函数初始化卷积层权重，并对输入和输出提高和缩减相应的维数\n",
        "def comp_conv2d(conv2d, X):\n",
        "    # 这里的（1，1）表示批量大小和通道数都是1\n",
        "    X = X.reshape((1, 1) + X.shape)\n",
        "    Y = conv2d(X)\n",
        "    # 省略前两个维度：批量大小和通道\n",
        "    return Y.reshape(Y.shape[2:])\n",
        "\n",
        "# 请注意，这里每边都填充了1行或1列，因此总共添加了2行或2列\n",
        "X = torch.rand(size=(8, 8))\n",
        "conv2d = nn.Conv2d(1, 1, kernel_size=(3, 5), padding=(0, 1), stride=(3, 4))\n",
        "comp_conv2d(conv2d, X).shape"
      ]
    },
    {
      "cell_type": "markdown",
      "metadata": {
        "id": "brG_eGKcH6Gn"
      },
      "source": [
        "### 练习 6.3.2\n",
        "\n",
        "在本节中的实验中，试一试其他填充和步幅组合。"
      ]
    },
    {
      "cell_type": "markdown",
      "metadata": {
        "id": "lFoUTJ82H6Gn"
      },
      "source": [
        "**解答：** "
      ]
    },
    {
      "cell_type": "markdown",
      "metadata": {
        "id": "n8bXitvc1p0Q"
      },
      "source": [
        "&emsp;&emsp; 下面将举两个其他的填充和步幅组合"
      ]
    },
    {
      "cell_type": "code",
      "execution_count": null,
      "metadata": {
        "colab": {
          "base_uri": "https://localhost:8080/"
        },
        "id": "0RMAerR41NZk",
        "outputId": "e84b746f-5981-4e7d-a571-2cfb8dd7beda"
      },
      "outputs": [],
      "source": [
        "import torch\n",
        "from torch import nn\n",
        "def comp_conv2d(conv2d, X):\n",
        "    # 这里的（1，1）表示批量大小和通道数都是1\n",
        "    X = X.reshape((1, 1) + X.shape)\n",
        "    Y = conv2d(X)\n",
        "    # 省略前两个维度：批量大小和通道\n",
        "    return Y.reshape(Y.shape[2:])\n",
        "\n",
        "# 请注意，这里每边都填充了1行或1列，因此总共添加了2行或2列\n",
        "X = torch.rand(size=(8, 8))\n",
        "conv2d = nn.Conv2d(1, 1, kernel_size=(3, 5), padding=(1, 2), stride=(2, 3))\n",
        "comp_conv2d(conv2d, X).shape"
      ]
    },
    {
      "cell_type": "markdown",
      "metadata": {
        "id": "pJ3E2kSW1xuG"
      },
      "source": [
        "&emsp;&emsp;在`padding`大小为$[1,2]$，`stride`大小为$[2,3]$时，输出形状为$[4,3]$\n",
        "\n",
        "&emsp;&emsp;示例中$X.shape = [8, 8]$，计算得出$out_{shape} = [(8-3+2+2)/2, (8-5+4+3)/3] = [4.5, 3,33]$,向下取整，所以为$[4, 3]$"
      ]
    },
    {
      "cell_type": "code",
      "execution_count": null,
      "metadata": {
        "colab": {
          "base_uri": "https://localhost:8080/"
        },
        "id": "dbrqAE0G1bok",
        "outputId": "217140fc-29d4-45a5-eb18-c69ead1c1ef6"
      },
      "outputs": [],
      "source": [
        "import torch\n",
        "from torch import nn\n",
        "def comp_conv2d(conv2d, X):\n",
        "    # 这里的（1，1）表示批量大小和通道数都是1\n",
        "    X = X.reshape((1, 1) + X.shape)\n",
        "    Y = conv2d(X)\n",
        "    # 省略前两个维度：批量大小和通道\n",
        "    return Y.reshape(Y.shape[2:])\n",
        "\n",
        "# 请注意，这里每边都填充了1行或1列，因此总共添加了2行或2列\n",
        "X = torch.rand(size=(8, 8))\n",
        "conv2d = nn.Conv2d(1, 1, kernel_size=(3, 5), padding=(2, 3), stride=(1, 2))\n",
        "comp_conv2d(conv2d, X).shape"
      ]
    },
    {
      "cell_type": "markdown",
      "metadata": {
        "id": "3KVUq8Zu4Okx"
      },
      "source": [
        "&emsp;&emsp;在`padding`大小为$[2,3]$，`stride`大小为$[1,2]$时，输出形状为$[10,5]$\n",
        "\n",
        "&emsp;&emsp;示例中$X.shape = [8, 8]$，计算得出$out_{shape} = [(8-3+4+1)/1, (8-5+6+2)/2] = [10, 5.5]$,向下取整，所以为$[10, 5]$"
      ]
    },
    {
      "cell_type": "markdown",
      "metadata": {
        "id": "uTl-5K1SH6Gn"
      },
      "source": [
        "### 练习 6.3.3\n",
        "\n",
        "对于音频信号，步幅$2$说明什么？"
      ]
    },
    {
      "cell_type": "markdown",
      "metadata": {
        "id": "YNXFYzlhH6Gn"
      },
      "source": [
        "**解答：** "
      ]
    },
    {
      "cell_type": "markdown",
      "metadata": {
        "id": "nuueFr5_H6Gn"
      },
      "source": [
        "&emsp;&emsp;对于音频信号而言，步幅为2就是以2为周期对信号进行采样计算。"
      ]
    },
    {
      "cell_type": "markdown",
      "metadata": {
        "id": "_3anPQxXH6Gn"
      },
      "source": [
        "### 练习 6.3.4\n",
        "\n",
        "步幅大于$1$的计算优势是什么？"
      ]
    },
    {
      "cell_type": "markdown",
      "metadata": {
        "id": "q02rwtZnH6Gn"
      },
      "source": [
        "**解答：** "
      ]
    },
    {
      "cell_type": "markdown",
      "metadata": {
        "id": "7_po2mkiH6Gn"
      },
      "source": [
        "&emsp;&emsp;减小计算量， 减小内存占用， 提高模型的泛化能力。"
      ]
    },
    {
      "cell_type": "markdown",
      "metadata": {
        "id": "rLzkTd9KH6Gn"
      },
      "source": [
        "## 6.4 多输入多输出通道 "
      ]
    },
    {
      "cell_type": "markdown",
      "metadata": {
        "id": "H0Acj8q_H6Gn"
      },
      "source": [
        "### 练习 6.4.1\n",
        "\n",
        "假设我们有两个卷积核，大小分别为$k_1$和$k_2$（中间没有非线性激活函数）。\n",
        "1. 证明运算可以用单次卷积来表示。\n",
        "1. 这个等效的单个卷积核的维数是多少呢？\n",
        "1. 反之亦然吗？"
      ]
    },
    {
      "cell_type": "markdown",
      "metadata": {
        "id": "-WvYPWNzH6Go"
      },
      "source": [
        "**解答：** "
      ]
    },
    {
      "cell_type": "markdown",
      "metadata": {
        "id": "hCHo1nmiW269"
      },
      "source": [
        "**第1问：**"
      ]
    },
    {
      "cell_type": "markdown",
      "metadata": {
        "id": "J0WKW_2rH6Go"
      },
      "source": [
        "&emsp;&emsp;假设输入的图像大小为$W×H$，设卷积核1的大小为$k_1$，卷积核2的大小为$k2$，它们分别作用于输入矩阵$x$，得到的输出矩阵分别为$y_1$和$y_2$。则可以将$y1$与$y2$的每一个元素相加，得到最终输出矩阵$y$。\n",
        "\n",
        "&emsp;&emsp;即：$$y[i][j] = y_1[i][j] + y_2[i][j]$$\n",
        "\n",
        "&emsp;&emsp;可以将两个卷积核的大小相加，得到一个新的卷积核大小为$(k_1+k_2-1)×(k_1+k_2-1)$。然后可以将这个新的卷积核应用于输入图像，得到一个输出图像。这个输出图像的大小为$(W-k_1-k_2+2)×(H-k_1-k_2+2)$。"
      ]
    },
    {
      "cell_type": "markdown",
      "metadata": {
        "id": "a_oG7ejjZIts"
      },
      "source": [
        "**第2问：**"
      ]
    },
    {
      "cell_type": "markdown",
      "metadata": {
        "id": "Iu5hDtACZI_Q"
      },
      "source": [
        "&emsp;&emsp;可以使用一个大小为$(k_1+k_2-1)×(k_1+k_2-1)$的卷积核来表示这两个卷积核的运算。"
      ]
    },
    {
      "cell_type": "markdown",
      "metadata": {
        "id": "ucb3Vc2pZJUL"
      },
      "source": [
        "**第3问：**"
      ]
    },
    {
      "cell_type": "markdown",
      "metadata": {
        "id": "sKoiH9o-ZJbF"
      },
      "source": [
        "&emsp;&emsp;反之亦然。如果有一个大小为$k_1+k_2-1$的卷积核，可以将其分解为两个大小分别为$k1$和$k2$的卷积核。这两个卷积核之间没有非线性激活函数，所以它们的运算可以被视为一个单独的卷积核。"
      ]
    },
    {
      "cell_type": "markdown",
      "metadata": {
        "id": "I5H7cCLpH6Go"
      },
      "source": [
        "### 练习 6.4.2\n",
        "\n",
        "假设输入为$c_i\\times h\\times w$，卷积核大小为$c_o\\times c_i\\times k_h\\times k_w$，填充为$(p_h, p_w)$，步幅为$(s_h, s_w)$。\n",
        "1. 前向传播的计算成本（乘法和加法）是多少？\n",
        "1. 内存占用是多少？\n",
        "1. 反向传播的内存占用是多少？\n",
        "1. 反向传播的计算成本是多少？"
      ]
    },
    {
      "cell_type": "markdown",
      "metadata": {
        "id": "3a-nXFFtH6Go"
      },
      "source": [
        "**解答：** "
      ]
    },
    {
      "cell_type": "markdown",
      "metadata": {
        "id": "WPC8XK92bNMD"
      },
      "source": [
        "**第1问：**"
      ]
    },
    {
      "cell_type": "markdown",
      "metadata": {
        "id": "GlNurvDQbNQ0"
      },
      "source": [
        "&emsp;&emsp;前向计算成本为\n",
        "\n",
        "$$flops_{forward} = c_i \\times c_o \\times k_h \\times k_w \\times m_h \\times m_w$$\n",
        "\n",
        "&emsp;&emsp;其中$m_h=\\lfloor \\frac{h+2p_h-k_h}{s_h}+1 \\rfloor$, $m_w=\\lfloor \\frac{w+2p_w-k_w}{s_w}+1 \\rfloor$\n"
      ]
    },
    {
      "cell_type": "markdown",
      "metadata": {
        "id": "J_oix-mgbNZ3"
      },
      "source": [
        "**第2问：**"
      ]
    },
    {
      "cell_type": "markdown",
      "metadata": {
        "id": "zh1SQkZbbNhz"
      },
      "source": [
        "&emsp;&emsp;输入需要$c_i*h*w$个浮点数，卷积核需要$c_o*c_i*k_h*k_w$个浮点数，输出需要$c_o*m_h*m_w$个浮点数。此外，还需要存储中间结果，即填充后的输入和反向传播时的梯度信息。因此，总内存占用为\n",
        "$$memory_{forward}=(c_i+k_h-1)*(h+k_w-1)*c_0+2*c_i*h*w$$"
      ]
    },
    {
      "cell_type": "markdown",
      "metadata": {
        "id": "JMGABMnGbNrB"
      },
      "source": [
        "**第3问：**"
      ]
    },
    {
      "cell_type": "markdown",
      "metadata": {
        "id": "9Ef0fAhubNy-"
      },
      "source": [
        "&emsp;&emsp;反向传播的内存作用与前向传播相同，总内存占用为\n",
        "$$memory_{backward}=(c_i+k_h-1)*(h+k_w-1)*c_0+2*c_i*h*w$$"
      ]
    },
    {
      "cell_type": "markdown",
      "metadata": {
        "id": "XqGjYQ5LbN7L"
      },
      "source": [
        "**第4问：**"
      ]
    },
    {
      "cell_type": "markdown",
      "metadata": {
        "id": "9JrDsP6pbOCT"
      },
      "source": [
        "&emsp;&emsp;反向计算成本为\n",
        "\n",
        "$$flops_{backward} = c_i \\times c_o \\times k_h \\times k_w \\times m_h \\times m_w$$\n",
        "\n",
        "&emsp;&emsp;其中$m_h$和$m_w$的定义同上"
      ]
    },
    {
      "cell_type": "markdown",
      "metadata": {
        "id": "qKKQr0MPH6Go"
      },
      "source": [
        "### 练习 6.4.3\n",
        "\n",
        "如果我们将输入通道$c_i$和输出通道$c_o$的数量加倍，计算数量会增加多少？如果我们把填充数量翻一番会怎么样？"
      ]
    },
    {
      "cell_type": "markdown",
      "metadata": {
        "id": "N825fzRxH6Go"
      },
      "source": [
        "**解答：** "
      ]
    },
    {
      "cell_type": "markdown",
      "metadata": {
        "id": "CifxEEGjH6Go"
      },
      "source": [
        "&emsp;&emsp;如果我们将输入通道$c_i$和输出通道$c_o$的数量加倍，计算数量会增加$4$倍。如果我们把填充数量翻一番，计算数量会增加$2$倍。"
      ]
    },
    {
      "cell_type": "markdown",
      "metadata": {
        "id": "PLWGRhpQH6Go"
      },
      "source": [
        "### 练习 6.4.4\n",
        "\n",
        "如果卷积核的高度和宽度是$k_h=k_w=1$，前向传播的计算复杂度是多少？"
      ]
    },
    {
      "cell_type": "markdown",
      "metadata": {
        "id": "4MBYJCXuH6Go"
      },
      "source": [
        "**解答：**"
      ]
    },
    {
      "cell_type": "markdown",
      "metadata": {
        "id": "j4Wcrl3XH6Gp"
      },
      "source": [
        "$$flops = c_i \\times c_o \\times \\frac{h-p_h}{s_h} \\times \\frac{w-p_w}{s_w}$$"
      ]
    },
    {
      "cell_type": "markdown",
      "metadata": {
        "id": "khZEzrrsH6Gp"
      },
      "source": [
        "### 练习 6.4.5\n",
        "\n",
        "本节最后一个示例中的变量`Y1`和`Y2`是否完全相同？为什么？"
      ]
    },
    {
      "cell_type": "markdown",
      "metadata": {
        "id": "D4amqFuFH6Gp"
      },
      "source": [
        "**解答：**"
      ]
    },
    {
      "cell_type": "markdown",
      "metadata": {
        "id": "K9YjhzTfH6Gp"
      },
      "source": [
        "&emsp;&emsp;浮点数计算有误差，因而两者不完全相同。"
      ]
    },
    {
      "cell_type": "markdown",
      "metadata": {
        "id": "HGIsrbxRH6Gp"
      },
      "source": [
        "### 练习 6.4.6\n",
        "\n",
        "当卷积窗口不是$1\\times 1$时，如何使用矩阵乘法实现卷积？"
      ]
    },
    {
      "cell_type": "markdown",
      "metadata": {
        "id": "LHRBB75GH6Gp"
      },
      "source": [
        "**解答：** "
      ]
    },
    {
      "cell_type": "markdown",
      "metadata": {
        "id": "-JowXZuVH6Gp"
      },
      "source": [
        "&emsp;&emsp;可以将输入张量和卷积核张量分别展开为二维矩阵，然后对这两个矩阵进行乘法运算，得到的结果再变换为输出张量。"
      ]
    },
    {
      "cell_type": "markdown",
      "metadata": {
        "id": "LQluJheeH6Gp"
      },
      "source": [
        "## 6.5 汇聚层 "
      ]
    },
    {
      "cell_type": "markdown",
      "metadata": {
        "id": "WXmo99OwH6Gp"
      },
      "source": [
        "### 练习 6.5.1\n",
        "\n",
        "尝试将平均汇聚层作为卷积层的特殊情况实现。"
      ]
    },
    {
      "cell_type": "markdown",
      "metadata": {
        "id": "VQDuZsKZH6Gq"
      },
      "source": [
        "**解答：** "
      ]
    },
    {
      "cell_type": "code",
      "execution_count": null,
      "metadata": {
        "id": "vpS7o9ZjH6Gq"
      },
      "outputs": [],
      "source": [
        "import torch.nn as nn \n",
        "import torch.nn.functional as F\n",
        "\n",
        "class Net(nn.Module): \n",
        "    def init(self): \n",
        "      super(Net, self).init() \n",
        "      self.conv1 = nn.Conv2d(1, 6, 5) \n",
        "      self.pool = nn.Conv2d(6, 6, 5) \n",
        "      # 平均池化层 \n",
        "      self.conv2 = nn.Conv2d(6, 16, 5) \n",
        "      self.fc1 = nn.Linear(16 * 5 * 5, 120) \n",
        "      self.fc2 = nn.Linear(120, 84) \n",
        "      self.fc3 = nn.Linear(84, 10)\n",
        "\n",
        "    def forward(self, x):\n",
        "        x = F.relu(self.conv1(x))\n",
        "        x = F.avg_pool2d(x, (2, 2)) # 平均池化层\n",
        "        x = F.relu(self.conv2(x))\n",
        "        x = F.avg_pool2d(x, (2, 2)) # 平均池化层\n",
        "        x = x.view(-1, self.num_flat_features(x))\n",
        "        x = F.relu(self.fc1(x))\n",
        "        x = F.relu(self.fc2(x))\n",
        "        x = self.fc3(x)\n",
        "        return x\n",
        "\n",
        "    def num_flat_features(self, x):\n",
        "        size = x.size()[1:]\n",
        "        num_features = 1\n",
        "        for s in size:\n",
        "            num_features *= s\n",
        "        return num_features"
      ]
    },
    {
      "cell_type": "markdown",
      "metadata": {
        "id": "ryQl9D8qH6Gr"
      },
      "source": [
        "### 练习 6.5.2\n",
        "\n",
        "尝试将最大汇聚层作为卷积层的特殊情况实现。"
      ]
    },
    {
      "cell_type": "markdown",
      "metadata": {
        "id": "-09jj2UrH6Gr"
      },
      "source": [
        "**解答：** "
      ]
    },
    {
      "cell_type": "code",
      "execution_count": null,
      "metadata": {
        "id": "SQd7cXluH6Gr"
      },
      "outputs": [],
      "source": [
        "import torch.nn as nn \n",
        "import torch.nn.functional as F\n",
        "\n",
        "class Net(nn.Module): \n",
        "    def init(self): \n",
        "        super(Net, self).init() \n",
        "        self.conv1 = nn.Conv2d(1, 6, 5) \n",
        "        self.pool = nn.Conv2d(6, 6, 5) \n",
        "        # 最大池化层 \n",
        "        self.conv2 = nn.Conv2d(6, 16, 5) \n",
        "        self.fc1 = nn.Linear(16 * 5 * 5, 120) \n",
        "        self.fc2 = nn.Linear(120, 84) \n",
        "        self.fc3 = nn.Linear(84, 10)  \n",
        "        \n",
        "    def forward(self, x):\n",
        "        x = F.relu(self.conv1(x))\n",
        "        x = F.max_pool2d(x, (2, 2)) # 最大池化层\n",
        "        x = F.relu(self.conv2(x))\n",
        "        x = F.max_pool2d(x, (2, 2)) # 最大池化层\n",
        "        x = x.view(-1, self.num_flat_features(x))\n",
        "        x = F.relu(self.fc1(x))\n",
        "        x = F.relu(self.fc2(x))\n",
        "        x = self.fc3(x)\n",
        "        return x\n",
        "\n",
        "    def num_flat_features(self, x):\n",
        "        size = x.size()[1:]\n",
        "        num_features = 1\n",
        "        for s in size:\n",
        "            num_features *= s\n",
        "        return num_features"
      ]
    },
    {
      "cell_type": "markdown",
      "metadata": {
        "id": "J5YqgAbbH6Gr"
      },
      "source": [
        "### 练习 6.5.3\n",
        "\n",
        "假设汇聚层的输入大小为$c\\times h\\times w$，则汇聚窗口的形状为$p_h\\times p_w$，填充为$(p_h, p_w)$，步幅为$(s_h, s_w)$。这个汇聚层的计算成本是多少？"
      ]
    },
    {
      "cell_type": "markdown",
      "metadata": {
        "id": "oMjxs6WbH6Gr"
      },
      "source": [
        "**解答：** "
      ]
    },
    {
      "cell_type": "markdown",
      "metadata": {
        "id": "ykP2lf_CH6Gr"
      },
      "source": [
        "$$flops=\\frac{c \\times h \\times w \\times p_h \\times p_w}{s_h \\times s_w}$$"
      ]
    },
    {
      "cell_type": "markdown",
      "metadata": {
        "id": "-yiOraa6H6Gs"
      },
      "source": [
        "### 练习 6.5.4\n",
        "\n",
        "为什么最大汇聚层和平均汇聚层的工作方式不同？"
      ]
    },
    {
      "cell_type": "markdown",
      "metadata": {
        "id": "6onxEYAyH6Gs"
      },
      "source": [
        "**解答：** "
      ]
    },
    {
      "cell_type": "markdown",
      "metadata": {
        "id": "CkRiZ35eH6Gs"
      },
      "source": [
        "&emsp;&emsp;最大池化层和平均池化层的工作方式不同，因为它们使用不同的池化方法。最大池化层将输入张量分成不重叠的区域，并在每个区域中选择最大值。平均池化层将输入张量分成不重叠的区域，并计算每个区域的平均值。这些方法的主要区别在于它们如何处理输入张量中的信息。最大池化层通常用于提取输入张量中的显著特征，而平均池化层通常用于减少输入张量的大小并提高模型的计算效率。"
      ]
    },
    {
      "cell_type": "markdown",
      "metadata": {
        "id": "dE1ihMORH6Gs"
      },
      "source": [
        "### 练习 6.5.5\n",
        "\n",
        "我们是否需要最小汇聚层？可以用已知函数替换它吗？"
      ]
    },
    {
      "cell_type": "markdown",
      "metadata": {
        "id": "80MiSdFlH6Gs"
      },
      "source": [
        "**解答：** "
      ]
    },
    {
      "cell_type": "code",
      "execution_count": null,
      "metadata": {
        "id": "6nbP1cklH6Gs"
      },
      "outputs": [],
      "source": [
        "import torch.nn.functional as F\n",
        "\n",
        "def min_pool2d(x, kernel_size, stride=None, padding=0, dilation=1, ceil_mode=False): \n",
        "    neg_x = -x \n",
        "    neg_min_pool = F.max_pool2d(neg_x, kernel_size, stride=stride, padding=padding, dilation=dilation, ceil_mode=ceil_mode) \n",
        "    min_pool = -neg_min_pool \n",
        "    return min_pool"
      ]
    },
    {
      "cell_type": "markdown",
      "metadata": {
        "id": "1PNLI8uzH6Gt"
      },
      "source": [
        "### 练习 6.5.6\n",
        "\n",
        "除了平均汇聚层和最大汇聚层，是否有其它函数可以考虑（提示：回想一下`softmax`）？为什么它不流行？"
      ]
    },
    {
      "cell_type": "markdown",
      "metadata": {
        "id": "VCnILmizH6Gt"
      },
      "source": [
        "**解答：** "
      ]
    },
    {
      "cell_type": "markdown",
      "metadata": {
        "id": "O5eyNAZyxOWX"
      },
      "source": [
        "&emsp;&emsp;除了平均汇聚层和最大汇聚层，还有一些其他的池化函数，例如Lp池化和随机池化。Softmax函数通常用于多分类问题，它将每个输出分类的结果赋予一个概率值，表示属于每个类别的可能性。但是，Softmax函数不适用于池化层，因为它会将所有输入数据转换为概率分布，这会导致信息丢失。因此，Softmax函数不流行用于池化层。"
      ]
    },
    {
      "cell_type": "markdown",
      "metadata": {
        "id": "J1AdlfjBH6Gt"
      },
      "source": [
        "## 6.6 卷积神经网络（LeNet） "
      ]
    },
    {
      "cell_type": "markdown",
      "metadata": {
        "id": "BmcAHKVpH6Gt"
      },
      "source": [
        "### 练习 6.6.1\n",
        "\n",
        "将平均汇聚层替换为最大汇聚层，会发生什么？"
      ]
    },
    {
      "cell_type": "markdown",
      "metadata": {
        "id": "p3D3TAOpH6Gt"
      },
      "source": [
        "**解答：** "
      ]
    },
    {
      "cell_type": "markdown",
      "metadata": {
        "id": "c84yG4GSH6Gt"
      },
      "source": [
        "&emsp;&emsp;输出更大，梯度更大，训练更容易（AlexNet改进的方式之一）"
      ]
    },
    {
      "cell_type": "markdown",
      "metadata": {
        "id": "zVg6Ri3Mxxv2"
      },
      "source": [
        "&emsp;&emsp; LeNet原始代码如下："
      ]
    },
    {
      "cell_type": "code",
      "execution_count": 4,
      "metadata": {
        "id": "98dd44b7",
        "origin_pos": 2,
        "pycharm": {
          "name": "#%%\n"
        },
        "tab": [
          "pytorch"
        ]
      },
      "outputs": [
        {
          "name": "stdout",
          "output_type": "stream",
          "text": [
            "loss 0.468, train acc 0.824, test acc 0.724\n",
            "5921.5 examples/sec on cpu\n"
          ]
        },
        {
          "data": {
            "image/svg+xml": [
              "<?xml version=\"1.0\" encoding=\"utf-8\" standalone=\"no\"?>\n",
              "<!DOCTYPE svg PUBLIC \"-//W3C//DTD SVG 1.1//EN\"\n",
              "  \"http://www.w3.org/Graphics/SVG/1.1/DTD/svg11.dtd\">\n",
              "<svg xmlns:xlink=\"http://www.w3.org/1999/xlink\" width=\"238.965625pt\" height=\"183.35625pt\" viewBox=\"0 0 238.965625 183.35625\" xmlns=\"http://www.w3.org/2000/svg\" version=\"1.1\">\n",
              " <metadata>\n",
              "  <rdf:RDF xmlns:dc=\"http://purl.org/dc/elements/1.1/\" xmlns:cc=\"http://creativecommons.org/ns#\" xmlns:rdf=\"http://www.w3.org/1999/02/22-rdf-syntax-ns#\">\n",
              "   <cc:Work>\n",
              "    <dc:type rdf:resource=\"http://purl.org/dc/dcmitype/StillImage\"/>\n",
              "    <dc:date>2023-12-27T21:31:56.429506</dc:date>\n",
              "    <dc:format>image/svg+xml</dc:format>\n",
              "    <dc:creator>\n",
              "     <cc:Agent>\n",
              "      <dc:title>Matplotlib v3.7.2, https://matplotlib.org/</dc:title>\n",
              "     </cc:Agent>\n",
              "    </dc:creator>\n",
              "   </cc:Work>\n",
              "  </rdf:RDF>\n",
              " </metadata>\n",
              " <defs>\n",
              "  <style type=\"text/css\">*{stroke-linejoin: round; stroke-linecap: butt}</style>\n",
              " </defs>\n",
              " <g id=\"figure_1\">\n",
              "  <g id=\"patch_1\">\n",
              "   <path d=\"M 0 183.35625 \n",
              "L 238.965625 183.35625 \n",
              "L 238.965625 0 \n",
              "L 0 0 \n",
              "z\n",
              "\" style=\"fill: #ffffff\"/>\n",
              "  </g>\n",
              "  <g id=\"axes_1\">\n",
              "   <g id=\"patch_2\">\n",
              "    <path d=\"M 30.103125 145.8 \n",
              "L 225.403125 145.8 \n",
              "L 225.403125 7.2 \n",
              "L 30.103125 7.2 \n",
              "z\n",
              "\" style=\"fill: #ffffff\"/>\n",
              "   </g>\n",
              "   <g id=\"matplotlib.axis_1\">\n",
              "    <g id=\"xtick_1\">\n",
              "     <g id=\"line2d_1\">\n",
              "      <path d=\"M 51.803125 145.8 \n",
              "L 51.803125 7.2 \n",
              "\" clip-path=\"url(#pfdb2470713)\" style=\"fill: none; stroke: #b0b0b0; stroke-width: 0.8; stroke-linecap: square\"/>\n",
              "     </g>\n",
              "     <g id=\"line2d_2\">\n",
              "      <defs>\n",
              "       <path id=\"m65cacccf72\" d=\"M 0 0 \n",
              "L 0 3.5 \n",
              "\" style=\"stroke: #000000; stroke-width: 0.8\"/>\n",
              "      </defs>\n",
              "      <g>\n",
              "       <use xlink:href=\"#m65cacccf72\" x=\"51.803125\" y=\"145.8\" style=\"stroke: #000000; stroke-width: 0.8\"/>\n",
              "      </g>\n",
              "     </g>\n",
              "     <g id=\"text_1\">\n",
              "      <!-- 2 -->\n",
              "      <g transform=\"translate(48.621875 160.398438) scale(0.1 -0.1)\">\n",
              "       <defs>\n",
              "        <path id=\"DejaVuSans-32\" d=\"M 1228 531 \n",
              "L 3431 531 \n",
              "L 3431 0 \n",
              "L 469 0 \n",
              "L 469 531 \n",
              "Q 828 903 1448 1529 \n",
              "Q 2069 2156 2228 2338 \n",
              "Q 2531 2678 2651 2914 \n",
              "Q 2772 3150 2772 3378 \n",
              "Q 2772 3750 2511 3984 \n",
              "Q 2250 4219 1831 4219 \n",
              "Q 1534 4219 1204 4116 \n",
              "Q 875 4013 500 3803 \n",
              "L 500 4441 \n",
              "Q 881 4594 1212 4672 \n",
              "Q 1544 4750 1819 4750 \n",
              "Q 2544 4750 2975 4387 \n",
              "Q 3406 4025 3406 3419 \n",
              "Q 3406 3131 3298 2873 \n",
              "Q 3191 2616 2906 2266 \n",
              "Q 2828 2175 2409 1742 \n",
              "Q 1991 1309 1228 531 \n",
              "z\n",
              "\" transform=\"scale(0.015625)\"/>\n",
              "       </defs>\n",
              "       <use xlink:href=\"#DejaVuSans-32\"/>\n",
              "      </g>\n",
              "     </g>\n",
              "    </g>\n",
              "    <g id=\"xtick_2\">\n",
              "     <g id=\"line2d_3\">\n",
              "      <path d=\"M 95.203125 145.8 \n",
              "L 95.203125 7.2 \n",
              "\" clip-path=\"url(#pfdb2470713)\" style=\"fill: none; stroke: #b0b0b0; stroke-width: 0.8; stroke-linecap: square\"/>\n",
              "     </g>\n",
              "     <g id=\"line2d_4\">\n",
              "      <g>\n",
              "       <use xlink:href=\"#m65cacccf72\" x=\"95.203125\" y=\"145.8\" style=\"stroke: #000000; stroke-width: 0.8\"/>\n",
              "      </g>\n",
              "     </g>\n",
              "     <g id=\"text_2\">\n",
              "      <!-- 4 -->\n",
              "      <g transform=\"translate(92.021875 160.398438) scale(0.1 -0.1)\">\n",
              "       <defs>\n",
              "        <path id=\"DejaVuSans-34\" d=\"M 2419 4116 \n",
              "L 825 1625 \n",
              "L 2419 1625 \n",
              "L 2419 4116 \n",
              "z\n",
              "M 2253 4666 \n",
              "L 3047 4666 \n",
              "L 3047 1625 \n",
              "L 3713 1625 \n",
              "L 3713 1100 \n",
              "L 3047 1100 \n",
              "L 3047 0 \n",
              "L 2419 0 \n",
              "L 2419 1100 \n",
              "L 313 1100 \n",
              "L 313 1709 \n",
              "L 2253 4666 \n",
              "z\n",
              "\" transform=\"scale(0.015625)\"/>\n",
              "       </defs>\n",
              "       <use xlink:href=\"#DejaVuSans-34\"/>\n",
              "      </g>\n",
              "     </g>\n",
              "    </g>\n",
              "    <g id=\"xtick_3\">\n",
              "     <g id=\"line2d_5\">\n",
              "      <path d=\"M 138.603125 145.8 \n",
              "L 138.603125 7.2 \n",
              "\" clip-path=\"url(#pfdb2470713)\" style=\"fill: none; stroke: #b0b0b0; stroke-width: 0.8; stroke-linecap: square\"/>\n",
              "     </g>\n",
              "     <g id=\"line2d_6\">\n",
              "      <g>\n",
              "       <use xlink:href=\"#m65cacccf72\" x=\"138.603125\" y=\"145.8\" style=\"stroke: #000000; stroke-width: 0.8\"/>\n",
              "      </g>\n",
              "     </g>\n",
              "     <g id=\"text_3\">\n",
              "      <!-- 6 -->\n",
              "      <g transform=\"translate(135.421875 160.398438) scale(0.1 -0.1)\">\n",
              "       <defs>\n",
              "        <path id=\"DejaVuSans-36\" d=\"M 2113 2584 \n",
              "Q 1688 2584 1439 2293 \n",
              "Q 1191 2003 1191 1497 \n",
              "Q 1191 994 1439 701 \n",
              "Q 1688 409 2113 409 \n",
              "Q 2538 409 2786 701 \n",
              "Q 3034 994 3034 1497 \n",
              "Q 3034 2003 2786 2293 \n",
              "Q 2538 2584 2113 2584 \n",
              "z\n",
              "M 3366 4563 \n",
              "L 3366 3988 \n",
              "Q 3128 4100 2886 4159 \n",
              "Q 2644 4219 2406 4219 \n",
              "Q 1781 4219 1451 3797 \n",
              "Q 1122 3375 1075 2522 \n",
              "Q 1259 2794 1537 2939 \n",
              "Q 1816 3084 2150 3084 \n",
              "Q 2853 3084 3261 2657 \n",
              "Q 3669 2231 3669 1497 \n",
              "Q 3669 778 3244 343 \n",
              "Q 2819 -91 2113 -91 \n",
              "Q 1303 -91 875 529 \n",
              "Q 447 1150 447 2328 \n",
              "Q 447 3434 972 4092 \n",
              "Q 1497 4750 2381 4750 \n",
              "Q 2619 4750 2861 4703 \n",
              "Q 3103 4656 3366 4563 \n",
              "z\n",
              "\" transform=\"scale(0.015625)\"/>\n",
              "       </defs>\n",
              "       <use xlink:href=\"#DejaVuSans-36\"/>\n",
              "      </g>\n",
              "     </g>\n",
              "    </g>\n",
              "    <g id=\"xtick_4\">\n",
              "     <g id=\"line2d_7\">\n",
              "      <path d=\"M 182.003125 145.8 \n",
              "L 182.003125 7.2 \n",
              "\" clip-path=\"url(#pfdb2470713)\" style=\"fill: none; stroke: #b0b0b0; stroke-width: 0.8; stroke-linecap: square\"/>\n",
              "     </g>\n",
              "     <g id=\"line2d_8\">\n",
              "      <g>\n",
              "       <use xlink:href=\"#m65cacccf72\" x=\"182.003125\" y=\"145.8\" style=\"stroke: #000000; stroke-width: 0.8\"/>\n",
              "      </g>\n",
              "     </g>\n",
              "     <g id=\"text_4\">\n",
              "      <!-- 8 -->\n",
              "      <g transform=\"translate(178.821875 160.398438) scale(0.1 -0.1)\">\n",
              "       <defs>\n",
              "        <path id=\"DejaVuSans-38\" d=\"M 2034 2216 \n",
              "Q 1584 2216 1326 1975 \n",
              "Q 1069 1734 1069 1313 \n",
              "Q 1069 891 1326 650 \n",
              "Q 1584 409 2034 409 \n",
              "Q 2484 409 2743 651 \n",
              "Q 3003 894 3003 1313 \n",
              "Q 3003 1734 2745 1975 \n",
              "Q 2488 2216 2034 2216 \n",
              "z\n",
              "M 1403 2484 \n",
              "Q 997 2584 770 2862 \n",
              "Q 544 3141 544 3541 \n",
              "Q 544 4100 942 4425 \n",
              "Q 1341 4750 2034 4750 \n",
              "Q 2731 4750 3128 4425 \n",
              "Q 3525 4100 3525 3541 \n",
              "Q 3525 3141 3298 2862 \n",
              "Q 3072 2584 2669 2484 \n",
              "Q 3125 2378 3379 2068 \n",
              "Q 3634 1759 3634 1313 \n",
              "Q 3634 634 3220 271 \n",
              "Q 2806 -91 2034 -91 \n",
              "Q 1263 -91 848 271 \n",
              "Q 434 634 434 1313 \n",
              "Q 434 1759 690 2068 \n",
              "Q 947 2378 1403 2484 \n",
              "z\n",
              "M 1172 3481 \n",
              "Q 1172 3119 1398 2916 \n",
              "Q 1625 2713 2034 2713 \n",
              "Q 2441 2713 2670 2916 \n",
              "Q 2900 3119 2900 3481 \n",
              "Q 2900 3844 2670 4047 \n",
              "Q 2441 4250 2034 4250 \n",
              "Q 1625 4250 1398 4047 \n",
              "Q 1172 3844 1172 3481 \n",
              "z\n",
              "\" transform=\"scale(0.015625)\"/>\n",
              "       </defs>\n",
              "       <use xlink:href=\"#DejaVuSans-38\"/>\n",
              "      </g>\n",
              "     </g>\n",
              "    </g>\n",
              "    <g id=\"xtick_5\">\n",
              "     <g id=\"line2d_9\">\n",
              "      <path d=\"M 225.403125 145.8 \n",
              "L 225.403125 7.2 \n",
              "\" clip-path=\"url(#pfdb2470713)\" style=\"fill: none; stroke: #b0b0b0; stroke-width: 0.8; stroke-linecap: square\"/>\n",
              "     </g>\n",
              "     <g id=\"line2d_10\">\n",
              "      <g>\n",
              "       <use xlink:href=\"#m65cacccf72\" x=\"225.403125\" y=\"145.8\" style=\"stroke: #000000; stroke-width: 0.8\"/>\n",
              "      </g>\n",
              "     </g>\n",
              "     <g id=\"text_5\">\n",
              "      <!-- 10 -->\n",
              "      <g transform=\"translate(219.040625 160.398438) scale(0.1 -0.1)\">\n",
              "       <defs>\n",
              "        <path id=\"DejaVuSans-31\" d=\"M 794 531 \n",
              "L 1825 531 \n",
              "L 1825 4091 \n",
              "L 703 3866 \n",
              "L 703 4441 \n",
              "L 1819 4666 \n",
              "L 2450 4666 \n",
              "L 2450 531 \n",
              "L 3481 531 \n",
              "L 3481 0 \n",
              "L 794 0 \n",
              "L 794 531 \n",
              "z\n",
              "\" transform=\"scale(0.015625)\"/>\n",
              "        <path id=\"DejaVuSans-30\" d=\"M 2034 4250 \n",
              "Q 1547 4250 1301 3770 \n",
              "Q 1056 3291 1056 2328 \n",
              "Q 1056 1369 1301 889 \n",
              "Q 1547 409 2034 409 \n",
              "Q 2525 409 2770 889 \n",
              "Q 3016 1369 3016 2328 \n",
              "Q 3016 3291 2770 3770 \n",
              "Q 2525 4250 2034 4250 \n",
              "z\n",
              "M 2034 4750 \n",
              "Q 2819 4750 3233 4129 \n",
              "Q 3647 3509 3647 2328 \n",
              "Q 3647 1150 3233 529 \n",
              "Q 2819 -91 2034 -91 \n",
              "Q 1250 -91 836 529 \n",
              "Q 422 1150 422 2328 \n",
              "Q 422 3509 836 4129 \n",
              "Q 1250 4750 2034 4750 \n",
              "z\n",
              "\" transform=\"scale(0.015625)\"/>\n",
              "       </defs>\n",
              "       <use xlink:href=\"#DejaVuSans-31\"/>\n",
              "       <use xlink:href=\"#DejaVuSans-30\" x=\"63.623047\"/>\n",
              "      </g>\n",
              "     </g>\n",
              "    </g>\n",
              "    <g id=\"text_6\">\n",
              "     <!-- epoch -->\n",
              "     <g transform=\"translate(112.525 174.076563) scale(0.1 -0.1)\">\n",
              "      <defs>\n",
              "       <path id=\"DejaVuSans-65\" d=\"M 3597 1894 \n",
              "L 3597 1613 \n",
              "L 953 1613 \n",
              "Q 991 1019 1311 708 \n",
              "Q 1631 397 2203 397 \n",
              "Q 2534 397 2845 478 \n",
              "Q 3156 559 3463 722 \n",
              "L 3463 178 \n",
              "Q 3153 47 2828 -22 \n",
              "Q 2503 -91 2169 -91 \n",
              "Q 1331 -91 842 396 \n",
              "Q 353 884 353 1716 \n",
              "Q 353 2575 817 3079 \n",
              "Q 1281 3584 2069 3584 \n",
              "Q 2775 3584 3186 3129 \n",
              "Q 3597 2675 3597 1894 \n",
              "z\n",
              "M 3022 2063 \n",
              "Q 3016 2534 2758 2815 \n",
              "Q 2500 3097 2075 3097 \n",
              "Q 1594 3097 1305 2825 \n",
              "Q 1016 2553 972 2059 \n",
              "L 3022 2063 \n",
              "z\n",
              "\" transform=\"scale(0.015625)\"/>\n",
              "       <path id=\"DejaVuSans-70\" d=\"M 1159 525 \n",
              "L 1159 -1331 \n",
              "L 581 -1331 \n",
              "L 581 3500 \n",
              "L 1159 3500 \n",
              "L 1159 2969 \n",
              "Q 1341 3281 1617 3432 \n",
              "Q 1894 3584 2278 3584 \n",
              "Q 2916 3584 3314 3078 \n",
              "Q 3713 2572 3713 1747 \n",
              "Q 3713 922 3314 415 \n",
              "Q 2916 -91 2278 -91 \n",
              "Q 1894 -91 1617 61 \n",
              "Q 1341 213 1159 525 \n",
              "z\n",
              "M 3116 1747 \n",
              "Q 3116 2381 2855 2742 \n",
              "Q 2594 3103 2138 3103 \n",
              "Q 1681 3103 1420 2742 \n",
              "Q 1159 2381 1159 1747 \n",
              "Q 1159 1113 1420 752 \n",
              "Q 1681 391 2138 391 \n",
              "Q 2594 391 2855 752 \n",
              "Q 3116 1113 3116 1747 \n",
              "z\n",
              "\" transform=\"scale(0.015625)\"/>\n",
              "       <path id=\"DejaVuSans-6f\" d=\"M 1959 3097 \n",
              "Q 1497 3097 1228 2736 \n",
              "Q 959 2375 959 1747 \n",
              "Q 959 1119 1226 758 \n",
              "Q 1494 397 1959 397 \n",
              "Q 2419 397 2687 759 \n",
              "Q 2956 1122 2956 1747 \n",
              "Q 2956 2369 2687 2733 \n",
              "Q 2419 3097 1959 3097 \n",
              "z\n",
              "M 1959 3584 \n",
              "Q 2709 3584 3137 3096 \n",
              "Q 3566 2609 3566 1747 \n",
              "Q 3566 888 3137 398 \n",
              "Q 2709 -91 1959 -91 \n",
              "Q 1206 -91 779 398 \n",
              "Q 353 888 353 1747 \n",
              "Q 353 2609 779 3096 \n",
              "Q 1206 3584 1959 3584 \n",
              "z\n",
              "\" transform=\"scale(0.015625)\"/>\n",
              "       <path id=\"DejaVuSans-63\" d=\"M 3122 3366 \n",
              "L 3122 2828 \n",
              "Q 2878 2963 2633 3030 \n",
              "Q 2388 3097 2138 3097 \n",
              "Q 1578 3097 1268 2742 \n",
              "Q 959 2388 959 1747 \n",
              "Q 959 1106 1268 751 \n",
              "Q 1578 397 2138 397 \n",
              "Q 2388 397 2633 464 \n",
              "Q 2878 531 3122 666 \n",
              "L 3122 134 \n",
              "Q 2881 22 2623 -34 \n",
              "Q 2366 -91 2075 -91 \n",
              "Q 1284 -91 818 406 \n",
              "Q 353 903 353 1747 \n",
              "Q 353 2603 823 3093 \n",
              "Q 1294 3584 2113 3584 \n",
              "Q 2378 3584 2631 3529 \n",
              "Q 2884 3475 3122 3366 \n",
              "z\n",
              "\" transform=\"scale(0.015625)\"/>\n",
              "       <path id=\"DejaVuSans-68\" d=\"M 3513 2113 \n",
              "L 3513 0 \n",
              "L 2938 0 \n",
              "L 2938 2094 \n",
              "Q 2938 2591 2744 2837 \n",
              "Q 2550 3084 2163 3084 \n",
              "Q 1697 3084 1428 2787 \n",
              "Q 1159 2491 1159 1978 \n",
              "L 1159 0 \n",
              "L 581 0 \n",
              "L 581 4863 \n",
              "L 1159 4863 \n",
              "L 1159 2956 \n",
              "Q 1366 3272 1645 3428 \n",
              "Q 1925 3584 2291 3584 \n",
              "Q 2894 3584 3203 3211 \n",
              "Q 3513 2838 3513 2113 \n",
              "z\n",
              "\" transform=\"scale(0.015625)\"/>\n",
              "      </defs>\n",
              "      <use xlink:href=\"#DejaVuSans-65\"/>\n",
              "      <use xlink:href=\"#DejaVuSans-70\" x=\"61.523438\"/>\n",
              "      <use xlink:href=\"#DejaVuSans-6f\" x=\"125\"/>\n",
              "      <use xlink:href=\"#DejaVuSans-63\" x=\"186.181641\"/>\n",
              "      <use xlink:href=\"#DejaVuSans-68\" x=\"241.162109\"/>\n",
              "     </g>\n",
              "    </g>\n",
              "   </g>\n",
              "   <g id=\"matplotlib.axis_2\">\n",
              "    <g id=\"ytick_1\">\n",
              "     <g id=\"line2d_11\">\n",
              "      <path d=\"M 30.103125 144.969892 \n",
              "L 225.403125 144.969892 \n",
              "\" clip-path=\"url(#pfdb2470713)\" style=\"fill: none; stroke: #b0b0b0; stroke-width: 0.8; stroke-linecap: square\"/>\n",
              "     </g>\n",
              "     <g id=\"line2d_12\">\n",
              "      <defs>\n",
              "       <path id=\"ma98e8f34e0\" d=\"M 0 0 \n",
              "L -3.5 0 \n",
              "\" style=\"stroke: #000000; stroke-width: 0.8\"/>\n",
              "      </defs>\n",
              "      <g>\n",
              "       <use xlink:href=\"#ma98e8f34e0\" x=\"30.103125\" y=\"144.969892\" style=\"stroke: #000000; stroke-width: 0.8\"/>\n",
              "      </g>\n",
              "     </g>\n",
              "     <g id=\"text_7\">\n",
              "      <!-- 0.0 -->\n",
              "      <g transform=\"translate(7.2 148.769111) scale(0.1 -0.1)\">\n",
              "       <defs>\n",
              "        <path id=\"DejaVuSans-2e\" d=\"M 684 794 \n",
              "L 1344 794 \n",
              "L 1344 0 \n",
              "L 684 0 \n",
              "L 684 794 \n",
              "z\n",
              "\" transform=\"scale(0.015625)\"/>\n",
              "       </defs>\n",
              "       <use xlink:href=\"#DejaVuSans-30\"/>\n",
              "       <use xlink:href=\"#DejaVuSans-2e\" x=\"63.623047\"/>\n",
              "       <use xlink:href=\"#DejaVuSans-30\" x=\"95.410156\"/>\n",
              "      </g>\n",
              "     </g>\n",
              "    </g>\n",
              "    <g id=\"ytick_2\">\n",
              "     <g id=\"line2d_13\">\n",
              "      <path d=\"M 30.103125 117.235486 \n",
              "L 225.403125 117.235486 \n",
              "\" clip-path=\"url(#pfdb2470713)\" style=\"fill: none; stroke: #b0b0b0; stroke-width: 0.8; stroke-linecap: square\"/>\n",
              "     </g>\n",
              "     <g id=\"line2d_14\">\n",
              "      <g>\n",
              "       <use xlink:href=\"#ma98e8f34e0\" x=\"30.103125\" y=\"117.235486\" style=\"stroke: #000000; stroke-width: 0.8\"/>\n",
              "      </g>\n",
              "     </g>\n",
              "     <g id=\"text_8\">\n",
              "      <!-- 0.5 -->\n",
              "      <g transform=\"translate(7.2 121.034705) scale(0.1 -0.1)\">\n",
              "       <defs>\n",
              "        <path id=\"DejaVuSans-35\" d=\"M 691 4666 \n",
              "L 3169 4666 \n",
              "L 3169 4134 \n",
              "L 1269 4134 \n",
              "L 1269 2991 \n",
              "Q 1406 3038 1543 3061 \n",
              "Q 1681 3084 1819 3084 \n",
              "Q 2600 3084 3056 2656 \n",
              "Q 3513 2228 3513 1497 \n",
              "Q 3513 744 3044 326 \n",
              "Q 2575 -91 1722 -91 \n",
              "Q 1428 -91 1123 -41 \n",
              "Q 819 9 494 109 \n",
              "L 494 744 \n",
              "Q 775 591 1075 516 \n",
              "Q 1375 441 1709 441 \n",
              "Q 2250 441 2565 725 \n",
              "Q 2881 1009 2881 1497 \n",
              "Q 2881 1984 2565 2268 \n",
              "Q 2250 2553 1709 2553 \n",
              "Q 1456 2553 1204 2497 \n",
              "Q 953 2441 691 2322 \n",
              "L 691 4666 \n",
              "z\n",
              "\" transform=\"scale(0.015625)\"/>\n",
              "       </defs>\n",
              "       <use xlink:href=\"#DejaVuSans-30\"/>\n",
              "       <use xlink:href=\"#DejaVuSans-2e\" x=\"63.623047\"/>\n",
              "       <use xlink:href=\"#DejaVuSans-35\" x=\"95.410156\"/>\n",
              "      </g>\n",
              "     </g>\n",
              "    </g>\n",
              "    <g id=\"ytick_3\">\n",
              "     <g id=\"line2d_15\">\n",
              "      <path d=\"M 30.103125 89.501081 \n",
              "L 225.403125 89.501081 \n",
              "\" clip-path=\"url(#pfdb2470713)\" style=\"fill: none; stroke: #b0b0b0; stroke-width: 0.8; stroke-linecap: square\"/>\n",
              "     </g>\n",
              "     <g id=\"line2d_16\">\n",
              "      <g>\n",
              "       <use xlink:href=\"#ma98e8f34e0\" x=\"30.103125\" y=\"89.501081\" style=\"stroke: #000000; stroke-width: 0.8\"/>\n",
              "      </g>\n",
              "     </g>\n",
              "     <g id=\"text_9\">\n",
              "      <!-- 1.0 -->\n",
              "      <g transform=\"translate(7.2 93.300299) scale(0.1 -0.1)\">\n",
              "       <use xlink:href=\"#DejaVuSans-31\"/>\n",
              "       <use xlink:href=\"#DejaVuSans-2e\" x=\"63.623047\"/>\n",
              "       <use xlink:href=\"#DejaVuSans-30\" x=\"95.410156\"/>\n",
              "      </g>\n",
              "     </g>\n",
              "    </g>\n",
              "    <g id=\"ytick_4\">\n",
              "     <g id=\"line2d_17\">\n",
              "      <path d=\"M 30.103125 61.766675 \n",
              "L 225.403125 61.766675 \n",
              "\" clip-path=\"url(#pfdb2470713)\" style=\"fill: none; stroke: #b0b0b0; stroke-width: 0.8; stroke-linecap: square\"/>\n",
              "     </g>\n",
              "     <g id=\"line2d_18\">\n",
              "      <g>\n",
              "       <use xlink:href=\"#ma98e8f34e0\" x=\"30.103125\" y=\"61.766675\" style=\"stroke: #000000; stroke-width: 0.8\"/>\n",
              "      </g>\n",
              "     </g>\n",
              "     <g id=\"text_10\">\n",
              "      <!-- 1.5 -->\n",
              "      <g transform=\"translate(7.2 65.565893) scale(0.1 -0.1)\">\n",
              "       <use xlink:href=\"#DejaVuSans-31\"/>\n",
              "       <use xlink:href=\"#DejaVuSans-2e\" x=\"63.623047\"/>\n",
              "       <use xlink:href=\"#DejaVuSans-35\" x=\"95.410156\"/>\n",
              "      </g>\n",
              "     </g>\n",
              "    </g>\n",
              "    <g id=\"ytick_5\">\n",
              "     <g id=\"line2d_19\">\n",
              "      <path d=\"M 30.103125 34.032269 \n",
              "L 225.403125 34.032269 \n",
              "\" clip-path=\"url(#pfdb2470713)\" style=\"fill: none; stroke: #b0b0b0; stroke-width: 0.8; stroke-linecap: square\"/>\n",
              "     </g>\n",
              "     <g id=\"line2d_20\">\n",
              "      <g>\n",
              "       <use xlink:href=\"#ma98e8f34e0\" x=\"30.103125\" y=\"34.032269\" style=\"stroke: #000000; stroke-width: 0.8\"/>\n",
              "      </g>\n",
              "     </g>\n",
              "     <g id=\"text_11\">\n",
              "      <!-- 2.0 -->\n",
              "      <g transform=\"translate(7.2 37.831488) scale(0.1 -0.1)\">\n",
              "       <use xlink:href=\"#DejaVuSans-32\"/>\n",
              "       <use xlink:href=\"#DejaVuSans-2e\" x=\"63.623047\"/>\n",
              "       <use xlink:href=\"#DejaVuSans-30\" x=\"95.410156\"/>\n",
              "      </g>\n",
              "     </g>\n",
              "    </g>\n",
              "   </g>\n",
              "   <g id=\"line2d_21\">\n",
              "    <path d=\"M 12.743125 13.5 \n",
              "L 17.083125 15.038304 \n",
              "L 21.423125 15.649646 \n",
              "L 25.763125 15.97988 \n",
              "L 30.103125 16.198079 \n",
              "L 34.443125 17.152118 \n",
              "L 38.783125 17.163896 \n",
              "L 43.123125 17.201415 \n",
              "L 47.463125 17.328223 \n",
              "L 51.803125 19.799349 \n",
              "L 56.143125 64.766609 \n",
              "L 60.483125 73.543448 \n",
              "L 64.823125 77.533876 \n",
              "L 69.163125 80.683293 \n",
              "L 73.503125 83.180351 \n",
              "L 77.843125 96.472558 \n",
              "L 82.183125 97.541155 \n",
              "L 86.523125 98.57758 \n",
              "L 90.863125 99.745276 \n",
              "L 95.203125 100.787436 \n",
              "L 99.543125 105.353812 \n",
              "L 103.883125 106.123148 \n",
              "L 108.223125 106.59951 \n",
              "L 112.563125 107.034312 \n",
              "L 116.903125 107.502225 \n",
              "L 121.243125 109.388002 \n",
              "L 125.583125 109.876805 \n",
              "L 129.923125 110.223293 \n",
              "L 134.263125 110.637175 \n",
              "L 138.603125 110.825574 \n",
              "L 142.943125 111.988347 \n",
              "L 147.283125 112.485999 \n",
              "L 151.623125 112.936712 \n",
              "L 155.963125 113.247852 \n",
              "L 160.303125 113.483174 \n",
              "L 164.643125 114.436318 \n",
              "L 168.983125 114.939626 \n",
              "L 173.323125 115.568039 \n",
              "L 177.663125 115.929509 \n",
              "L 182.003125 116.071308 \n",
              "L 186.343125 116.662316 \n",
              "L 190.683125 116.860451 \n",
              "L 195.023125 117.036743 \n",
              "L 199.363125 117.423549 \n",
              "L 203.703125 117.602339 \n",
              "L 208.043125 119.501216 \n",
              "L 212.383125 118.897139 \n",
              "L 216.723125 119.013091 \n",
              "L 221.063125 118.935255 \n",
              "L 225.403125 119.021575 \n",
              "\" clip-path=\"url(#pfdb2470713)\" style=\"fill: none; stroke: #1f77b4; stroke-width: 1.5; stroke-linecap: square\"/>\n",
              "   </g>\n",
              "   <g id=\"line2d_22\">\n",
              "    <path d=\"M 12.743125 139.470034 \n",
              "L 17.083125 139.5 \n",
              "L 21.423125 139.470034 \n",
              "L 25.763125 139.480407 \n",
              "L 30.103125 139.435029 \n",
              "L 34.443125 139.009024 \n",
              "L 38.783125 138.979058 \n",
              "L 43.123125 138.9829 \n",
              "L 47.463125 138.644825 \n",
              "L 51.803125 137.252332 \n",
              "L 56.143125 121.794883 \n",
              "L 60.483125 118.228965 \n",
              "L 64.823125 116.909706 \n",
              "L 69.163125 115.591983 \n",
              "L 73.503125 114.477762 \n",
              "L 77.843125 108.430181 \n",
              "L 82.183125 107.913849 \n",
              "L 86.523125 107.497403 \n",
              "L 90.863125 107.134741 \n",
              "L 95.203125 106.781464 \n",
              "L 99.543125 104.802027 \n",
              "L 103.883125 104.677554 \n",
              "L 108.223125 104.609939 \n",
              "L 112.563125 104.48393 \n",
              "L 116.903125 104.256709 \n",
              "L 121.243125 103.165439 \n",
              "L 125.583125 103.073237 \n",
              "L 129.923125 102.985645 \n",
              "L 134.263125 102.866934 \n",
              "L 138.603125 102.798804 \n",
              "L 142.943125 102.80124 \n",
              "L 147.283125 102.328704 \n",
              "L 151.623125 102.106651 \n",
              "L 155.963125 101.972574 \n",
              "L 160.303125 101.820704 \n",
              "L 164.643125 101.349057 \n",
              "L 168.983125 101.012519 \n",
              "L 173.323125 100.863459 \n",
              "L 177.663125 100.689811 \n",
              "L 182.003125 100.609635 \n",
              "L 186.343125 100.344053 \n",
              "L 190.683125 100.19653 \n",
              "L 195.023125 100.105864 \n",
              "L 199.363125 100.019041 \n",
              "L 203.703125 99.929217 \n",
              "L 208.043125 99.283728 \n",
              "L 212.383125 99.322914 \n",
              "L 216.723125 99.37132 \n",
              "L 221.063125 99.310237 \n",
              "L 225.403125 99.253422 \n",
              "\" clip-path=\"url(#pfdb2470713)\" style=\"fill: none; stroke-dasharray: 5.55,2.4; stroke-dashoffset: 0; stroke: #bf00bf; stroke-width: 1.5\"/>\n",
              "   </g>\n",
              "   <g id=\"line2d_23\">\n",
              "    <path d=\"M 30.103125 139.423011 \n",
              "L 51.803125 126.027293 \n",
              "L 73.503125 111.21712 \n",
              "L 95.203125 113.069779 \n",
              "L 116.903125 106.430162 \n",
              "L 138.603125 104.982426 \n",
              "L 160.303125 101.277109 \n",
              "L 182.003125 100.700234 \n",
              "L 203.703125 100.827812 \n",
              "L 225.403125 104.804926 \n",
              "\" clip-path=\"url(#pfdb2470713)\" style=\"fill: none; stroke-dasharray: 9.6,2.4,1.5,2.4; stroke-dashoffset: 0; stroke: #008000; stroke-width: 1.5\"/>\n",
              "   </g>\n",
              "   <g id=\"patch_3\">\n",
              "    <path d=\"M 30.103125 145.8 \n",
              "L 30.103125 7.2 \n",
              "\" style=\"fill: none; stroke: #000000; stroke-width: 0.8; stroke-linejoin: miter; stroke-linecap: square\"/>\n",
              "   </g>\n",
              "   <g id=\"patch_4\">\n",
              "    <path d=\"M 225.403125 145.8 \n",
              "L 225.403125 7.2 \n",
              "\" style=\"fill: none; stroke: #000000; stroke-width: 0.8; stroke-linejoin: miter; stroke-linecap: square\"/>\n",
              "   </g>\n",
              "   <g id=\"patch_5\">\n",
              "    <path d=\"M 30.103125 145.8 \n",
              "L 225.403125 145.8 \n",
              "\" style=\"fill: none; stroke: #000000; stroke-width: 0.8; stroke-linejoin: miter; stroke-linecap: square\"/>\n",
              "   </g>\n",
              "   <g id=\"patch_6\">\n",
              "    <path d=\"M 30.103125 7.2 \n",
              "L 225.403125 7.2 \n",
              "\" style=\"fill: none; stroke: #000000; stroke-width: 0.8; stroke-linejoin: miter; stroke-linecap: square\"/>\n",
              "   </g>\n",
              "   <g id=\"legend_1\">\n",
              "    <g id=\"patch_7\">\n",
              "     <path d=\"M 140.634375 59.234375 \n",
              "L 218.403125 59.234375 \n",
              "Q 220.403125 59.234375 220.403125 57.234375 \n",
              "L 220.403125 14.2 \n",
              "Q 220.403125 12.2 218.403125 12.2 \n",
              "L 140.634375 12.2 \n",
              "Q 138.634375 12.2 138.634375 14.2 \n",
              "L 138.634375 57.234375 \n",
              "Q 138.634375 59.234375 140.634375 59.234375 \n",
              "z\n",
              "\" style=\"fill: #ffffff; opacity: 0.8; stroke: #cccccc; stroke-linejoin: miter\"/>\n",
              "    </g>\n",
              "    <g id=\"line2d_24\">\n",
              "     <path d=\"M 142.634375 20.298438 \n",
              "L 152.634375 20.298438 \n",
              "L 162.634375 20.298438 \n",
              "\" style=\"fill: none; stroke: #1f77b4; stroke-width: 1.5; stroke-linecap: square\"/>\n",
              "    </g>\n",
              "    <g id=\"text_12\">\n",
              "     <!-- train loss -->\n",
              "     <g transform=\"translate(170.634375 23.798438) scale(0.1 -0.1)\">\n",
              "      <defs>\n",
              "       <path id=\"DejaVuSans-74\" d=\"M 1172 4494 \n",
              "L 1172 3500 \n",
              "L 2356 3500 \n",
              "L 2356 3053 \n",
              "L 1172 3053 \n",
              "L 1172 1153 \n",
              "Q 1172 725 1289 603 \n",
              "Q 1406 481 1766 481 \n",
              "L 2356 481 \n",
              "L 2356 0 \n",
              "L 1766 0 \n",
              "Q 1100 0 847 248 \n",
              "Q 594 497 594 1153 \n",
              "L 594 3053 \n",
              "L 172 3053 \n",
              "L 172 3500 \n",
              "L 594 3500 \n",
              "L 594 4494 \n",
              "L 1172 4494 \n",
              "z\n",
              "\" transform=\"scale(0.015625)\"/>\n",
              "       <path id=\"DejaVuSans-72\" d=\"M 2631 2963 \n",
              "Q 2534 3019 2420 3045 \n",
              "Q 2306 3072 2169 3072 \n",
              "Q 1681 3072 1420 2755 \n",
              "Q 1159 2438 1159 1844 \n",
              "L 1159 0 \n",
              "L 581 0 \n",
              "L 581 3500 \n",
              "L 1159 3500 \n",
              "L 1159 2956 \n",
              "Q 1341 3275 1631 3429 \n",
              "Q 1922 3584 2338 3584 \n",
              "Q 2397 3584 2469 3576 \n",
              "Q 2541 3569 2628 3553 \n",
              "L 2631 2963 \n",
              "z\n",
              "\" transform=\"scale(0.015625)\"/>\n",
              "       <path id=\"DejaVuSans-61\" d=\"M 2194 1759 \n",
              "Q 1497 1759 1228 1600 \n",
              "Q 959 1441 959 1056 \n",
              "Q 959 750 1161 570 \n",
              "Q 1363 391 1709 391 \n",
              "Q 2188 391 2477 730 \n",
              "Q 2766 1069 2766 1631 \n",
              "L 2766 1759 \n",
              "L 2194 1759 \n",
              "z\n",
              "M 3341 1997 \n",
              "L 3341 0 \n",
              "L 2766 0 \n",
              "L 2766 531 \n",
              "Q 2569 213 2275 61 \n",
              "Q 1981 -91 1556 -91 \n",
              "Q 1019 -91 701 211 \n",
              "Q 384 513 384 1019 \n",
              "Q 384 1609 779 1909 \n",
              "Q 1175 2209 1959 2209 \n",
              "L 2766 2209 \n",
              "L 2766 2266 \n",
              "Q 2766 2663 2505 2880 \n",
              "Q 2244 3097 1772 3097 \n",
              "Q 1472 3097 1187 3025 \n",
              "Q 903 2953 641 2809 \n",
              "L 641 3341 \n",
              "Q 956 3463 1253 3523 \n",
              "Q 1550 3584 1831 3584 \n",
              "Q 2591 3584 2966 3190 \n",
              "Q 3341 2797 3341 1997 \n",
              "z\n",
              "\" transform=\"scale(0.015625)\"/>\n",
              "       <path id=\"DejaVuSans-69\" d=\"M 603 3500 \n",
              "L 1178 3500 \n",
              "L 1178 0 \n",
              "L 603 0 \n",
              "L 603 3500 \n",
              "z\n",
              "M 603 4863 \n",
              "L 1178 4863 \n",
              "L 1178 4134 \n",
              "L 603 4134 \n",
              "L 603 4863 \n",
              "z\n",
              "\" transform=\"scale(0.015625)\"/>\n",
              "       <path id=\"DejaVuSans-6e\" d=\"M 3513 2113 \n",
              "L 3513 0 \n",
              "L 2938 0 \n",
              "L 2938 2094 \n",
              "Q 2938 2591 2744 2837 \n",
              "Q 2550 3084 2163 3084 \n",
              "Q 1697 3084 1428 2787 \n",
              "Q 1159 2491 1159 1978 \n",
              "L 1159 0 \n",
              "L 581 0 \n",
              "L 581 3500 \n",
              "L 1159 3500 \n",
              "L 1159 2956 \n",
              "Q 1366 3272 1645 3428 \n",
              "Q 1925 3584 2291 3584 \n",
              "Q 2894 3584 3203 3211 \n",
              "Q 3513 2838 3513 2113 \n",
              "z\n",
              "\" transform=\"scale(0.015625)\"/>\n",
              "       <path id=\"DejaVuSans-20\" transform=\"scale(0.015625)\"/>\n",
              "       <path id=\"DejaVuSans-6c\" d=\"M 603 4863 \n",
              "L 1178 4863 \n",
              "L 1178 0 \n",
              "L 603 0 \n",
              "L 603 4863 \n",
              "z\n",
              "\" transform=\"scale(0.015625)\"/>\n",
              "       <path id=\"DejaVuSans-73\" d=\"M 2834 3397 \n",
              "L 2834 2853 \n",
              "Q 2591 2978 2328 3040 \n",
              "Q 2066 3103 1784 3103 \n",
              "Q 1356 3103 1142 2972 \n",
              "Q 928 2841 928 2578 \n",
              "Q 928 2378 1081 2264 \n",
              "Q 1234 2150 1697 2047 \n",
              "L 1894 2003 \n",
              "Q 2506 1872 2764 1633 \n",
              "Q 3022 1394 3022 966 \n",
              "Q 3022 478 2636 193 \n",
              "Q 2250 -91 1575 -91 \n",
              "Q 1294 -91 989 -36 \n",
              "Q 684 19 347 128 \n",
              "L 347 722 \n",
              "Q 666 556 975 473 \n",
              "Q 1284 391 1588 391 \n",
              "Q 1994 391 2212 530 \n",
              "Q 2431 669 2431 922 \n",
              "Q 2431 1156 2273 1281 \n",
              "Q 2116 1406 1581 1522 \n",
              "L 1381 1569 \n",
              "Q 847 1681 609 1914 \n",
              "Q 372 2147 372 2553 \n",
              "Q 372 3047 722 3315 \n",
              "Q 1072 3584 1716 3584 \n",
              "Q 2034 3584 2315 3537 \n",
              "Q 2597 3491 2834 3397 \n",
              "z\n",
              "\" transform=\"scale(0.015625)\"/>\n",
              "      </defs>\n",
              "      <use xlink:href=\"#DejaVuSans-74\"/>\n",
              "      <use xlink:href=\"#DejaVuSans-72\" x=\"39.208984\"/>\n",
              "      <use xlink:href=\"#DejaVuSans-61\" x=\"80.322266\"/>\n",
              "      <use xlink:href=\"#DejaVuSans-69\" x=\"141.601562\"/>\n",
              "      <use xlink:href=\"#DejaVuSans-6e\" x=\"169.384766\"/>\n",
              "      <use xlink:href=\"#DejaVuSans-20\" x=\"232.763672\"/>\n",
              "      <use xlink:href=\"#DejaVuSans-6c\" x=\"264.550781\"/>\n",
              "      <use xlink:href=\"#DejaVuSans-6f\" x=\"292.333984\"/>\n",
              "      <use xlink:href=\"#DejaVuSans-73\" x=\"353.515625\"/>\n",
              "      <use xlink:href=\"#DejaVuSans-73\" x=\"405.615234\"/>\n",
              "     </g>\n",
              "    </g>\n",
              "    <g id=\"line2d_25\">\n",
              "     <path d=\"M 142.634375 34.976563 \n",
              "L 152.634375 34.976563 \n",
              "L 162.634375 34.976563 \n",
              "\" style=\"fill: none; stroke-dasharray: 5.55,2.4; stroke-dashoffset: 0; stroke: #bf00bf; stroke-width: 1.5\"/>\n",
              "    </g>\n",
              "    <g id=\"text_13\">\n",
              "     <!-- train acc -->\n",
              "     <g transform=\"translate(170.634375 38.476563) scale(0.1 -0.1)\">\n",
              "      <use xlink:href=\"#DejaVuSans-74\"/>\n",
              "      <use xlink:href=\"#DejaVuSans-72\" x=\"39.208984\"/>\n",
              "      <use xlink:href=\"#DejaVuSans-61\" x=\"80.322266\"/>\n",
              "      <use xlink:href=\"#DejaVuSans-69\" x=\"141.601562\"/>\n",
              "      <use xlink:href=\"#DejaVuSans-6e\" x=\"169.384766\"/>\n",
              "      <use xlink:href=\"#DejaVuSans-20\" x=\"232.763672\"/>\n",
              "      <use xlink:href=\"#DejaVuSans-61\" x=\"264.550781\"/>\n",
              "      <use xlink:href=\"#DejaVuSans-63\" x=\"325.830078\"/>\n",
              "      <use xlink:href=\"#DejaVuSans-63\" x=\"380.810547\"/>\n",
              "     </g>\n",
              "    </g>\n",
              "    <g id=\"line2d_26\">\n",
              "     <path d=\"M 142.634375 49.654688 \n",
              "L 152.634375 49.654688 \n",
              "L 162.634375 49.654688 \n",
              "\" style=\"fill: none; stroke-dasharray: 9.6,2.4,1.5,2.4; stroke-dashoffset: 0; stroke: #008000; stroke-width: 1.5\"/>\n",
              "    </g>\n",
              "    <g id=\"text_14\">\n",
              "     <!-- test acc -->\n",
              "     <g transform=\"translate(170.634375 53.154688) scale(0.1 -0.1)\">\n",
              "      <use xlink:href=\"#DejaVuSans-74\"/>\n",
              "      <use xlink:href=\"#DejaVuSans-65\" x=\"39.208984\"/>\n",
              "      <use xlink:href=\"#DejaVuSans-73\" x=\"100.732422\"/>\n",
              "      <use xlink:href=\"#DejaVuSans-74\" x=\"152.832031\"/>\n",
              "      <use xlink:href=\"#DejaVuSans-20\" x=\"192.041016\"/>\n",
              "      <use xlink:href=\"#DejaVuSans-61\" x=\"223.828125\"/>\n",
              "      <use xlink:href=\"#DejaVuSans-63\" x=\"285.107422\"/>\n",
              "      <use xlink:href=\"#DejaVuSans-63\" x=\"340.087891\"/>\n",
              "     </g>\n",
              "    </g>\n",
              "   </g>\n",
              "  </g>\n",
              " </g>\n",
              " <defs>\n",
              "  <clipPath id=\"pfdb2470713\">\n",
              "   <rect x=\"30.103125\" y=\"7.2\" width=\"195.3\" height=\"138.6\"/>\n",
              "  </clipPath>\n",
              " </defs>\n",
              "</svg>\n"
            ],
            "text/plain": [
              "<Figure size 350x250 with 1 Axes>"
            ]
          },
          "metadata": {},
          "output_type": "display_data"
        }
      ],
      "source": [
        "import torch\n",
        "from torch import nn\n",
        "from d2l import torch as d2l\n",
        "\n",
        "net = nn.Sequential(\n",
        "    nn.Conv2d(1, 6, kernel_size=5, padding=2), nn.Sigmoid(),\n",
        "    nn.AvgPool2d(kernel_size=2, stride=2),\n",
        "    nn.Conv2d(6, 16, kernel_size=5), nn.Sigmoid(),\n",
        "    nn.AvgPool2d(kernel_size=2, stride=2),\n",
        "    nn.Flatten(),\n",
        "    nn.Linear(16 * 5 * 5, 120), nn.Sigmoid(),\n",
        "    nn.Linear(120, 84), nn.Sigmoid(),\n",
        "    nn.Linear(84, 10))\n",
        "X = torch.rand(size=(1, 1, 28, 28), dtype=torch.float32)\n",
        "for layer in net:\n",
        "    X = layer(X)\n",
        "    print(layer.__class__.__name__,'output shape: \\t',X.shape)\n",
        "batch_size = 256\n",
        "train_iter, test_iter = d2l.load_data_fashion_mnist(batch_size=batch_size)\n",
        "def evaluate_accuracy_gpu(net, data_iter, device=None): #@save\n",
        "    \"\"\"使用GPU计算模型在数据集上的精度\"\"\"\n",
        "    if isinstance(net, nn.Module):\n",
        "        net.eval()  # 设置为评估模式\n",
        "        if not device:\n",
        "            device = next(iter(net.parameters())).device\n",
        "    # 正确预测的数量，总预测的数量\n",
        "    metric = d2l.Accumulator(2)\n",
        "    with torch.no_grad():\n",
        "        for X, y in data_iter:\n",
        "            if isinstance(X, list):\n",
        "                # BERT微调所需的（之后将介绍）\n",
        "                X = [x.to(device) for x in X]\n",
        "            else:\n",
        "                X = X.to(device)\n",
        "            y = y.to(device)\n",
        "            metric.add(d2l.accuracy(net(X), y), y.numel())\n",
        "    return metric[0] / metric[1]\n",
        "#@save\n",
        "def train_ch6(net, train_iter, test_iter, num_epochs, lr, device):\n",
        "\n",
        "    \"\"\"用GPU训练模型(在第六章定义)\"\"\"\n",
        "    def init_weights(m):\n",
        "        if type(m) == nn.Linear or type(m) == nn.Conv2d:\n",
        "            nn.init.xavier_uniform_(m.weight)\n",
        "    net.apply(init_weights)\n",
        "    print('training on', device)\n",
        "    net.to(device)\n",
        "    optimizer = torch.optim.SGD(net.parameters(), lr=lr)\n",
        "    loss = nn.CrossEntropyLoss()\n",
        "    animator = d2l.Animator(xlabel='epoch', xlim=[1, num_epochs],\n",
        "                            legend=['train loss', 'train acc', 'test acc'])\n",
        "    timer, num_batches = d2l.Timer(), len(train_iter)\n",
        "    for epoch in range(num_epochs):\n",
        "        # 训练损失之和，训练准确率之和，样本数\n",
        "        metric = d2l.Accumulator(3)\n",
        "        net.train()\n",
        "        for i, (X, y) in enumerate(train_iter):\n",
        "            timer.start()\n",
        "            optimizer.zero_grad()\n",
        "            X, y = X.to(device), y.to(device)\n",
        "            y_hat = net(X)\n",
        "            l = loss(y_hat, y)\n",
        "            l.backward()\n",
        "            optimizer.step()\n",
        "            with torch.no_grad():\n",
        "                metric.add(l * X.shape[0], d2l.accuracy(y_hat, y), X.shape[0])\n",
        "            timer.stop()\n",
        "            train_l = metric[0] / metric[2]\n",
        "            train_acc = metric[1] / metric[2]\n",
        "            if (i + 1) % (num_batches // 5) == 0 or i == num_batches - 1:\n",
        "                animator.add(epoch + (i + 1) / num_batches,\n",
        "                             (train_l, train_acc, None))\n",
        "        test_acc = evaluate_accuracy_gpu(net, test_iter)\n",
        "        animator.add(epoch + 1, (None, None, test_acc))\n",
        "    print(f'loss {train_l:.3f}, train acc {train_acc:.3f}, '\n",
        "          f'test acc {test_acc:.3f}')\n",
        "    print(f'{metric[2] * num_epochs / timer.sum():.1f} examples/sec '\n",
        "          f'on {str(device)}')\n",
        "lr, num_epochs = 0.9, 10\n",
        "train_ch6(net, train_iter, test_iter, num_epochs, lr, d2l.try_gpu())"
      ]
    },
    {
      "cell_type": "markdown",
      "metadata": {
        "id": "pNRiATeIuQMX"
      },
      "source": [
        "&emsp;&emsp; 代码验证如下："
      ]
    },
    {
      "cell_type": "code",
      "execution_count": null,
      "metadata": {
        "id": "f4384f90",
        "pycharm": {
          "name": "#%%\n"
        }
      },
      "outputs": [],
      "source": [
        "import torch\n",
        "from torch import nn\n",
        "from d2l import torch as d2l\n",
        "\n",
        "net_maxpool = nn.Sequential(\n",
        "    nn.Conv2d(1, 6, kernel_size=5, padding=2), nn.Sigmoid(),\n",
        "    nn.MaxPool2d(kernel_size=2, stride=2),\n",
        "    nn.Conv2d(6, 16, kernel_size=5), nn.Sigmoid(),\n",
        "    nn.MaxPool2d(kernel_size=2, stride=2),\n",
        "    nn.Flatten(),\n",
        "    nn.Linear(16 * 5 * 5, 120), nn.Sigmoid(),\n",
        "    nn.Linear(120, 84), nn.Sigmoid(),\n",
        "    nn.Linear(84, 10))\n",
        "X = torch.rand(size=(1, 1, 28, 28), dtype=torch.float32)\n",
        "for layer in net_maxpool:\n",
        "    X = layer(X)\n",
        "    print(layer.__class__.__name__,'output shape: \\t',X.shape)\n",
        "lr, num_epochs = 0.9, 10\n",
        "train_ch6(net_maxpool, train_iter, test_iter, num_epochs, lr, d2l.try_gpu())"
      ]
    },
    {
      "cell_type": "markdown",
      "metadata": {
        "id": "q-RxShsf46LS"
      },
      "source": [
        "&emsp;&emsp; 可见用最大汇聚层替换平均汇聚层后，在训练集和测试集上均得到了更好的结果"
      ]
    },
    {
      "cell_type": "markdown",
      "metadata": {
        "id": "etARpxbiH6Gt"
      },
      "source": [
        "### 练习 6.6.2\n",
        "\n",
        "尝试构建一个基于LeNet的更复杂的网络，以提高其准确性。\n",
        "1. 调整卷积窗口大小。\n",
        "1. 调整输出通道的数量。\n",
        "1. 调整激活函数（如ReLU）。\n",
        "1. 调整卷积层的数量。\n",
        "1. 调整全连接层的数量。\n",
        "1. 调整学习率和其他训练细节（例如，初始化和轮数）。"
      ]
    },
    {
      "cell_type": "markdown",
      "metadata": {
        "id": "xmc7aQICH6Gt"
      },
      "source": [
        "**解答：** "
      ]
    },
    {
      "cell_type": "markdown",
      "metadata": {
        "id": "sjvzTbAXulfz"
      },
      "source": [
        "**第1问：**"
      ]
    },
    {
      "cell_type": "markdown",
      "metadata": {
        "id": "j-E6t0GsulmH"
      },
      "source": [
        "&emsp;&emsp; `nn.Conv2d(1, 6, kernel_size = 7)`"
      ]
    },
    {
      "cell_type": "markdown",
      "metadata": {
        "id": "OnqV2DSSulx5"
      },
      "source": [
        "**第2问：**"
      ]
    },
    {
      "cell_type": "markdown",
      "metadata": {
        "id": "Bh0S_tDful5D"
      },
      "source": [
        "&emsp;&emsp; `nn.Conv2d(1, 10, kernel_size = 5)`"
      ]
    },
    {
      "cell_type": "markdown",
      "metadata": {
        "id": "hPIOeTz_umAj"
      },
      "source": [
        "**第3问：**"
      ]
    },
    {
      "cell_type": "markdown",
      "metadata": {
        "id": "I7wIit-_umHa"
      },
      "source": [
        "&emsp;&emsp; `nn.Conv2d(1, 6, kernel_size = 5).ReLU()`或者直接将`nn.Sigmoid()`改为`nn.ReLU()`"
      ]
    },
    {
      "cell_type": "markdown",
      "metadata": {
        "id": "ev80H6ydumOY"
      },
      "source": [
        "**第4问：**"
      ]
    },
    {
      "cell_type": "markdown",
      "metadata": {
        "id": "9YahX5BwumU5"
      },
      "source": [
        "&emsp;&emsp; 添加`conv3`为`nn.Cov2d(16, 120, kernel_size = 5). ReLU()`"
      ]
    },
    {
      "cell_type": "markdown",
      "metadata": {
        "id": "BKPp_2wBumbv"
      },
      "source": [
        "**第5问：**"
      ]
    },
    {
      "cell_type": "markdown",
      "metadata": {
        "id": "EDpiFmlBumh2"
      },
      "source": [
        "&emsp;&emsp; 添加`nn.Linear(84, 20)`并将`nn.Linear(84, 10)`替换为`nn.Linear(20, 10)`，添加`nn.Sigmoid()`"
      ]
    },
    {
      "cell_type": "markdown",
      "metadata": {
        "id": "BuBEDHOfumpI"
      },
      "source": [
        "**第6问：**"
      ]
    },
    {
      "cell_type": "markdown",
      "metadata": {
        "id": "Va4i3jXKumvh"
      },
      "source": [
        "&emsp;&emsp; `lr, num_epochs = 0.1, 50`"
      ]
    },
    {
      "cell_type": "markdown",
      "metadata": {
        "id": "uv0dRt72H6Gu"
      },
      "source": [
        "### 练习 6.6.3\n",
        "\n",
        "在MNIST数据集上尝试以上改进的网络。"
      ]
    },
    {
      "cell_type": "markdown",
      "metadata": {
        "id": "Rbz9BNXqH6Gu"
      },
      "source": [
        "**解答：** "
      ]
    },
    {
      "cell_type": "code",
      "execution_count": null,
      "metadata": {
        "id": "082f2fe4",
        "pycharm": {
          "name": "#%%\n"
        }
      },
      "outputs": [],
      "source": [
        "import torch\n",
        "from torch import nn\n",
        "from d2l import torch as d2l\n",
        "\n",
        "net_improve = nn.Sequential(\n",
        "    nn.Conv2d(1, 6, kernel_size=3, padding=2), nn.ReLU(),\n",
        "    nn.AvgPool2d(kernel_size=2, stride=2),\n",
        "    nn.Conv2d(6, 10, kernel_size=3), nn.ReLU(),\n",
        "    nn.AvgPool2d(kernel_size=2, stride=2),\n",
        "    nn.Conv2d(10, 16, kernel_size=3), nn.ReLU(),\n",
        "    nn.AvgPool2d(kernel_size=2, stride=2),\n",
        "    nn.Flatten(),\n",
        "    nn.Linear(16 * 2 * 2, 120), nn.ReLU(),\n",
        "    nn.Linear(120, 84), nn.ReLU(),\n",
        "    nn.Linear(84, 20), nn.ReLU(),\n",
        "    nn.Linear(20, 10))\n",
        "X = torch.rand(size=(1, 1, 28, 28), dtype=torch.float32)\n",
        "for layer in net_improve:\n",
        "    X = layer(X)\n",
        "    print(layer.__class__.__name__,'output shape: \\t',X.shape)\n",
        "lr, num_epochs = 0.1, 50\n",
        "train_ch6(net_improve, train_iter, test_iter, num_epochs, lr, d2l.try_gpu())"
      ]
    },
    {
      "cell_type": "markdown",
      "metadata": {
        "id": "cek7LSVZ5PSb"
      },
      "source": [
        "&emsp;&emsp; 改进之后的网络在训练集和测试集上均表现出了更好的效果"
      ]
    },
    {
      "cell_type": "markdown",
      "metadata": {
        "id": "iDIBoQa0H6Gu"
      },
      "source": [
        "### 练习 6.6.4\n",
        "\n",
        "显示不同输入（例如毛衣和外套）时，LeNet第一层和第二层的激活值。"
      ]
    },
    {
      "cell_type": "markdown",
      "metadata": {
        "id": "Mq9U1KWRH6Gu"
      },
      "source": [
        "**解答：** "
      ]
    },
    {
      "cell_type": "markdown",
      "metadata": {
        "id": "TK6125gm5eK_"
      },
      "source": [
        "&emsp;&emsp; 通过在所有epoch结束后添加`d2l.show_images`展示了激活值"
      ]
    },
    {
      "cell_type": "code",
      "execution_count": 3,
      "metadata": {
        "id": "346c706c",
        "pycharm": {
          "name": "#%%\n"
        }
      },
      "outputs": [
        {
          "name": "stdout",
          "output_type": "stream",
          "text": [
            "loss 0.458, train acc 0.829, test acc 0.811\n",
            "5652.5 examples/sec on cpu\n"
          ]
        },
        {
          "data": {
            "image/svg+xml": [
              "<?xml version=\"1.0\" encoding=\"utf-8\" standalone=\"no\"?>\n",
              "<!DOCTYPE svg PUBLIC \"-//W3C//DTD SVG 1.1//EN\"\n",
              "  \"http://www.w3.org/Graphics/SVG/1.1/DTD/svg11.dtd\">\n",
              "<svg xmlns:xlink=\"http://www.w3.org/1999/xlink\" width=\"238.965625pt\" height=\"183.35625pt\" viewBox=\"0 0 238.965625 183.35625\" xmlns=\"http://www.w3.org/2000/svg\" version=\"1.1\">\n",
              " <metadata>\n",
              "  <rdf:RDF xmlns:dc=\"http://purl.org/dc/elements/1.1/\" xmlns:cc=\"http://creativecommons.org/ns#\" xmlns:rdf=\"http://www.w3.org/1999/02/22-rdf-syntax-ns#\">\n",
              "   <cc:Work>\n",
              "    <dc:type rdf:resource=\"http://purl.org/dc/dcmitype/StillImage\"/>\n",
              "    <dc:date>2023-12-27T21:26:48.106348</dc:date>\n",
              "    <dc:format>image/svg+xml</dc:format>\n",
              "    <dc:creator>\n",
              "     <cc:Agent>\n",
              "      <dc:title>Matplotlib v3.7.2, https://matplotlib.org/</dc:title>\n",
              "     </cc:Agent>\n",
              "    </dc:creator>\n",
              "   </cc:Work>\n",
              "  </rdf:RDF>\n",
              " </metadata>\n",
              " <defs>\n",
              "  <style type=\"text/css\">*{stroke-linejoin: round; stroke-linecap: butt}</style>\n",
              " </defs>\n",
              " <g id=\"figure_1\">\n",
              "  <g id=\"patch_1\">\n",
              "   <path d=\"M 0 183.35625 \n",
              "L 238.965625 183.35625 \n",
              "L 238.965625 0 \n",
              "L 0 0 \n",
              "z\n",
              "\" style=\"fill: #ffffff\"/>\n",
              "  </g>\n",
              "  <g id=\"axes_1\">\n",
              "   <g id=\"patch_2\">\n",
              "    <path d=\"M 30.103125 145.8 \n",
              "L 225.403125 145.8 \n",
              "L 225.403125 7.2 \n",
              "L 30.103125 7.2 \n",
              "z\n",
              "\" style=\"fill: #ffffff\"/>\n",
              "   </g>\n",
              "   <g id=\"matplotlib.axis_1\">\n",
              "    <g id=\"xtick_1\">\n",
              "     <g id=\"line2d_1\">\n",
              "      <path d=\"M 51.803125 145.8 \n",
              "L 51.803125 7.2 \n",
              "\" clip-path=\"url(#p4e70e2187e)\" style=\"fill: none; stroke: #b0b0b0; stroke-width: 0.8; stroke-linecap: square\"/>\n",
              "     </g>\n",
              "     <g id=\"line2d_2\">\n",
              "      <defs>\n",
              "       <path id=\"m552f79a71b\" d=\"M 0 0 \n",
              "L 0 3.5 \n",
              "\" style=\"stroke: #000000; stroke-width: 0.8\"/>\n",
              "      </defs>\n",
              "      <g>\n",
              "       <use xlink:href=\"#m552f79a71b\" x=\"51.803125\" y=\"145.8\" style=\"stroke: #000000; stroke-width: 0.8\"/>\n",
              "      </g>\n",
              "     </g>\n",
              "     <g id=\"text_1\">\n",
              "      <!-- 2 -->\n",
              "      <g transform=\"translate(48.621875 160.398438) scale(0.1 -0.1)\">\n",
              "       <defs>\n",
              "        <path id=\"DejaVuSans-32\" d=\"M 1228 531 \n",
              "L 3431 531 \n",
              "L 3431 0 \n",
              "L 469 0 \n",
              "L 469 531 \n",
              "Q 828 903 1448 1529 \n",
              "Q 2069 2156 2228 2338 \n",
              "Q 2531 2678 2651 2914 \n",
              "Q 2772 3150 2772 3378 \n",
              "Q 2772 3750 2511 3984 \n",
              "Q 2250 4219 1831 4219 \n",
              "Q 1534 4219 1204 4116 \n",
              "Q 875 4013 500 3803 \n",
              "L 500 4441 \n",
              "Q 881 4594 1212 4672 \n",
              "Q 1544 4750 1819 4750 \n",
              "Q 2544 4750 2975 4387 \n",
              "Q 3406 4025 3406 3419 \n",
              "Q 3406 3131 3298 2873 \n",
              "Q 3191 2616 2906 2266 \n",
              "Q 2828 2175 2409 1742 \n",
              "Q 1991 1309 1228 531 \n",
              "z\n",
              "\" transform=\"scale(0.015625)\"/>\n",
              "       </defs>\n",
              "       <use xlink:href=\"#DejaVuSans-32\"/>\n",
              "      </g>\n",
              "     </g>\n",
              "    </g>\n",
              "    <g id=\"xtick_2\">\n",
              "     <g id=\"line2d_3\">\n",
              "      <path d=\"M 95.203125 145.8 \n",
              "L 95.203125 7.2 \n",
              "\" clip-path=\"url(#p4e70e2187e)\" style=\"fill: none; stroke: #b0b0b0; stroke-width: 0.8; stroke-linecap: square\"/>\n",
              "     </g>\n",
              "     <g id=\"line2d_4\">\n",
              "      <g>\n",
              "       <use xlink:href=\"#m552f79a71b\" x=\"95.203125\" y=\"145.8\" style=\"stroke: #000000; stroke-width: 0.8\"/>\n",
              "      </g>\n",
              "     </g>\n",
              "     <g id=\"text_2\">\n",
              "      <!-- 4 -->\n",
              "      <g transform=\"translate(92.021875 160.398438) scale(0.1 -0.1)\">\n",
              "       <defs>\n",
              "        <path id=\"DejaVuSans-34\" d=\"M 2419 4116 \n",
              "L 825 1625 \n",
              "L 2419 1625 \n",
              "L 2419 4116 \n",
              "z\n",
              "M 2253 4666 \n",
              "L 3047 4666 \n",
              "L 3047 1625 \n",
              "L 3713 1625 \n",
              "L 3713 1100 \n",
              "L 3047 1100 \n",
              "L 3047 0 \n",
              "L 2419 0 \n",
              "L 2419 1100 \n",
              "L 313 1100 \n",
              "L 313 1709 \n",
              "L 2253 4666 \n",
              "z\n",
              "\" transform=\"scale(0.015625)\"/>\n",
              "       </defs>\n",
              "       <use xlink:href=\"#DejaVuSans-34\"/>\n",
              "      </g>\n",
              "     </g>\n",
              "    </g>\n",
              "    <g id=\"xtick_3\">\n",
              "     <g id=\"line2d_5\">\n",
              "      <path d=\"M 138.603125 145.8 \n",
              "L 138.603125 7.2 \n",
              "\" clip-path=\"url(#p4e70e2187e)\" style=\"fill: none; stroke: #b0b0b0; stroke-width: 0.8; stroke-linecap: square\"/>\n",
              "     </g>\n",
              "     <g id=\"line2d_6\">\n",
              "      <g>\n",
              "       <use xlink:href=\"#m552f79a71b\" x=\"138.603125\" y=\"145.8\" style=\"stroke: #000000; stroke-width: 0.8\"/>\n",
              "      </g>\n",
              "     </g>\n",
              "     <g id=\"text_3\">\n",
              "      <!-- 6 -->\n",
              "      <g transform=\"translate(135.421875 160.398438) scale(0.1 -0.1)\">\n",
              "       <defs>\n",
              "        <path id=\"DejaVuSans-36\" d=\"M 2113 2584 \n",
              "Q 1688 2584 1439 2293 \n",
              "Q 1191 2003 1191 1497 \n",
              "Q 1191 994 1439 701 \n",
              "Q 1688 409 2113 409 \n",
              "Q 2538 409 2786 701 \n",
              "Q 3034 994 3034 1497 \n",
              "Q 3034 2003 2786 2293 \n",
              "Q 2538 2584 2113 2584 \n",
              "z\n",
              "M 3366 4563 \n",
              "L 3366 3988 \n",
              "Q 3128 4100 2886 4159 \n",
              "Q 2644 4219 2406 4219 \n",
              "Q 1781 4219 1451 3797 \n",
              "Q 1122 3375 1075 2522 \n",
              "Q 1259 2794 1537 2939 \n",
              "Q 1816 3084 2150 3084 \n",
              "Q 2853 3084 3261 2657 \n",
              "Q 3669 2231 3669 1497 \n",
              "Q 3669 778 3244 343 \n",
              "Q 2819 -91 2113 -91 \n",
              "Q 1303 -91 875 529 \n",
              "Q 447 1150 447 2328 \n",
              "Q 447 3434 972 4092 \n",
              "Q 1497 4750 2381 4750 \n",
              "Q 2619 4750 2861 4703 \n",
              "Q 3103 4656 3366 4563 \n",
              "z\n",
              "\" transform=\"scale(0.015625)\"/>\n",
              "       </defs>\n",
              "       <use xlink:href=\"#DejaVuSans-36\"/>\n",
              "      </g>\n",
              "     </g>\n",
              "    </g>\n",
              "    <g id=\"xtick_4\">\n",
              "     <g id=\"line2d_7\">\n",
              "      <path d=\"M 182.003125 145.8 \n",
              "L 182.003125 7.2 \n",
              "\" clip-path=\"url(#p4e70e2187e)\" style=\"fill: none; stroke: #b0b0b0; stroke-width: 0.8; stroke-linecap: square\"/>\n",
              "     </g>\n",
              "     <g id=\"line2d_8\">\n",
              "      <g>\n",
              "       <use xlink:href=\"#m552f79a71b\" x=\"182.003125\" y=\"145.8\" style=\"stroke: #000000; stroke-width: 0.8\"/>\n",
              "      </g>\n",
              "     </g>\n",
              "     <g id=\"text_4\">\n",
              "      <!-- 8 -->\n",
              "      <g transform=\"translate(178.821875 160.398438) scale(0.1 -0.1)\">\n",
              "       <defs>\n",
              "        <path id=\"DejaVuSans-38\" d=\"M 2034 2216 \n",
              "Q 1584 2216 1326 1975 \n",
              "Q 1069 1734 1069 1313 \n",
              "Q 1069 891 1326 650 \n",
              "Q 1584 409 2034 409 \n",
              "Q 2484 409 2743 651 \n",
              "Q 3003 894 3003 1313 \n",
              "Q 3003 1734 2745 1975 \n",
              "Q 2488 2216 2034 2216 \n",
              "z\n",
              "M 1403 2484 \n",
              "Q 997 2584 770 2862 \n",
              "Q 544 3141 544 3541 \n",
              "Q 544 4100 942 4425 \n",
              "Q 1341 4750 2034 4750 \n",
              "Q 2731 4750 3128 4425 \n",
              "Q 3525 4100 3525 3541 \n",
              "Q 3525 3141 3298 2862 \n",
              "Q 3072 2584 2669 2484 \n",
              "Q 3125 2378 3379 2068 \n",
              "Q 3634 1759 3634 1313 \n",
              "Q 3634 634 3220 271 \n",
              "Q 2806 -91 2034 -91 \n",
              "Q 1263 -91 848 271 \n",
              "Q 434 634 434 1313 \n",
              "Q 434 1759 690 2068 \n",
              "Q 947 2378 1403 2484 \n",
              "z\n",
              "M 1172 3481 \n",
              "Q 1172 3119 1398 2916 \n",
              "Q 1625 2713 2034 2713 \n",
              "Q 2441 2713 2670 2916 \n",
              "Q 2900 3119 2900 3481 \n",
              "Q 2900 3844 2670 4047 \n",
              "Q 2441 4250 2034 4250 \n",
              "Q 1625 4250 1398 4047 \n",
              "Q 1172 3844 1172 3481 \n",
              "z\n",
              "\" transform=\"scale(0.015625)\"/>\n",
              "       </defs>\n",
              "       <use xlink:href=\"#DejaVuSans-38\"/>\n",
              "      </g>\n",
              "     </g>\n",
              "    </g>\n",
              "    <g id=\"xtick_5\">\n",
              "     <g id=\"line2d_9\">\n",
              "      <path d=\"M 225.403125 145.8 \n",
              "L 225.403125 7.2 \n",
              "\" clip-path=\"url(#p4e70e2187e)\" style=\"fill: none; stroke: #b0b0b0; stroke-width: 0.8; stroke-linecap: square\"/>\n",
              "     </g>\n",
              "     <g id=\"line2d_10\">\n",
              "      <g>\n",
              "       <use xlink:href=\"#m552f79a71b\" x=\"225.403125\" y=\"145.8\" style=\"stroke: #000000; stroke-width: 0.8\"/>\n",
              "      </g>\n",
              "     </g>\n",
              "     <g id=\"text_5\">\n",
              "      <!-- 10 -->\n",
              "      <g transform=\"translate(219.040625 160.398438) scale(0.1 -0.1)\">\n",
              "       <defs>\n",
              "        <path id=\"DejaVuSans-31\" d=\"M 794 531 \n",
              "L 1825 531 \n",
              "L 1825 4091 \n",
              "L 703 3866 \n",
              "L 703 4441 \n",
              "L 1819 4666 \n",
              "L 2450 4666 \n",
              "L 2450 531 \n",
              "L 3481 531 \n",
              "L 3481 0 \n",
              "L 794 0 \n",
              "L 794 531 \n",
              "z\n",
              "\" transform=\"scale(0.015625)\"/>\n",
              "        <path id=\"DejaVuSans-30\" d=\"M 2034 4250 \n",
              "Q 1547 4250 1301 3770 \n",
              "Q 1056 3291 1056 2328 \n",
              "Q 1056 1369 1301 889 \n",
              "Q 1547 409 2034 409 \n",
              "Q 2525 409 2770 889 \n",
              "Q 3016 1369 3016 2328 \n",
              "Q 3016 3291 2770 3770 \n",
              "Q 2525 4250 2034 4250 \n",
              "z\n",
              "M 2034 4750 \n",
              "Q 2819 4750 3233 4129 \n",
              "Q 3647 3509 3647 2328 \n",
              "Q 3647 1150 3233 529 \n",
              "Q 2819 -91 2034 -91 \n",
              "Q 1250 -91 836 529 \n",
              "Q 422 1150 422 2328 \n",
              "Q 422 3509 836 4129 \n",
              "Q 1250 4750 2034 4750 \n",
              "z\n",
              "\" transform=\"scale(0.015625)\"/>\n",
              "       </defs>\n",
              "       <use xlink:href=\"#DejaVuSans-31\"/>\n",
              "       <use xlink:href=\"#DejaVuSans-30\" x=\"63.623047\"/>\n",
              "      </g>\n",
              "     </g>\n",
              "    </g>\n",
              "    <g id=\"text_6\">\n",
              "     <!-- epoch -->\n",
              "     <g transform=\"translate(112.525 174.076563) scale(0.1 -0.1)\">\n",
              "      <defs>\n",
              "       <path id=\"DejaVuSans-65\" d=\"M 3597 1894 \n",
              "L 3597 1613 \n",
              "L 953 1613 \n",
              "Q 991 1019 1311 708 \n",
              "Q 1631 397 2203 397 \n",
              "Q 2534 397 2845 478 \n",
              "Q 3156 559 3463 722 \n",
              "L 3463 178 \n",
              "Q 3153 47 2828 -22 \n",
              "Q 2503 -91 2169 -91 \n",
              "Q 1331 -91 842 396 \n",
              "Q 353 884 353 1716 \n",
              "Q 353 2575 817 3079 \n",
              "Q 1281 3584 2069 3584 \n",
              "Q 2775 3584 3186 3129 \n",
              "Q 3597 2675 3597 1894 \n",
              "z\n",
              "M 3022 2063 \n",
              "Q 3016 2534 2758 2815 \n",
              "Q 2500 3097 2075 3097 \n",
              "Q 1594 3097 1305 2825 \n",
              "Q 1016 2553 972 2059 \n",
              "L 3022 2063 \n",
              "z\n",
              "\" transform=\"scale(0.015625)\"/>\n",
              "       <path id=\"DejaVuSans-70\" d=\"M 1159 525 \n",
              "L 1159 -1331 \n",
              "L 581 -1331 \n",
              "L 581 3500 \n",
              "L 1159 3500 \n",
              "L 1159 2969 \n",
              "Q 1341 3281 1617 3432 \n",
              "Q 1894 3584 2278 3584 \n",
              "Q 2916 3584 3314 3078 \n",
              "Q 3713 2572 3713 1747 \n",
              "Q 3713 922 3314 415 \n",
              "Q 2916 -91 2278 -91 \n",
              "Q 1894 -91 1617 61 \n",
              "Q 1341 213 1159 525 \n",
              "z\n",
              "M 3116 1747 \n",
              "Q 3116 2381 2855 2742 \n",
              "Q 2594 3103 2138 3103 \n",
              "Q 1681 3103 1420 2742 \n",
              "Q 1159 2381 1159 1747 \n",
              "Q 1159 1113 1420 752 \n",
              "Q 1681 391 2138 391 \n",
              "Q 2594 391 2855 752 \n",
              "Q 3116 1113 3116 1747 \n",
              "z\n",
              "\" transform=\"scale(0.015625)\"/>\n",
              "       <path id=\"DejaVuSans-6f\" d=\"M 1959 3097 \n",
              "Q 1497 3097 1228 2736 \n",
              "Q 959 2375 959 1747 \n",
              "Q 959 1119 1226 758 \n",
              "Q 1494 397 1959 397 \n",
              "Q 2419 397 2687 759 \n",
              "Q 2956 1122 2956 1747 \n",
              "Q 2956 2369 2687 2733 \n",
              "Q 2419 3097 1959 3097 \n",
              "z\n",
              "M 1959 3584 \n",
              "Q 2709 3584 3137 3096 \n",
              "Q 3566 2609 3566 1747 \n",
              "Q 3566 888 3137 398 \n",
              "Q 2709 -91 1959 -91 \n",
              "Q 1206 -91 779 398 \n",
              "Q 353 888 353 1747 \n",
              "Q 353 2609 779 3096 \n",
              "Q 1206 3584 1959 3584 \n",
              "z\n",
              "\" transform=\"scale(0.015625)\"/>\n",
              "       <path id=\"DejaVuSans-63\" d=\"M 3122 3366 \n",
              "L 3122 2828 \n",
              "Q 2878 2963 2633 3030 \n",
              "Q 2388 3097 2138 3097 \n",
              "Q 1578 3097 1268 2742 \n",
              "Q 959 2388 959 1747 \n",
              "Q 959 1106 1268 751 \n",
              "Q 1578 397 2138 397 \n",
              "Q 2388 397 2633 464 \n",
              "Q 2878 531 3122 666 \n",
              "L 3122 134 \n",
              "Q 2881 22 2623 -34 \n",
              "Q 2366 -91 2075 -91 \n",
              "Q 1284 -91 818 406 \n",
              "Q 353 903 353 1747 \n",
              "Q 353 2603 823 3093 \n",
              "Q 1294 3584 2113 3584 \n",
              "Q 2378 3584 2631 3529 \n",
              "Q 2884 3475 3122 3366 \n",
              "z\n",
              "\" transform=\"scale(0.015625)\"/>\n",
              "       <path id=\"DejaVuSans-68\" d=\"M 3513 2113 \n",
              "L 3513 0 \n",
              "L 2938 0 \n",
              "L 2938 2094 \n",
              "Q 2938 2591 2744 2837 \n",
              "Q 2550 3084 2163 3084 \n",
              "Q 1697 3084 1428 2787 \n",
              "Q 1159 2491 1159 1978 \n",
              "L 1159 0 \n",
              "L 581 0 \n",
              "L 581 4863 \n",
              "L 1159 4863 \n",
              "L 1159 2956 \n",
              "Q 1366 3272 1645 3428 \n",
              "Q 1925 3584 2291 3584 \n",
              "Q 2894 3584 3203 3211 \n",
              "Q 3513 2838 3513 2113 \n",
              "z\n",
              "\" transform=\"scale(0.015625)\"/>\n",
              "      </defs>\n",
              "      <use xlink:href=\"#DejaVuSans-65\"/>\n",
              "      <use xlink:href=\"#DejaVuSans-70\" x=\"61.523438\"/>\n",
              "      <use xlink:href=\"#DejaVuSans-6f\" x=\"125\"/>\n",
              "      <use xlink:href=\"#DejaVuSans-63\" x=\"186.181641\"/>\n",
              "      <use xlink:href=\"#DejaVuSans-68\" x=\"241.162109\"/>\n",
              "     </g>\n",
              "    </g>\n",
              "   </g>\n",
              "   <g id=\"matplotlib.axis_2\">\n",
              "    <g id=\"ytick_1\">\n",
              "     <g id=\"line2d_11\">\n",
              "      <path d=\"M 30.103125 144.97953 \n",
              "L 225.403125 144.97953 \n",
              "\" clip-path=\"url(#p4e70e2187e)\" style=\"fill: none; stroke: #b0b0b0; stroke-width: 0.8; stroke-linecap: square\"/>\n",
              "     </g>\n",
              "     <g id=\"line2d_12\">\n",
              "      <defs>\n",
              "       <path id=\"m75d5cb1dfd\" d=\"M 0 0 \n",
              "L -3.5 0 \n",
              "\" style=\"stroke: #000000; stroke-width: 0.8\"/>\n",
              "      </defs>\n",
              "      <g>\n",
              "       <use xlink:href=\"#m75d5cb1dfd\" x=\"30.103125\" y=\"144.97953\" style=\"stroke: #000000; stroke-width: 0.8\"/>\n",
              "      </g>\n",
              "     </g>\n",
              "     <g id=\"text_7\">\n",
              "      <!-- 0.0 -->\n",
              "      <g transform=\"translate(7.2 148.778749) scale(0.1 -0.1)\">\n",
              "       <defs>\n",
              "        <path id=\"DejaVuSans-2e\" d=\"M 684 794 \n",
              "L 1344 794 \n",
              "L 1344 0 \n",
              "L 684 0 \n",
              "L 684 794 \n",
              "z\n",
              "\" transform=\"scale(0.015625)\"/>\n",
              "       </defs>\n",
              "       <use xlink:href=\"#DejaVuSans-30\"/>\n",
              "       <use xlink:href=\"#DejaVuSans-2e\" x=\"63.623047\"/>\n",
              "       <use xlink:href=\"#DejaVuSans-30\" x=\"95.410156\"/>\n",
              "      </g>\n",
              "     </g>\n",
              "    </g>\n",
              "    <g id=\"ytick_2\">\n",
              "     <g id=\"line2d_13\">\n",
              "      <path d=\"M 30.103125 117.219655 \n",
              "L 225.403125 117.219655 \n",
              "\" clip-path=\"url(#p4e70e2187e)\" style=\"fill: none; stroke: #b0b0b0; stroke-width: 0.8; stroke-linecap: square\"/>\n",
              "     </g>\n",
              "     <g id=\"line2d_14\">\n",
              "      <g>\n",
              "       <use xlink:href=\"#m75d5cb1dfd\" x=\"30.103125\" y=\"117.219655\" style=\"stroke: #000000; stroke-width: 0.8\"/>\n",
              "      </g>\n",
              "     </g>\n",
              "     <g id=\"text_8\">\n",
              "      <!-- 0.5 -->\n",
              "      <g transform=\"translate(7.2 121.018873) scale(0.1 -0.1)\">\n",
              "       <defs>\n",
              "        <path id=\"DejaVuSans-35\" d=\"M 691 4666 \n",
              "L 3169 4666 \n",
              "L 3169 4134 \n",
              "L 1269 4134 \n",
              "L 1269 2991 \n",
              "Q 1406 3038 1543 3061 \n",
              "Q 1681 3084 1819 3084 \n",
              "Q 2600 3084 3056 2656 \n",
              "Q 3513 2228 3513 1497 \n",
              "Q 3513 744 3044 326 \n",
              "Q 2575 -91 1722 -91 \n",
              "Q 1428 -91 1123 -41 \n",
              "Q 819 9 494 109 \n",
              "L 494 744 \n",
              "Q 775 591 1075 516 \n",
              "Q 1375 441 1709 441 \n",
              "Q 2250 441 2565 725 \n",
              "Q 2881 1009 2881 1497 \n",
              "Q 2881 1984 2565 2268 \n",
              "Q 2250 2553 1709 2553 \n",
              "Q 1456 2553 1204 2497 \n",
              "Q 953 2441 691 2322 \n",
              "L 691 4666 \n",
              "z\n",
              "\" transform=\"scale(0.015625)\"/>\n",
              "       </defs>\n",
              "       <use xlink:href=\"#DejaVuSans-30\"/>\n",
              "       <use xlink:href=\"#DejaVuSans-2e\" x=\"63.623047\"/>\n",
              "       <use xlink:href=\"#DejaVuSans-35\" x=\"95.410156\"/>\n",
              "      </g>\n",
              "     </g>\n",
              "    </g>\n",
              "    <g id=\"ytick_3\">\n",
              "     <g id=\"line2d_15\">\n",
              "      <path d=\"M 30.103125 89.459779 \n",
              "L 225.403125 89.459779 \n",
              "\" clip-path=\"url(#p4e70e2187e)\" style=\"fill: none; stroke: #b0b0b0; stroke-width: 0.8; stroke-linecap: square\"/>\n",
              "     </g>\n",
              "     <g id=\"line2d_16\">\n",
              "      <g>\n",
              "       <use xlink:href=\"#m75d5cb1dfd\" x=\"30.103125\" y=\"89.459779\" style=\"stroke: #000000; stroke-width: 0.8\"/>\n",
              "      </g>\n",
              "     </g>\n",
              "     <g id=\"text_9\">\n",
              "      <!-- 1.0 -->\n",
              "      <g transform=\"translate(7.2 93.258998) scale(0.1 -0.1)\">\n",
              "       <use xlink:href=\"#DejaVuSans-31\"/>\n",
              "       <use xlink:href=\"#DejaVuSans-2e\" x=\"63.623047\"/>\n",
              "       <use xlink:href=\"#DejaVuSans-30\" x=\"95.410156\"/>\n",
              "      </g>\n",
              "     </g>\n",
              "    </g>\n",
              "    <g id=\"ytick_4\">\n",
              "     <g id=\"line2d_17\">\n",
              "      <path d=\"M 30.103125 61.699904 \n",
              "L 225.403125 61.699904 \n",
              "\" clip-path=\"url(#p4e70e2187e)\" style=\"fill: none; stroke: #b0b0b0; stroke-width: 0.8; stroke-linecap: square\"/>\n",
              "     </g>\n",
              "     <g id=\"line2d_18\">\n",
              "      <g>\n",
              "       <use xlink:href=\"#m75d5cb1dfd\" x=\"30.103125\" y=\"61.699904\" style=\"stroke: #000000; stroke-width: 0.8\"/>\n",
              "      </g>\n",
              "     </g>\n",
              "     <g id=\"text_10\">\n",
              "      <!-- 1.5 -->\n",
              "      <g transform=\"translate(7.2 65.499122) scale(0.1 -0.1)\">\n",
              "       <use xlink:href=\"#DejaVuSans-31\"/>\n",
              "       <use xlink:href=\"#DejaVuSans-2e\" x=\"63.623047\"/>\n",
              "       <use xlink:href=\"#DejaVuSans-35\" x=\"95.410156\"/>\n",
              "      </g>\n",
              "     </g>\n",
              "    </g>\n",
              "    <g id=\"ytick_5\">\n",
              "     <g id=\"line2d_19\">\n",
              "      <path d=\"M 30.103125 33.940028 \n",
              "L 225.403125 33.940028 \n",
              "\" clip-path=\"url(#p4e70e2187e)\" style=\"fill: none; stroke: #b0b0b0; stroke-width: 0.8; stroke-linecap: square\"/>\n",
              "     </g>\n",
              "     <g id=\"line2d_20\">\n",
              "      <g>\n",
              "       <use xlink:href=\"#m75d5cb1dfd\" x=\"30.103125\" y=\"33.940028\" style=\"stroke: #000000; stroke-width: 0.8\"/>\n",
              "      </g>\n",
              "     </g>\n",
              "     <g id=\"text_11\">\n",
              "      <!-- 2.0 -->\n",
              "      <g transform=\"translate(7.2 37.739247) scale(0.1 -0.1)\">\n",
              "       <use xlink:href=\"#DejaVuSans-32\"/>\n",
              "       <use xlink:href=\"#DejaVuSans-2e\" x=\"63.623047\"/>\n",
              "       <use xlink:href=\"#DejaVuSans-30\" x=\"95.410156\"/>\n",
              "      </g>\n",
              "     </g>\n",
              "    </g>\n",
              "   </g>\n",
              "   <g id=\"line2d_21\">\n",
              "    <path d=\"M 12.743125 13.5 \n",
              "L 17.083125 14.985829 \n",
              "L 21.423125 15.619223 \n",
              "L 25.763125 15.99132 \n",
              "L 30.103125 16.656993 \n",
              "L 34.443125 48.134138 \n",
              "L 38.783125 61.688493 \n",
              "L 43.123125 69.550954 \n",
              "L 47.463125 74.395581 \n",
              "L 51.803125 78.089524 \n",
              "L 56.143125 94.610547 \n",
              "L 60.483125 95.577991 \n",
              "L 64.823125 96.716578 \n",
              "L 69.163125 97.713014 \n",
              "L 73.503125 99.001839 \n",
              "L 77.843125 104.078033 \n",
              "L 82.183125 104.677968 \n",
              "L 86.523125 105.139093 \n",
              "L 90.863125 105.600588 \n",
              "L 95.203125 105.905127 \n",
              "L 99.543125 109.041736 \n",
              "L 103.883125 108.834063 \n",
              "L 108.223125 109.195201 \n",
              "L 112.563125 109.614452 \n",
              "L 116.903125 109.883937 \n",
              "L 121.243125 111.7013 \n",
              "L 125.583125 112.149822 \n",
              "L 129.923125 112.520146 \n",
              "L 134.263125 112.722933 \n",
              "L 138.603125 112.904005 \n",
              "L 142.943125 114.306922 \n",
              "L 147.283125 114.715356 \n",
              "L 151.623125 114.955685 \n",
              "L 155.963125 115.074958 \n",
              "L 160.303125 115.355879 \n",
              "L 164.643125 116.680928 \n",
              "L 168.983125 116.658798 \n",
              "L 173.323125 116.761016 \n",
              "L 177.663125 117.042233 \n",
              "L 182.003125 117.231282 \n",
              "L 186.343125 118.583941 \n",
              "L 190.683125 118.457599 \n",
              "L 195.023125 118.532038 \n",
              "L 199.363125 118.508512 \n",
              "L 203.703125 118.670999 \n",
              "L 208.043125 118.695292 \n",
              "L 212.383125 119.13467 \n",
              "L 216.723125 119.189638 \n",
              "L 221.063125 119.417075 \n",
              "L 225.403125 119.528305 \n",
              "\" clip-path=\"url(#p4e70e2187e)\" style=\"fill: none; stroke: #1f77b4; stroke-width: 1.5; stroke-linecap: square\"/>\n",
              "   </g>\n",
              "   <g id=\"line2d_22\">\n",
              "    <path d=\"M 12.743125 139.470007 \n",
              "L 17.083125 139.5 \n",
              "L 21.423125 139.494617 \n",
              "L 25.763125 139.391563 \n",
              "L 30.103125 138.940832 \n",
              "L 34.443125 127.011286 \n",
              "L 38.783125 122.484618 \n",
              "L 43.123125 119.446843 \n",
              "L 47.463125 117.662631 \n",
              "L 51.803125 116.169406 \n",
              "L 56.143125 109.056885 \n",
              "L 60.483125 108.911534 \n",
              "L 64.823125 108.407801 \n",
              "L 69.163125 108.091334 \n",
              "L 73.503125 107.574023 \n",
              "L 77.843125 105.711488 \n",
              "L 82.183125 105.250054 \n",
              "L 86.523125 105.156229 \n",
              "L 90.863125 104.940893 \n",
              "L 95.203125 104.801737 \n",
              "L 99.543125 103.556591 \n",
              "L 103.883125 103.637342 \n",
              "L 108.223125 103.455075 \n",
              "L 112.563125 103.246276 \n",
              "L 116.903125 103.150024 \n",
              "L 121.243125 102.638337 \n",
              "L 125.583125 102.248425 \n",
              "L 129.923125 102.05693 \n",
              "L 134.263125 101.941572 \n",
              "L 138.603125 101.823102 \n",
              "L 142.943125 101.32325 \n",
              "L 147.283125 101.080997 \n",
              "L 151.623125 101.011013 \n",
              "L 155.963125 100.925263 \n",
              "L 160.303125 100.817269 \n",
              "L 164.643125 100.225037 \n",
              "L 168.983125 100.225037 \n",
              "L 173.323125 100.135826 \n",
              "L 177.663125 100.017391 \n",
              "L 182.003125 99.937281 \n",
              "L 186.343125 99.389841 \n",
              "L 190.683125 99.44752 \n",
              "L 195.023125 99.383688 \n",
              "L 199.363125 99.382919 \n",
              "L 203.703125 99.32749 \n",
              "L 208.043125 99.274482 \n",
              "L 212.383125 99.179888 \n",
              "L 216.723125 99.120671 \n",
              "L 221.063125 99.025308 \n",
              "L 225.403125 98.955507 \n",
              "\" clip-path=\"url(#p4e70e2187e)\" style=\"fill: none; stroke-dasharray: 5.55,2.4; stroke-dashoffset: 0; stroke: #bf00bf; stroke-width: 1.5\"/>\n",
              "   </g>\n",
              "   <g id=\"line2d_23\">\n",
              "    <path d=\"M 30.103125 139.422003 \n",
              "L 51.803125 108.85838 \n",
              "L 73.503125 104.533391 \n",
              "L 95.203125 103.284197 \n",
              "L 116.903125 105.727066 \n",
              "L 138.603125 102.67348 \n",
              "L 160.303125 101.452045 \n",
              "L 182.003125 101.502013 \n",
              "L 203.703125 99.875284 \n",
              "L 225.403125 99.94746 \n",
              "\" clip-path=\"url(#p4e70e2187e)\" style=\"fill: none; stroke-dasharray: 9.6,2.4,1.5,2.4; stroke-dashoffset: 0; stroke: #008000; stroke-width: 1.5\"/>\n",
              "   </g>\n",
              "   <g id=\"patch_3\">\n",
              "    <path d=\"M 30.103125 145.8 \n",
              "L 30.103125 7.2 \n",
              "\" style=\"fill: none; stroke: #000000; stroke-width: 0.8; stroke-linejoin: miter; stroke-linecap: square\"/>\n",
              "   </g>\n",
              "   <g id=\"patch_4\">\n",
              "    <path d=\"M 225.403125 145.8 \n",
              "L 225.403125 7.2 \n",
              "\" style=\"fill: none; stroke: #000000; stroke-width: 0.8; stroke-linejoin: miter; stroke-linecap: square\"/>\n",
              "   </g>\n",
              "   <g id=\"patch_5\">\n",
              "    <path d=\"M 30.103125 145.8 \n",
              "L 225.403125 145.8 \n",
              "\" style=\"fill: none; stroke: #000000; stroke-width: 0.8; stroke-linejoin: miter; stroke-linecap: square\"/>\n",
              "   </g>\n",
              "   <g id=\"patch_6\">\n",
              "    <path d=\"M 30.103125 7.2 \n",
              "L 225.403125 7.2 \n",
              "\" style=\"fill: none; stroke: #000000; stroke-width: 0.8; stroke-linejoin: miter; stroke-linecap: square\"/>\n",
              "   </g>\n",
              "   <g id=\"legend_1\">\n",
              "    <g id=\"patch_7\">\n",
              "     <path d=\"M 140.634375 59.234375 \n",
              "L 218.403125 59.234375 \n",
              "Q 220.403125 59.234375 220.403125 57.234375 \n",
              "L 220.403125 14.2 \n",
              "Q 220.403125 12.2 218.403125 12.2 \n",
              "L 140.634375 12.2 \n",
              "Q 138.634375 12.2 138.634375 14.2 \n",
              "L 138.634375 57.234375 \n",
              "Q 138.634375 59.234375 140.634375 59.234375 \n",
              "z\n",
              "\" style=\"fill: #ffffff; opacity: 0.8; stroke: #cccccc; stroke-linejoin: miter\"/>\n",
              "    </g>\n",
              "    <g id=\"line2d_24\">\n",
              "     <path d=\"M 142.634375 20.298438 \n",
              "L 152.634375 20.298438 \n",
              "L 162.634375 20.298438 \n",
              "\" style=\"fill: none; stroke: #1f77b4; stroke-width: 1.5; stroke-linecap: square\"/>\n",
              "    </g>\n",
              "    <g id=\"text_12\">\n",
              "     <!-- train loss -->\n",
              "     <g transform=\"translate(170.634375 23.798438) scale(0.1 -0.1)\">\n",
              "      <defs>\n",
              "       <path id=\"DejaVuSans-74\" d=\"M 1172 4494 \n",
              "L 1172 3500 \n",
              "L 2356 3500 \n",
              "L 2356 3053 \n",
              "L 1172 3053 \n",
              "L 1172 1153 \n",
              "Q 1172 725 1289 603 \n",
              "Q 1406 481 1766 481 \n",
              "L 2356 481 \n",
              "L 2356 0 \n",
              "L 1766 0 \n",
              "Q 1100 0 847 248 \n",
              "Q 594 497 594 1153 \n",
              "L 594 3053 \n",
              "L 172 3053 \n",
              "L 172 3500 \n",
              "L 594 3500 \n",
              "L 594 4494 \n",
              "L 1172 4494 \n",
              "z\n",
              "\" transform=\"scale(0.015625)\"/>\n",
              "       <path id=\"DejaVuSans-72\" d=\"M 2631 2963 \n",
              "Q 2534 3019 2420 3045 \n",
              "Q 2306 3072 2169 3072 \n",
              "Q 1681 3072 1420 2755 \n",
              "Q 1159 2438 1159 1844 \n",
              "L 1159 0 \n",
              "L 581 0 \n",
              "L 581 3500 \n",
              "L 1159 3500 \n",
              "L 1159 2956 \n",
              "Q 1341 3275 1631 3429 \n",
              "Q 1922 3584 2338 3584 \n",
              "Q 2397 3584 2469 3576 \n",
              "Q 2541 3569 2628 3553 \n",
              "L 2631 2963 \n",
              "z\n",
              "\" transform=\"scale(0.015625)\"/>\n",
              "       <path id=\"DejaVuSans-61\" d=\"M 2194 1759 \n",
              "Q 1497 1759 1228 1600 \n",
              "Q 959 1441 959 1056 \n",
              "Q 959 750 1161 570 \n",
              "Q 1363 391 1709 391 \n",
              "Q 2188 391 2477 730 \n",
              "Q 2766 1069 2766 1631 \n",
              "L 2766 1759 \n",
              "L 2194 1759 \n",
              "z\n",
              "M 3341 1997 \n",
              "L 3341 0 \n",
              "L 2766 0 \n",
              "L 2766 531 \n",
              "Q 2569 213 2275 61 \n",
              "Q 1981 -91 1556 -91 \n",
              "Q 1019 -91 701 211 \n",
              "Q 384 513 384 1019 \n",
              "Q 384 1609 779 1909 \n",
              "Q 1175 2209 1959 2209 \n",
              "L 2766 2209 \n",
              "L 2766 2266 \n",
              "Q 2766 2663 2505 2880 \n",
              "Q 2244 3097 1772 3097 \n",
              "Q 1472 3097 1187 3025 \n",
              "Q 903 2953 641 2809 \n",
              "L 641 3341 \n",
              "Q 956 3463 1253 3523 \n",
              "Q 1550 3584 1831 3584 \n",
              "Q 2591 3584 2966 3190 \n",
              "Q 3341 2797 3341 1997 \n",
              "z\n",
              "\" transform=\"scale(0.015625)\"/>\n",
              "       <path id=\"DejaVuSans-69\" d=\"M 603 3500 \n",
              "L 1178 3500 \n",
              "L 1178 0 \n",
              "L 603 0 \n",
              "L 603 3500 \n",
              "z\n",
              "M 603 4863 \n",
              "L 1178 4863 \n",
              "L 1178 4134 \n",
              "L 603 4134 \n",
              "L 603 4863 \n",
              "z\n",
              "\" transform=\"scale(0.015625)\"/>\n",
              "       <path id=\"DejaVuSans-6e\" d=\"M 3513 2113 \n",
              "L 3513 0 \n",
              "L 2938 0 \n",
              "L 2938 2094 \n",
              "Q 2938 2591 2744 2837 \n",
              "Q 2550 3084 2163 3084 \n",
              "Q 1697 3084 1428 2787 \n",
              "Q 1159 2491 1159 1978 \n",
              "L 1159 0 \n",
              "L 581 0 \n",
              "L 581 3500 \n",
              "L 1159 3500 \n",
              "L 1159 2956 \n",
              "Q 1366 3272 1645 3428 \n",
              "Q 1925 3584 2291 3584 \n",
              "Q 2894 3584 3203 3211 \n",
              "Q 3513 2838 3513 2113 \n",
              "z\n",
              "\" transform=\"scale(0.015625)\"/>\n",
              "       <path id=\"DejaVuSans-20\" transform=\"scale(0.015625)\"/>\n",
              "       <path id=\"DejaVuSans-6c\" d=\"M 603 4863 \n",
              "L 1178 4863 \n",
              "L 1178 0 \n",
              "L 603 0 \n",
              "L 603 4863 \n",
              "z\n",
              "\" transform=\"scale(0.015625)\"/>\n",
              "       <path id=\"DejaVuSans-73\" d=\"M 2834 3397 \n",
              "L 2834 2853 \n",
              "Q 2591 2978 2328 3040 \n",
              "Q 2066 3103 1784 3103 \n",
              "Q 1356 3103 1142 2972 \n",
              "Q 928 2841 928 2578 \n",
              "Q 928 2378 1081 2264 \n",
              "Q 1234 2150 1697 2047 \n",
              "L 1894 2003 \n",
              "Q 2506 1872 2764 1633 \n",
              "Q 3022 1394 3022 966 \n",
              "Q 3022 478 2636 193 \n",
              "Q 2250 -91 1575 -91 \n",
              "Q 1294 -91 989 -36 \n",
              "Q 684 19 347 128 \n",
              "L 347 722 \n",
              "Q 666 556 975 473 \n",
              "Q 1284 391 1588 391 \n",
              "Q 1994 391 2212 530 \n",
              "Q 2431 669 2431 922 \n",
              "Q 2431 1156 2273 1281 \n",
              "Q 2116 1406 1581 1522 \n",
              "L 1381 1569 \n",
              "Q 847 1681 609 1914 \n",
              "Q 372 2147 372 2553 \n",
              "Q 372 3047 722 3315 \n",
              "Q 1072 3584 1716 3584 \n",
              "Q 2034 3584 2315 3537 \n",
              "Q 2597 3491 2834 3397 \n",
              "z\n",
              "\" transform=\"scale(0.015625)\"/>\n",
              "      </defs>\n",
              "      <use xlink:href=\"#DejaVuSans-74\"/>\n",
              "      <use xlink:href=\"#DejaVuSans-72\" x=\"39.208984\"/>\n",
              "      <use xlink:href=\"#DejaVuSans-61\" x=\"80.322266\"/>\n",
              "      <use xlink:href=\"#DejaVuSans-69\" x=\"141.601562\"/>\n",
              "      <use xlink:href=\"#DejaVuSans-6e\" x=\"169.384766\"/>\n",
              "      <use xlink:href=\"#DejaVuSans-20\" x=\"232.763672\"/>\n",
              "      <use xlink:href=\"#DejaVuSans-6c\" x=\"264.550781\"/>\n",
              "      <use xlink:href=\"#DejaVuSans-6f\" x=\"292.333984\"/>\n",
              "      <use xlink:href=\"#DejaVuSans-73\" x=\"353.515625\"/>\n",
              "      <use xlink:href=\"#DejaVuSans-73\" x=\"405.615234\"/>\n",
              "     </g>\n",
              "    </g>\n",
              "    <g id=\"line2d_25\">\n",
              "     <path d=\"M 142.634375 34.976563 \n",
              "L 152.634375 34.976563 \n",
              "L 162.634375 34.976563 \n",
              "\" style=\"fill: none; stroke-dasharray: 5.55,2.4; stroke-dashoffset: 0; stroke: #bf00bf; stroke-width: 1.5\"/>\n",
              "    </g>\n",
              "    <g id=\"text_13\">\n",
              "     <!-- train acc -->\n",
              "     <g transform=\"translate(170.634375 38.476563) scale(0.1 -0.1)\">\n",
              "      <use xlink:href=\"#DejaVuSans-74\"/>\n",
              "      <use xlink:href=\"#DejaVuSans-72\" x=\"39.208984\"/>\n",
              "      <use xlink:href=\"#DejaVuSans-61\" x=\"80.322266\"/>\n",
              "      <use xlink:href=\"#DejaVuSans-69\" x=\"141.601562\"/>\n",
              "      <use xlink:href=\"#DejaVuSans-6e\" x=\"169.384766\"/>\n",
              "      <use xlink:href=\"#DejaVuSans-20\" x=\"232.763672\"/>\n",
              "      <use xlink:href=\"#DejaVuSans-61\" x=\"264.550781\"/>\n",
              "      <use xlink:href=\"#DejaVuSans-63\" x=\"325.830078\"/>\n",
              "      <use xlink:href=\"#DejaVuSans-63\" x=\"380.810547\"/>\n",
              "     </g>\n",
              "    </g>\n",
              "    <g id=\"line2d_26\">\n",
              "     <path d=\"M 142.634375 49.654688 \n",
              "L 152.634375 49.654688 \n",
              "L 162.634375 49.654688 \n",
              "\" style=\"fill: none; stroke-dasharray: 9.6,2.4,1.5,2.4; stroke-dashoffset: 0; stroke: #008000; stroke-width: 1.5\"/>\n",
              "    </g>\n",
              "    <g id=\"text_14\">\n",
              "     <!-- test acc -->\n",
              "     <g transform=\"translate(170.634375 53.154688) scale(0.1 -0.1)\">\n",
              "      <use xlink:href=\"#DejaVuSans-74\"/>\n",
              "      <use xlink:href=\"#DejaVuSans-65\" x=\"39.208984\"/>\n",
              "      <use xlink:href=\"#DejaVuSans-73\" x=\"100.732422\"/>\n",
              "      <use xlink:href=\"#DejaVuSans-74\" x=\"152.832031\"/>\n",
              "      <use xlink:href=\"#DejaVuSans-20\" x=\"192.041016\"/>\n",
              "      <use xlink:href=\"#DejaVuSans-61\" x=\"223.828125\"/>\n",
              "      <use xlink:href=\"#DejaVuSans-63\" x=\"285.107422\"/>\n",
              "      <use xlink:href=\"#DejaVuSans-63\" x=\"340.087891\"/>\n",
              "     </g>\n",
              "    </g>\n",
              "   </g>\n",
              "  </g>\n",
              " </g>\n",
              " <defs>\n",
              "  <clipPath id=\"p4e70e2187e\">\n",
              "   <rect x=\"30.103125\" y=\"7.2\" width=\"195.3\" height=\"138.6\"/>\n",
              "  </clipPath>\n",
              " </defs>\n",
              "</svg>\n"
            ],
            "text/plain": [
              "<Figure size 350x250 with 1 Axes>"
            ]
          },
          "metadata": {},
          "output_type": "display_data"
        },
        {
          "data": {
            "image/svg+xml": [
              "<?xml version=\"1.0\" encoding=\"utf-8\" standalone=\"no\"?>\n",
              "<!DOCTYPE svg PUBLIC \"-//W3C//DTD SVG 1.1//EN\"\n",
              "  \"http://www.w3.org/Graphics/SVG/1.1/DTD/svg11.dtd\">\n",
              "<svg xmlns:xlink=\"http://www.w3.org/1999/xlink\" width=\"767.7pt\" height=\"85.466038pt\" viewBox=\"0 0 767.7 85.466038\" xmlns=\"http://www.w3.org/2000/svg\" version=\"1.1\">\n",
              " <metadata>\n",
              "  <rdf:RDF xmlns:dc=\"http://purl.org/dc/elements/1.1/\" xmlns:cc=\"http://creativecommons.org/ns#\" xmlns:rdf=\"http://www.w3.org/1999/02/22-rdf-syntax-ns#\">\n",
              "   <cc:Work>\n",
              "    <dc:type rdf:resource=\"http://purl.org/dc/dcmitype/StillImage\"/>\n",
              "    <dc:date>2023-12-27T21:26:48.242517</dc:date>\n",
              "    <dc:format>image/svg+xml</dc:format>\n",
              "    <dc:creator>\n",
              "     <cc:Agent>\n",
              "      <dc:title>Matplotlib v3.7.2, https://matplotlib.org/</dc:title>\n",
              "     </cc:Agent>\n",
              "    </dc:creator>\n",
              "   </cc:Work>\n",
              "  </rdf:RDF>\n",
              " </metadata>\n",
              " <defs>\n",
              "  <style type=\"text/css\">*{stroke-linejoin: round; stroke-linecap: butt}</style>\n",
              " </defs>\n",
              " <g id=\"figure_1\">\n",
              "  <g id=\"patch_1\">\n",
              "   <path d=\"M 0 85.466038 \n",
              "L 767.7 85.466038 \n",
              "L 767.7 0 \n",
              "L 0 0 \n",
              "z\n",
              "\" style=\"fill: #ffffff\"/>\n",
              "  </g>\n",
              "  <g id=\"axes_1\">\n",
              "   <g id=\"patch_2\">\n",
              "    <path d=\"M 7.2 78.266038 \n",
              "L 78.266038 78.266038 \n",
              "L 78.266038 7.2 \n",
              "L 7.2 7.2 \n",
              "z\n",
              "\" style=\"fill: #ffffff\"/>\n",
              "   </g>\n",
              "   <g clip-path=\"url(#pebab0d6ea8)\">\n",
              "    <image xlink:href=\"data:image/png;base64,\n",
              "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\" id=\"image403b54d3cd\" transform=\"scale(1 -1) translate(0 -71.28)\" x=\"7.2\" y=\"-6.986038\" width=\"71.28\" height=\"71.28\"/>\n",
              "   </g>\n",
              "   <g id=\"patch_3\">\n",
              "    <path d=\"M 7.2 78.266038 \n",
              "L 7.2 7.2 \n",
              "\" style=\"fill: none; stroke: #000000; stroke-width: 0.8; stroke-linejoin: miter; stroke-linecap: square\"/>\n",
              "   </g>\n",
              "   <g id=\"patch_4\">\n",
              "    <path d=\"M 78.266038 78.266038 \n",
              "L 78.266038 7.2 \n",
              "\" style=\"fill: none; stroke: #000000; stroke-width: 0.8; stroke-linejoin: miter; stroke-linecap: square\"/>\n",
              "   </g>\n",
              "   <g id=\"patch_5\">\n",
              "    <path d=\"M 7.2 78.266038 \n",
              "L 78.266038 78.266038 \n",
              "\" style=\"fill: none; stroke: #000000; stroke-width: 0.8; stroke-linejoin: miter; stroke-linecap: square\"/>\n",
              "   </g>\n",
              "   <g id=\"patch_6\">\n",
              "    <path d=\"M 7.2 7.2 \n",
              "L 78.266038 7.2 \n",
              "\" style=\"fill: none; stroke: #000000; stroke-width: 0.8; stroke-linejoin: miter; stroke-linecap: square\"/>\n",
              "   </g>\n",
              "  </g>\n",
              "  <g id=\"axes_2\">\n",
              "   <g id=\"patch_7\">\n",
              "    <path d=\"M 92.479245 78.266038 \n",
              "L 163.545283 78.266038 \n",
              "L 163.545283 7.2 \n",
              "L 92.479245 7.2 \n",
              "z\n",
              "\" style=\"fill: #ffffff\"/>\n",
              "   </g>\n",
              "   <g clip-path=\"url(#p59a40beb1e)\">\n",
              "    <image xlink:href=\"data:image/png;base64,\n",
              "iVBORw0KGgoAAAANSUhEUgAAAGMAAABjCAYAAACPO76VAAAFFUlEQVR4nO2dz28bRRTHPbveteMfwUmJ4/wQSlPUQxOpECQkbhxQDxzhAIdKvfBDUCoOSPwLCCQuiP8BIdRDDyAhkOilN6RK0ApUNbSEH0kcQxvTxnHd3e0BaWbepDPshjp63nw/pzd5Y+/EX78349mZWXFtrZUULJxdfYWUvTdCaUfXb9hetgevWpX2jfdPEt/5Mx9LOxAx8fkF1bSoIFJfL0rsdX1B/129rul78dJZaR9/m/6/0e3tVG0ptqZJ+acP56T9zfOfEJ+X6h3BgQAxGAExGFF0Ode746Q8u/n7vi4S7+xIe/HzDvGdbr8n7bBLc3b5ViRt/57Rn/SVTwyob8/1Q1+z6fcv8VSfsTvhE9/i2q60o+2u8xrWaxt9i9c5aq2LyGAExGCEM02FxYj+IYoeXvG/SLQh6s+rxNXUy4mRbhLrqDsTvsU2CYUxJBbad3WfbUmM18Ul+/sgMhgBMRgBMRjh7DN8z8jhsXsImYp4n/3OQWD2C8kQ2uqY1UFkMAJiMMKZpsrF+wfVjvwS09QnBvY8hchgBMRgBMRghLPPaJR6pNz3oN3/xjGrgk+XERCDEc40NR7SNNUpOquDNOAX+GgAMRgBMRjhHtoGRp9RagyzLYeCxMedvpEAYjDCmaaa4T+kvFqettQEaUmKSFMjAcRgBMRghLPPmAluk3I8UVOF34bRnBziGfMfgX1RByKDERCDEc40tRBukXJvri7t0g/DaVDeEMb6XX/MvhYLkcEIiMEIiMEIZ58x69PpkO1jgbSbw2lP/ggCUqzXepaKiAxWQAxGONNU3dgS0H1SlZvmlqtHtOUrb4iQpqmZcfuuWUQGIyAGIyAGIzKtShNTfa1g6DiMLVc5QJTLpDxfvWWti8hgBMRgBMRghLPP6Bs/HcLSYJhtySVJhfYZR4K71rqIDEZADEZkGtp6nspbwrjRbh6IA/4lKYWkXPLs27kRGYyAGIyAGIzI1GeUAgxts5KU6NlvvsAitpEAYjAiU5qarGg3033j6MX7OIHnYcQh/Yhr/q6lJiKDFRCDERCDEZn6jJmKOtd7yzi6Iun3zeqgUCgMxunqkIWwY6mJyGAFxGBEpjR1vNqWdqf2BHXetd80OXRoC/x6j9OPeDFAmhoJIAYjIAYjMvUZy2PqMT+Xpp6izs12Aeyl16Tf90ntTp+54AORwQiIwYhMaWqh+Je0uycaxFe78kjakw+0dcj9ifT7VhAZjIAYjIAYjMjUZ9Q9tSChvUIXsdW+0MqHfH+f0O6C9ufpIg5zOKuDyGAExGCEM02ZD0TXH5a+9NwvxNevVKQdH/IZXP/IhLRPLV9N/TpEBiMgBiMgBiMyDW31PuTc/LfE98GzZ6TtX7xMX5jzoa4wFmf8+dIxaX86/RHxubaxIDIYATEY4X7QrvHorHuJ0m7FOCe9/a5ahzv/xyLxRddvqgLnB+1mQARqe9juCyeJ7813Lkj7aFAjvtXBHet7IjIYATEYATEYIa6ttVKPO/WhbcOQcSNSM5Wvfv8a8U1+VpX2Y5c3iS/eUAsZ4p5xmOJBD4k9uufEG1OnG4i5FvH9+rJ6lsjrp78ivnMNNVW0Hu0QH2ZtRwSIwYhMacpFXTsxYSuiGn99Z0naX24sE9/NK7PSnvuO/j6tXdXOYt82hoSuIxnMg8m0tgnjnNmopWZYt56pE9/fT6th+KmVH4nvramL0l4ytoqtRyrdDjJ8uogMRkAMRkAMRjwAbAwXa5ow0SsAAAAASUVORK5CYII=\" id=\"image3279623fbf\" transform=\"scale(1 -1) translate(0 -71.28)\" x=\"92.479245\" y=\"-6.986038\" width=\"71.28\" height=\"71.28\"/>\n",
              "   </g>\n",
              "   <g id=\"patch_8\">\n",
              "    <path d=\"M 92.479245 78.266038 \n",
              "L 92.479245 7.2 \n",
              "\" style=\"fill: none; stroke: #000000; stroke-width: 0.8; stroke-linejoin: miter; stroke-linecap: square\"/>\n",
              "   </g>\n",
              "   <g id=\"patch_9\">\n",
              "    <path d=\"M 163.545283 78.266038 \n",
              "L 163.545283 7.2 \n",
              "\" style=\"fill: none; stroke: #000000; stroke-width: 0.8; stroke-linejoin: miter; stroke-linecap: square\"/>\n",
              "   </g>\n",
              "   <g id=\"patch_10\">\n",
              "    <path d=\"M 92.479245 78.266038 \n",
              "L 163.545283 78.266038 \n",
              "\" style=\"fill: none; stroke: #000000; stroke-width: 0.8; stroke-linejoin: miter; stroke-linecap: square\"/>\n",
              "   </g>\n",
              "   <g id=\"patch_11\">\n",
              "    <path d=\"M 92.479245 7.2 \n",
              "L 163.545283 7.2 \n",
              "\" style=\"fill: none; stroke: #000000; stroke-width: 0.8; stroke-linejoin: miter; stroke-linecap: square\"/>\n",
              "   </g>\n",
              "  </g>\n",
              "  <g id=\"axes_3\">\n",
              "   <g id=\"patch_12\">\n",
              "    <path d=\"M 177.758491 78.266038 \n",
              "L 248.824528 78.266038 \n",
              "L 248.824528 7.2 \n",
              "L 177.758491 7.2 \n",
              "z\n",
              "\" style=\"fill: #ffffff\"/>\n",
              "   </g>\n",
              "   <g clip-path=\"url(#p7d56fc250e)\">\n",
              "    <image xlink:href=\"data:image/png;base64,\n",
              "iVBORw0KGgoAAAANSUhEUgAAAGMAAABjCAYAAACPO76VAAAE+UlEQVR4nO2dz2ucRRjH35+7m03bmM1uE0XFrqkSlFKLFqT1HFAQDy0a8SIoHqRQsLf+BbaHXopWLz1Vi/UiqAeLCF4ETxq0VaGNJjZQSSvZ7Sbd7O5MD4WZeabZ4X1rYp533+/n9EyeeWfffb95npl33nln/bmFCen14eObz5PyN6cOKnvsws/EJ1ZW+jXjeb6vzKBcJq6gWlm3nud5ntftaTsM+rcfWD67Ham/orTa8YXhW7pJfL1mc902bPy4QMqr03uVvf3YAvF9UL/Qtx3HNwT/NxCDERCDEZHLebVVJeXKbEPZYnU1+acY+Va0WsRll7OI7KyR8vAfN5Q9d6NCK9f7t4PIYATEYIQzTXUl1Spo6uFrzzHUyzt+W6ctKYcSH4fIYATEYATEYISzzyiFHVJutTt9agKCMcUShiLxYYgMRkAMRjjT1D1gOJsMoVOTlL6jIgWRwQiIwQiIwQj3dIgI6R96vfUrgg0BkcEIiMEIZ5pa6dIH7VIkv5sEdxECQ9tMAjEYATEY4ewz1uyhbff2Zp7L4GDcAqDPyCgQgxHONBX4dJZWCMzabiaIDEZADEZADEY4+4xtcZuUG0HyYRq4SxRhQUImgRiMcKap7ZGdpsp9agKC8RpbIeomPgyRwQiIwQiIwQhnn7Ejoq+KLRZGNvVkBgbjVehijD4jk0AMRjjT1M5Ck5Qvlx/bzHMZHGJ9WUeKyR/IITIYATEYATEY4ewzxuNlUhY7kr9Gm2fkUFHZjwwvJj4OkcEIiMEIiMEIZ59Rixqk3K7pKfSCXTnPWDu/iW0lZU+W/0ncDCKDERCDEe40FdLpkFsP6eoVx6aMeac9ptPUriLSVCaBGIyAGIxw9xmBtTrE2Oyw4ls6yvy+luyH9D2W5sP6sj4Ro8/IJBCDEc40NWytrZWP6w0j7dCUIsdpKqKXsTGp7XFrAzXX9mmIDEZADEZADEY4+wx7I+F9j+rfglguFYnP3g88T/hD9AloNKmnkWJr2qjjmDZCZDACYjDCmabsYdiLY7PKPj/+AnU2m16uMNNPdZS4Xqr/quzbKWazERmMgBiMgBiMSLXJ8IGhP5V9+sBh4hu9Oq8LOZgaMaeD/n12J/G9Nnpe2Wn2rkNkMAJiMCJVmqoaoVmYuU4b+nZC2d2/r/3H0+JPWNO/1NY4RIf1U7G2l1LkKUQGIyAGIyAGI1L1GW2pE+DpJz8lvlffOars+gm6RlcMwFRJUCqR8vwbenXGuX2niK99n4szEBmMgBiMSJWmWsaGkVMFquN7h75Q9ofXXyG+8TM/Klt2k+8YsOUYM7Ot6T3Edfwtnab3FumDtrnOLWWHKfZLQ2QwAmIwAmIwwp9bmEj8KKpn1Ox4NBnWjAVvZ5efJr6Lr+9Xtpj9Le05bhnRg3qKZ/eXS8T3/sQPyv6rSxdjxJ6+ULHVZ7hmRxAZjIAYjEj3C5YOFnpa1zdHfiG+MzPTyq5foh/Jaahrr5m9dljfZX9U+5z4fu/ousPWnvHmcBYPlzIKxGAExGDEhvUZoTGcW+zR8dyRl79W9lefHaQH/nRJ21vx+rK5GO2ZKeKaefuiskvWmtnY6A3s4av5H44+I6NADEbc9x24jXlHbt6Bep7nPWDs8/rc9+8S3+6T+o1aefkK8ck14852g1KYPXwV+59SdvXkPPF9sus7ZV8xZmJtkKYGEIjBCIjBiDtmryANKChzTAAAAABJRU5ErkJggg==\" id=\"imageb96fae4084\" transform=\"scale(1 -1) translate(0 -71.28)\" x=\"177.758491\" y=\"-6.986038\" width=\"71.28\" height=\"71.28\"/>\n",
              "   </g>\n",
              "   <g id=\"patch_13\">\n",
              "    <path d=\"M 177.758491 78.266038 \n",
              "L 177.758491 7.2 \n",
              "\" style=\"fill: none; stroke: #000000; stroke-width: 0.8; stroke-linejoin: miter; stroke-linecap: square\"/>\n",
              "   </g>\n",
              "   <g id=\"patch_14\">\n",
              "    <path d=\"M 248.824528 78.266038 \n",
              "L 248.824528 7.2 \n",
              "\" style=\"fill: none; stroke: #000000; stroke-width: 0.8; stroke-linejoin: miter; stroke-linecap: square\"/>\n",
              "   </g>\n",
              "   <g id=\"patch_15\">\n",
              "    <path d=\"M 177.758491 78.266038 \n",
              "L 248.824528 78.266038 \n",
              "\" style=\"fill: none; stroke: #000000; stroke-width: 0.8; stroke-linejoin: miter; stroke-linecap: square\"/>\n",
              "   </g>\n",
              "   <g id=\"patch_16\">\n",
              "    <path d=\"M 177.758491 7.2 \n",
              "L 248.824528 7.2 \n",
              "\" style=\"fill: none; stroke: #000000; stroke-width: 0.8; stroke-linejoin: miter; stroke-linecap: square\"/>\n",
              "   </g>\n",
              "  </g>\n",
              "  <g id=\"axes_4\">\n",
              "   <g id=\"patch_17\">\n",
              "    <path d=\"M 263.037736 78.266038 \n",
              "L 334.103774 78.266038 \n",
              "L 334.103774 7.2 \n",
              "L 263.037736 7.2 \n",
              "z\n",
              "\" style=\"fill: #ffffff\"/>\n",
              "   </g>\n",
              "   <g clip-path=\"url(#pfc2c2303e9)\">\n",
              "    <image xlink:href=\"data:image/png;base64,\n",
              "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\" id=\"image306397df05\" transform=\"scale(1 -1) translate(0 -71.28)\" x=\"263.037736\" y=\"-6.986038\" width=\"71.28\" height=\"71.28\"/>\n",
              "   </g>\n",
              "   <g id=\"patch_18\">\n",
              "    <path d=\"M 263.037736 78.266038 \n",
              "L 263.037736 7.2 \n",
              "\" style=\"fill: none; stroke: #000000; stroke-width: 0.8; stroke-linejoin: miter; stroke-linecap: square\"/>\n",
              "   </g>\n",
              "   <g id=\"patch_19\">\n",
              "    <path d=\"M 334.103774 78.266038 \n",
              "L 334.103774 7.2 \n",
              "\" style=\"fill: none; stroke: #000000; stroke-width: 0.8; stroke-linejoin: miter; stroke-linecap: square\"/>\n",
              "   </g>\n",
              "   <g id=\"patch_20\">\n",
              "    <path d=\"M 263.037736 78.266038 \n",
              "L 334.103774 78.266038 \n",
              "\" style=\"fill: none; stroke: #000000; stroke-width: 0.8; stroke-linejoin: miter; stroke-linecap: square\"/>\n",
              "   </g>\n",
              "   <g id=\"patch_21\">\n",
              "    <path d=\"M 263.037736 7.2 \n",
              "L 334.103774 7.2 \n",
              "\" style=\"fill: none; stroke: #000000; stroke-width: 0.8; stroke-linejoin: miter; stroke-linecap: square\"/>\n",
              "   </g>\n",
              "  </g>\n",
              "  <g id=\"axes_5\">\n",
              "   <g id=\"patch_22\">\n",
              "    <path d=\"M 348.316981 78.266038 \n",
              "L 419.383019 78.266038 \n",
              "L 419.383019 7.2 \n",
              "L 348.316981 7.2 \n",
              "z\n",
              "\" style=\"fill: #ffffff\"/>\n",
              "   </g>\n",
              "   <g clip-path=\"url(#pa32928e57c)\">\n",
              "    <image xlink:href=\"data:image/png;base64,\n",
              "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\" id=\"image42c455baac\" transform=\"scale(1 -1) translate(0 -71.28)\" x=\"348.316981\" y=\"-6.986038\" width=\"71.28\" height=\"71.28\"/>\n",
              "   </g>\n",
              "   <g id=\"patch_23\">\n",
              "    <path d=\"M 348.316981 78.266038 \n",
              "L 348.316981 7.2 \n",
              "\" style=\"fill: none; stroke: #000000; stroke-width: 0.8; stroke-linejoin: miter; stroke-linecap: square\"/>\n",
              "   </g>\n",
              "   <g id=\"patch_24\">\n",
              "    <path d=\"M 419.383019 78.266038 \n",
              "L 419.383019 7.2 \n",
              "\" style=\"fill: none; stroke: #000000; stroke-width: 0.8; stroke-linejoin: miter; stroke-linecap: square\"/>\n",
              "   </g>\n",
              "   <g id=\"patch_25\">\n",
              "    <path d=\"M 348.316981 78.266038 \n",
              "L 419.383019 78.266038 \n",
              "\" style=\"fill: none; stroke: #000000; stroke-width: 0.8; stroke-linejoin: miter; stroke-linecap: square\"/>\n",
              "   </g>\n",
              "   <g id=\"patch_26\">\n",
              "    <path d=\"M 348.316981 7.2 \n",
              "L 419.383019 7.2 \n",
              "\" style=\"fill: none; stroke: #000000; stroke-width: 0.8; stroke-linejoin: miter; stroke-linecap: square\"/>\n",
              "   </g>\n",
              "  </g>\n",
              "  <g id=\"axes_6\">\n",
              "   <g id=\"patch_27\">\n",
              "    <path d=\"M 433.596226 78.266038 \n",
              "L 504.662264 78.266038 \n",
              "L 504.662264 7.2 \n",
              "L 433.596226 7.2 \n",
              "z\n",
              "\" style=\"fill: #ffffff\"/>\n",
              "   </g>\n",
              "   <g clip-path=\"url(#pabb1a7e6f4)\">\n",
              "    <image xlink:href=\"data:image/png;base64,\n",
              "iVBORw0KGgoAAAANSUhEUgAAAGMAAABjCAYAAACPO76VAAAE3klEQVR4nO2dy24cRRSGu/oy3Z6bnXHGFplwtSwRlCD2wArxAEg8BnsegyVCgjVCvAM7dkhICCFFQihKkEVI7JhMMuPxXJpdV50yLZHm1PDP6P9W1a6aKnf/cy5TXV1tJievlpECX49HVfmzLz4WdaOvfq7Ky6dPNYaL4k6nKs/evSXqdu4+FMeL+7/bg7LZ6ZqsJft873ZVnn56Luq+u/NNozHiRp8iQaAYQFAMIFKtjh4telX54IepqFuOx1rDVKymF1U5P3km6x6fycYN44ToYn4pjls/3avKv/16LBvfaTYGLQMIigGEmps6TP+yB75bUHATVyhXtpwYWbdc6o/nD385twe9eX3DF4CWAQTFAIJiAKEWMz5s36vKn79SiLq+1iA1xGMvlQ4RozxMYc/xgzfvqvRJywCCYgCh5qYGSV6VT2/LVLMfJ/ZgpZR2Oq6oHD+XdWtIbU3Pzhof5n+o9EnLAIJiAEExgFCLGbnJqrI5kj7cxDaGuLMYWpSTiTxehU9tl9dszHipda7SJy0DCIoBhJqbWjr+5/XhqagzqR2mXCy0hrR9XnqzpiF8oZHp+mzYrsrHLaa2WwfFAIJiAKEWMxaRnYK4XsjU9jSzaW90cRFpU65h+iMy8ns7vmkv3XH2xGucR02gZQBBMYBQc1Mu/Uy6orN0J8QwFj+VDXBzyWTyUo1fs+XDRK7DbQotAwiKAQTFACJIzOgkM2+U3j831GIdCxBaMi5cjuza29zIy+im+S8CLQMIigFEEDfVTuTyedPKalpuDv45dPemNS2bQ8sAgmIAQTGACBIzuok3M7sNMSOT59Dfsee4inRSa1oGEBQDiCBuSjxSFkVR2S5qWm4QufwF3mvZWYZVpLMAgpYBBMUAgmIAESRmjLwb9POBXfC1seoniTgsvCkfDTb22mwjFAMIigFEkJgxTOQitumBzdE73gLiddyl06BMZcxIY/2Fc7QMICgGEGEWJBj5DMZkaDXv+I2RcV3qFTel/wwILQMIigEExQAiSMzIvex1NnD+4D3nEJVreLZCgTKTMaOXzmpaNoeWAQTFACJQais1nu0HeBR4zSzb8k7fYa6zp7sLLQMIigEExQAiUGoru13t2+0k3B12oijMzhJqOLFvVcjUdpA+91v/Z2gZQFAMIIK4qcxIk9695pi0/wt8Q1h4bmo3mdS0bM5mXpkthWIAQTGACBIz4kimrwdd+xoek0j9S51XTwRn3pX/9376rKZlc2gZQFAMIIK4KX+HgOGONelTb80qMu5swWxPfm+HCWdttxqKAQTFACJIzPBxd2Y7y5ptpvi/4EzdTK/LdP2GmA7ROSdaBhAUA4ggbsp/G1js7iCQ6WyuuA7c2YJ5X55Tz7tJpgEtAwiKAQTFAELx/RnWp8696ZB+anctM8VQa8jwOFM3i65cOVEY/WkdWgYQFAMINTfl7iwz9xZDHRV/VuUfd9+SH3yg9R/oY9wZ5l15F8x9+9rce6wh8Z/o/ZfQMoCgGEBQDCDUYkYsdJU+9J3iflX+8u09Udf/JcAbkZUwfbuH+9HokaibOSspYqXvNC0DCIoBhJqbctO5pJSp3Rup3THh/CO5lH7w/Y2qvHhwIjtds9uKO3L/hrP3X67Kn9z8tvZzTVPZK+Or9EJUoBhAUAwg/gaevu7su4JMDQAAAABJRU5ErkJggg==\" id=\"image8c6e907486\" transform=\"scale(1 -1) translate(0 -71.28)\" x=\"433.596226\" y=\"-6.986038\" width=\"71.28\" height=\"71.28\"/>\n",
              "   </g>\n",
              "   <g id=\"patch_28\">\n",
              "    <path d=\"M 433.596226 78.266038 \n",
              "L 433.596226 7.2 \n",
              "\" style=\"fill: none; stroke: #000000; stroke-width: 0.8; stroke-linejoin: miter; stroke-linecap: square\"/>\n",
              "   </g>\n",
              "   <g id=\"patch_29\">\n",
              "    <path d=\"M 504.662264 78.266038 \n",
              "L 504.662264 7.2 \n",
              "\" style=\"fill: none; stroke: #000000; stroke-width: 0.8; stroke-linejoin: miter; stroke-linecap: square\"/>\n",
              "   </g>\n",
              "   <g id=\"patch_30\">\n",
              "    <path d=\"M 433.596226 78.266038 \n",
              "L 504.662264 78.266038 \n",
              "\" style=\"fill: none; stroke: #000000; stroke-width: 0.8; stroke-linejoin: miter; stroke-linecap: square\"/>\n",
              "   </g>\n",
              "   <g id=\"patch_31\">\n",
              "    <path d=\"M 433.596226 7.2 \n",
              "L 504.662264 7.2 \n",
              "\" style=\"fill: none; stroke: #000000; stroke-width: 0.8; stroke-linejoin: miter; stroke-linecap: square\"/>\n",
              "   </g>\n",
              "  </g>\n",
              "  <g id=\"axes_7\">\n",
              "   <g id=\"patch_32\">\n",
              "    <path d=\"M 518.875472 78.266038 \n",
              "L 589.941509 78.266038 \n",
              "L 589.941509 7.2 \n",
              "L 518.875472 7.2 \n",
              "z\n",
              "\" style=\"fill: #ffffff\"/>\n",
              "   </g>\n",
              "   <g clip-path=\"url(#pfc7706503c)\">\n",
              "    <image xlink:href=\"data:image/png;base64,\n",
              "iVBORw0KGgoAAAANSUhEUgAAAGMAAABjCAYAAACPO76VAAAFMElEQVR4nO2c329URRTH74+9u8uu1XZpqTVQSmixhBpJJJJIYtQnYyRGQxMDjyaEqA/GGP8CNL7oI+9GE0kE47OKhkRfGgIYA1pZaMvWhQJCu0uhu3vvXt9m5jstmzZpe8/W7+fpzJ7ZvWf3e+fM7NyZcadKT8YOEYGXdABEQzEEQTEEQTEEQTEEQTEEQTEEQTEEQTEEQTEEQTEEQTEEQTEEkVpJ5ZoxvzsZPgG+M5U9yv75xi7wzUwVlJ2dwUsGFW37dbxebNwqtU4rlp0Lyn5h6Br4DvWcg/LTwS1ljze2gO+zK68qu/Ib+nI39RcOHuLkdiPnKjs0bMdxnHqHtheeisC3a/e0st/quwA+tgxBUAxBUAxBuL9MDEIy/Or2AWX/dH4PVC5c8JXd9XcNfOnpe7pwbw588fwDbYch+pqxWWgRKd43rq9jcbMZ8Hmd2J9FvZ26bh2v7/6j+5Nm5T7GFjYeHU+r2Dzdh7jpNNYd7Fdm8XAXuNgyBEExBOEOHv8c0tSO7/RY0y1eh8pNI904TRyykWXi6fTqjQyha71jIY+GYgiCYggitfPkXXgh+rOo7Jj9wupj/KZuaQZcbBmCoBiCSDmlG/gKU9O6EddxmpotQxAUQxAUQxApJ1jRwz6ymsT49JAtQxAUQxCpcLgfXvDG9AOWuFG365PVpIkP09gyBEExBEExBJG69i4uwBoIRpSdKeKsomMsJli0sKCm+5d4ARcrxJExxWIvOoj/vzufYw5t5UIxBOGeLu6FtvLJ+GvKvnO9EytHOqUFc6hjrqx9HWVMYfmJqv6M8h3wNWf1GqtF65Q2eArzcjksJxQHWQKKIQiKIQjXPlVnJtJrQycb3VB5NtI5zndxiHo3fEzZF6tbwTdW2q7fd7EDfNt+NPqTy7jPojk/3zr6Nsfv3gxltgxBUAxBUAxBuBNWnxEZpYaDUyVRrMu+i/8BAkeXs/g2pxTp/RPfzz4Hvm/O7Vf2jm/xM9Nn/1B2XMMplo2ANzKM5YTiIEtAMQSxaGhr0mJT1yJMVe33NYwrdHiYwy4b+3Q/vDQKvp5Pje1hY5es4Np0sZ2rv/+DN58HF1uGICiGICiGIFr2GauF2YdE1tV8owtpWL7R399Rdt97ODUSlqadtsToM+YO7wcXW4YgKIYg1iVNtcJMTYH1z908xeeNEx+Db+sX+uScdl1s5z27G8sJxUGWgGIIgmIIIvHNGUGLoW3B0/fKi4fOg2/qZK+yw6nSmsS21njVh1hOKA6yBBRDEImnKd+wm9bQdtbYv/DBljPgO/LKR8oufFnGNwqe0XVT+iev9RfAx5YhCIohCIohiMT7DDO723eG6ev10euP3lZ26ode8IVl6wiOZS6gNvO541gLk30fK5vxWAdGwsk5QYCxDehYr75tXW9ZUZJ1gWIIIvFZWxMrETjmbo2si+PeK41Nyj524n3w9X99FcrNirGed1MWfPVnBpQ9eRDPoE1v19uw81mcGR7q0mnyfojn6v5V1qkoncG9KsM9emve0b6z4GPLEATFEATFEETiQ1sTexLDvFPq1vB0X0bXPnjkV/Cd2nwAyo8bXci/+/Aqx18+rezX87jIoWoMUWtWz9ptDHXnrOmX0jY9JM662GcUPN335K0FfWwZgqAYghA1tF0JeeNf77x16sKp6ohdXfFSbhzKezN6WHorwrVZdmpca9gyBEExBEExBNG2fcZGhC1DEBRDEBRDEBRDEBRDEBRDEBRDEBRDEBRDEBRDEBRDEBRDEBRDEP8BqZpgbLGqG0kAAAAASUVORK5CYII=\" id=\"imagec4e030e156\" transform=\"scale(1 -1) translate(0 -71.28)\" x=\"518.875472\" y=\"-6.986038\" width=\"71.28\" height=\"71.28\"/>\n",
              "   </g>\n",
              "   <g id=\"patch_33\">\n",
              "    <path d=\"M 518.875472 78.266038 \n",
              "L 518.875472 7.2 \n",
              "\" style=\"fill: none; stroke: #000000; stroke-width: 0.8; stroke-linejoin: miter; stroke-linecap: square\"/>\n",
              "   </g>\n",
              "   <g id=\"patch_34\">\n",
              "    <path d=\"M 589.941509 78.266038 \n",
              "L 589.941509 7.2 \n",
              "\" style=\"fill: none; stroke: #000000; stroke-width: 0.8; stroke-linejoin: miter; stroke-linecap: square\"/>\n",
              "   </g>\n",
              "   <g id=\"patch_35\">\n",
              "    <path d=\"M 518.875472 78.266038 \n",
              "L 589.941509 78.266038 \n",
              "\" style=\"fill: none; stroke: #000000; stroke-width: 0.8; stroke-linejoin: miter; stroke-linecap: square\"/>\n",
              "   </g>\n",
              "   <g id=\"patch_36\">\n",
              "    <path d=\"M 518.875472 7.2 \n",
              "L 589.941509 7.2 \n",
              "\" style=\"fill: none; stroke: #000000; stroke-width: 0.8; stroke-linejoin: miter; stroke-linecap: square\"/>\n",
              "   </g>\n",
              "  </g>\n",
              "  <g id=\"axes_8\">\n",
              "   <g id=\"patch_37\">\n",
              "    <path d=\"M 604.154717 78.266038 \n",
              "L 675.220755 78.266038 \n",
              "L 675.220755 7.2 \n",
              "L 604.154717 7.2 \n",
              "z\n",
              "\" style=\"fill: #ffffff\"/>\n",
              "   </g>\n",
              "   <g clip-path=\"url(#pb90366bbff)\">\n",
              "    <image xlink:href=\"data:image/png;base64,\n",
              "iVBORw0KGgoAAAANSUhEUgAAAGMAAABjCAYAAACPO76VAAAEzklEQVR4nO2dz2tcVRTH34/JZCYzdYbpNO0k2rRFG1N/4A+igghCEaFCV9noohSKblxWwYX6Dyiu3OhOEERcWEHQRRHBKipaKArWHxhs05iCHWkmaWYmmffc3XvPW8T0cR5+3/P7WZ3Lub13Jt85597ed+99/uLlfbGnzEe9u0T5nTeOGbv97nnhiwcD7e7VCNu7jb34/KzwvfzM+8Z+rPqHSn+BSitEBYoBBMUAopRFo71RRZRbFzeMjTxGJBld6xp76pz83EsLLVvgmFE8KAYQmaSpVmlNlOPAN7afrIxMbGf9wTASrs7Y3+rdMTKAoBhAUAwgMhkzjlSuiPJ7zTFjV5KVkfHtCHf9kPzk85VL6t0xMoCgGEBkkqbK3kiU1/eFxs5VmnLo75aT8mZgp7qbSn0wMoCgGEBQDCAyGTMagVzhHDRztQhi8e1vdasqXSNPH0YGEBQDCLU09cXGjLFf/fa48M1++KexswjvzIjspz1w5ppwLTx60tjPHjwnfE/UfkvVHSMDCIoBBMUAwtfaxHbq16dto6+0hM//+kdbiHI1aliCUBTjR+429pXTW8L3yfxb6bpI9a9IJlAMINSmtr8vt419+MIvwhflNTW5JL5DeP5nW/juAVl3Pl0XjAwgKAYQFAMItTEjGtqpX57206YlGtrne6WNbSreBIwMICgGEGppqr13Vaup3HGjo3MSj5EBBMUAgmIAkcmGhP8b0RjHjMJBMYBQS1PlkvOAxS++xr5zNC4Ot6l4ExT/r5YjKAYQFAMItTGjMd43dhTkdG9tSuLx6N8r7QBGBhAUAwiKAYTamDE9cd3YS+Wy8BXyyV9o/3MR7tI51cfIAIJiAKGWpg7XVoy9XLtd+KJeT6sbGPyS/dPtaek85WRkAEExgKAYQKiNGbPj9tzeZ3sfks6Vq1rdwOBX7cUbB2/pblNz5zAygKAYQKilqf0le4Hi6mxD+OoXtHrBwd9VN/Yd9XRHjZMwMoCgGEBQDCD0Nj6HduWyOyc1rjsXL7oX9+aZzU7T2PdP8C70wkExgFBLU+4+rsGhvnS6m9riAhxD9jyvN2NvA7unvLJNzZ3DyACCYgBBMYBQGzPckaDdlk/2fOfhfZzXqyt8uTFv9YD9HbcC+Zvuxek2tTEygKAYQOjdkODYreoN6SzA3ls31Xqe5/Un7Tfup0xLSRgZQFAMICgGEHpTW2cxdjCSzVacaWFu12wT5xTj1tDYfH9GAaEYQGQytb2tLt/u+Fdtwhb6iRXdnBDU5Dsb9nd09kqJPtRbJKmhGEBQDCAyuVXn4caiKJ+ZO2rs4MvE24KRNyg4U/LBg/LMyVNTn6t3x8gAgmIAoZamXFWP1X4SvtdPPmnsI5dvFb6tS0u28F+nrMRrGcI5m5rWX5Tp9bmmfQ1FN/G8LEy5SM3IAIJiAEExgFB7zY9LO5A3JJzdaBr7he8XhG/yA7vM0PhK7lndco+faY0niY0FpekpYy8fnxG++078YOzXpj8VvnZYM/bi5prwccwoABQDiEzS1CjRYsUJ2+SuqY/XZo395sXHhW/P23a1t/qNPKoVra0bOx7JVv3EBoigblPK6tE7he/el+wZt9OTZ4WvE9p0242GwrfpfMe0aSkJIwMIigEExQDiHyMQ8/Kx9R/xAAAAAElFTkSuQmCC\" id=\"imagecd317c9fbb\" transform=\"scale(1 -1) translate(0 -71.28)\" x=\"604.154717\" y=\"-6.986038\" width=\"71.28\" height=\"71.28\"/>\n",
              "   </g>\n",
              "   <g id=\"patch_38\">\n",
              "    <path d=\"M 604.154717 78.266038 \n",
              "L 604.154717 7.2 \n",
              "\" style=\"fill: none; stroke: #000000; stroke-width: 0.8; stroke-linejoin: miter; stroke-linecap: square\"/>\n",
              "   </g>\n",
              "   <g id=\"patch_39\">\n",
              "    <path d=\"M 675.220755 78.266038 \n",
              "L 675.220755 7.2 \n",
              "\" style=\"fill: none; stroke: #000000; stroke-width: 0.8; stroke-linejoin: miter; stroke-linecap: square\"/>\n",
              "   </g>\n",
              "   <g id=\"patch_40\">\n",
              "    <path d=\"M 604.154717 78.266038 \n",
              "L 675.220755 78.266038 \n",
              "\" style=\"fill: none; stroke: #000000; stroke-width: 0.8; stroke-linejoin: miter; stroke-linecap: square\"/>\n",
              "   </g>\n",
              "   <g id=\"patch_41\">\n",
              "    <path d=\"M 604.154717 7.2 \n",
              "L 675.220755 7.2 \n",
              "\" style=\"fill: none; stroke: #000000; stroke-width: 0.8; stroke-linejoin: miter; stroke-linecap: square\"/>\n",
              "   </g>\n",
              "  </g>\n",
              "  <g id=\"axes_9\">\n",
              "   <g id=\"patch_42\">\n",
              "    <path d=\"M 689.433962 78.266038 \n",
              "L 760.5 78.266038 \n",
              "L 760.5 7.2 \n",
              "L 689.433962 7.2 \n",
              "z\n",
              "\" style=\"fill: #ffffff\"/>\n",
              "   </g>\n",
              "   <g clip-path=\"url(#pa665de2eeb)\">\n",
              "    <image xlink:href=\"data:image/png;base64,\n",
              "iVBORw0KGgoAAAANSUhEUgAAAGMAAABjCAYAAACPO76VAAAFMUlEQVR4nO2dz28bRRTHPesf8Y84jkNi3DalUSvSQBV+XJA4IOAAqvghFSEkpKJekCrBiQvnihMHpF44cOHChT+ACik9gDgUKkQBlfKjodAkBAppkobUuN44uzvcZvaN6unu1k6f3e/n9EZvZj3er9+b9ezsrFharstUB05cOUzK8+8dUnZ57kfiC1quskU6TXzpvbuV3ZitEV9rTNctrvrEN7TRVrbTpj7R9nTBp19BSFqWWf0ZXnmI+Db350MNiSs1cXpBt1tZpU4Z6GbG9/Ufn1V2cGKd+D6a/jjVCaejB+w4EIMREIMRGZvzh7XdpDxxRudQv9ns2E4GNL97lxeVXVhcJr5CuGC0I8e8RTkq5q+vekYPFGbu9zwvFQVp1MteuKzsXy4dpJWno/cN3EEgBiOsaarVzpKybPx3+59oSUV3hNBlsJluEh/S3VK28ISlJgWRwQiIwQiIwQjrmDFRNsaIILh5RUBx9G9cVNuWikazXvQFJANiMMKapvwAWiUilM6DpvUUE3C2GQExGAExGGFNaIGM/lce3ByxHf33jshgBMRghDVNlbLGv0cH2sVFZqLfBsPZZQTEYATEYMQtxowtUm4JXOrGZij6nU1EBiMgBiOsaaqSc0nZNdYVgQ6EzlNxxLVUpCAyGAExGAExGGEdM8aydD3tSq7a084MCiKXU/be6r+R2yEyGAExGGFNU7Vcg5Qv5nf1tDODgijqBx1mR69EbofIYATEYATEYIR1zKhm6KWtLBd72plBQVaGlT1T+DtyO0QGIyAGI+yXtpnrpOyN6jSF20yd2b6npOyp3KqlJgWRwQiIwQiIwQjrmFFPb5Jyq653oMFFbmfccT1rO5XZtNSkIDIYATEYATEYYX/0ON0i5cZkaNVDb/rTnxiL+9yq/o2PGYvFm7Lz49uIDEZADEZY01TZoeHX3BN61sBcdyuTbsc1eLQr+tz4MbYpQ2QwAmIwAmIwIvpeCqlUyqtt96ofA4UX2rfYjTGWIjIYATEYYd9VxwixYiX0j1wYOkpmG0HuJMa58AvJLvMRGYyAGIyAGIywjxlGebSkxwxhTJVYJiPvOraHMWb0PRCDEbH+gd9b1M9rtDK0abf2Ee9HzFc9BNVkMxWIDEZADEZADEbEGjMervyl7K9Ldep0o2/LMGg4hTwpT9+3kuw43egM6A4QgxGx0tSTwxeVfXbqUepcv9aVDvUlkzRlH5v8LNFhEBmMgBiMgBiMiDVmHMzqZ/yWnq8Q377z+lB3w9SICE0H/fHiOPE9V9Rv6WzGmMBFZDACYjAiVpoqO7r6C0fOEt+FTx/Uhe9+pg0HYR2uubb4kRllvnr0c+IacfQ/8qZ/I/JHIDIYATEYATEYIZaW65ETevh+VtbIoU99c1zZu07StyVnzulplGCL7q/OeTwJX74Gjx0ivvy7emb2k/vniG/N17sRYa1tnwIxGBErTYWXRo07OeJb8PQqq5P/PEN8X809pOw9X9CbULnzC8r2NzaidqVrOHl9GSofOEB8i0f0LMPrL58mvreqvyo7K+iChD+9ZC+xR2QwAmIwAmIwwjpmmG/LCK+9NZfWhlUdM8aT3zxd+8O1J4jv1Dl9x3DmA7qpsfzpkrZvZybY0d8kfWAfcc2/UVP224dPEd9rI78ruyDod1oP9LrjdpcuzxEZjIAYjEicppJiHjM8E/zS/CvEt/W+3nu9/C3dU1y2jbdrkoOWSPHq03rBwLNvfkl879S+V/YNSY/ZCHb20ThEBiMgBiMgBiP+BwLCKeW3QCNJAAAAAElFTkSuQmCC\" id=\"imagedc022e9ba5\" transform=\"scale(1 -1) translate(0 -71.28)\" x=\"689.433962\" y=\"-6.986038\" width=\"71.28\" height=\"71.28\"/>\n",
              "   </g>\n",
              "   <g id=\"patch_43\">\n",
              "    <path d=\"M 689.433962 78.266038 \n",
              "L 689.433962 7.2 \n",
              "\" style=\"fill: none; stroke: #000000; stroke-width: 0.8; stroke-linejoin: miter; stroke-linecap: square\"/>\n",
              "   </g>\n",
              "   <g id=\"patch_44\">\n",
              "    <path d=\"M 760.5 78.266038 \n",
              "L 760.5 7.2 \n",
              "\" style=\"fill: none; stroke: #000000; stroke-width: 0.8; stroke-linejoin: miter; stroke-linecap: square\"/>\n",
              "   </g>\n",
              "   <g id=\"patch_45\">\n",
              "    <path d=\"M 689.433962 78.266038 \n",
              "L 760.5 78.266038 \n",
              "\" style=\"fill: none; stroke: #000000; stroke-width: 0.8; stroke-linejoin: miter; stroke-linecap: square\"/>\n",
              "   </g>\n",
              "   <g id=\"patch_46\">\n",
              "    <path d=\"M 689.433962 7.2 \n",
              "L 760.5 7.2 \n",
              "\" style=\"fill: none; stroke: #000000; stroke-width: 0.8; stroke-linejoin: miter; stroke-linecap: square\"/>\n",
              "   </g>\n",
              "  </g>\n",
              " </g>\n",
              " <defs>\n",
              "  <clipPath id=\"pebab0d6ea8\">\n",
              "   <rect x=\"7.2\" y=\"7.2\" width=\"71.066038\" height=\"71.066038\"/>\n",
              "  </clipPath>\n",
              "  <clipPath id=\"p59a40beb1e\">\n",
              "   <rect x=\"92.479245\" y=\"7.2\" width=\"71.066038\" height=\"71.066038\"/>\n",
              "  </clipPath>\n",
              "  <clipPath id=\"p7d56fc250e\">\n",
              "   <rect x=\"177.758491\" y=\"7.2\" width=\"71.066038\" height=\"71.066038\"/>\n",
              "  </clipPath>\n",
              "  <clipPath id=\"pfc2c2303e9\">\n",
              "   <rect x=\"263.037736\" y=\"7.2\" width=\"71.066038\" height=\"71.066038\"/>\n",
              "  </clipPath>\n",
              "  <clipPath id=\"pa32928e57c\">\n",
              "   <rect x=\"348.316981\" y=\"7.2\" width=\"71.066038\" height=\"71.066038\"/>\n",
              "  </clipPath>\n",
              "  <clipPath id=\"pabb1a7e6f4\">\n",
              "   <rect x=\"433.596226\" y=\"7.2\" width=\"71.066038\" height=\"71.066038\"/>\n",
              "  </clipPath>\n",
              "  <clipPath id=\"pfc7706503c\">\n",
              "   <rect x=\"518.875472\" y=\"7.2\" width=\"71.066038\" height=\"71.066038\"/>\n",
              "  </clipPath>\n",
              "  <clipPath id=\"pb90366bbff\">\n",
              "   <rect x=\"604.154717\" y=\"7.2\" width=\"71.066038\" height=\"71.066038\"/>\n",
              "  </clipPath>\n",
              "  <clipPath id=\"pa665de2eeb\">\n",
              "   <rect x=\"689.433962\" y=\"7.2\" width=\"71.066038\" height=\"71.066038\"/>\n",
              "  </clipPath>\n",
              " </defs>\n",
              "</svg>\n"
            ],
            "text/plain": [
              "<Figure size 1350x150 with 9 Axes>"
            ]
          },
          "metadata": {},
          "output_type": "display_data"
        },
        {
          "data": {
            "image/svg+xml": [
              "<?xml version=\"1.0\" encoding=\"utf-8\" standalone=\"no\"?>\n",
              "<!DOCTYPE svg PUBLIC \"-//W3C//DTD SVG 1.1//EN\"\n",
              "  \"http://www.w3.org/Graphics/SVG/1.1/DTD/svg11.dtd\">\n",
              "<svg xmlns:xlink=\"http://www.w3.org/1999/xlink\" width=\"767.7pt\" height=\"85.466038pt\" viewBox=\"0 0 767.7 85.466038\" xmlns=\"http://www.w3.org/2000/svg\" version=\"1.1\">\n",
              " <metadata>\n",
              "  <rdf:RDF xmlns:dc=\"http://purl.org/dc/elements/1.1/\" xmlns:cc=\"http://creativecommons.org/ns#\" xmlns:rdf=\"http://www.w3.org/1999/02/22-rdf-syntax-ns#\">\n",
              "   <cc:Work>\n",
              "    <dc:type rdf:resource=\"http://purl.org/dc/dcmitype/StillImage\"/>\n",
              "    <dc:date>2023-12-27T21:26:48.437258</dc:date>\n",
              "    <dc:format>image/svg+xml</dc:format>\n",
              "    <dc:creator>\n",
              "     <cc:Agent>\n",
              "      <dc:title>Matplotlib v3.7.2, https://matplotlib.org/</dc:title>\n",
              "     </cc:Agent>\n",
              "    </dc:creator>\n",
              "   </cc:Work>\n",
              "  </rdf:RDF>\n",
              " </metadata>\n",
              " <defs>\n",
              "  <style type=\"text/css\">*{stroke-linejoin: round; stroke-linecap: butt}</style>\n",
              " </defs>\n",
              " <g id=\"figure_1\">\n",
              "  <g id=\"patch_1\">\n",
              "   <path d=\"M 0 85.466038 \n",
              "L 767.7 85.466038 \n",
              "L 767.7 0 \n",
              "L 0 0 \n",
              "z\n",
              "\" style=\"fill: #ffffff\"/>\n",
              "  </g>\n",
              "  <g id=\"axes_1\">\n",
              "   <g id=\"patch_2\">\n",
              "    <path d=\"M 7.2 78.266038 \n",
              "L 78.266038 78.266038 \n",
              "L 78.266038 7.2 \n",
              "L 7.2 7.2 \n",
              "z\n",
              "\" style=\"fill: #ffffff\"/>\n",
              "   </g>\n",
              "   <g clip-path=\"url(#p2bbd7fa736)\">\n",
              "    <image xlink:href=\"data:image/png;base64,\n",
              "iVBORw0KGgoAAAANSUhEUgAAAGMAAABjCAYAAACPO76VAAACJ0lEQVR4nO3cv2pTYQCG8Zz006QSJ7V061ApgiBY0cWld+AddGgvqtBJegWuTqLSTQdXoYOgBA1aG3IKaT053sIL9c/T0+c3vySHPP2GNDmpmvHdthfYeLOdzHrru0fRblHX0Y6senQ/2h282I92/YtcjP4sY4AYA8QYIMYAMQaIMUCMAWIMkDJvz6Ph+XSQPWIbvaHvhP5sHu0mTfY378kAMQaIMUCMAWIMEGOAGAPEGCDGACkfzrLhncMS7dqz8AG7YPwtmu1NtqKdJwPEGCDGADEGiDFAjAFiDBBjgBgDpLyu70XDW++Po92iaS5yPZdKM8u+Sf/y1ZNo58kAMQaIMUCMAWIMEGOAGAPEGCDGACkf69VoWH39nj3iFfoWeq9dRLOVd9lr4skAMQaIMUCMAWIMEGOAGAPEGCDGACn1r+vZcp7d83ylhP9tuDHOXjtPBogxQIwBYgwQY4AYA8QYIMYAKbcHs2j4c2n0ly+luxbX/PGvS8cYIMYAMQaIMUCMAWIMEGOAGAOkbI4+RcOjUXb7bO84u0W5E6oqmp2sZx9tezJAjAFiDBBjgBgDxBggxgAxBogxQMrjYfYO/PmDZ9Fu8PlL9swduEW5v7wc7X48zX6S3JMBYgwQY4AYA8QYIMYAMQaIMUCMAVLWSvY57mTnNNqtvb0Z7ZrpNNr9D/3hMNo1Dzei3c7mYfa80Ur/hDFAjAFiDBBjgBgDxBggxgAxBshvr89VzVunn5gAAAAASUVORK5CYII=\" id=\"imagef3eafd28c6\" transform=\"scale(1 -1) translate(0 -71.28)\" x=\"7.2\" y=\"-6.986038\" width=\"71.28\" height=\"71.28\"/>\n",
              "   </g>\n",
              "   <g id=\"patch_3\">\n",
              "    <path d=\"M 7.2 78.266038 \n",
              "L 7.2 7.2 \n",
              "\" style=\"fill: none; stroke: #000000; stroke-width: 0.8; stroke-linejoin: miter; stroke-linecap: square\"/>\n",
              "   </g>\n",
              "   <g id=\"patch_4\">\n",
              "    <path d=\"M 78.266038 78.266038 \n",
              "L 78.266038 7.2 \n",
              "\" style=\"fill: none; stroke: #000000; stroke-width: 0.8; stroke-linejoin: miter; stroke-linecap: square\"/>\n",
              "   </g>\n",
              "   <g id=\"patch_5\">\n",
              "    <path d=\"M 7.2 78.266038 \n",
              "L 78.266038 78.266038 \n",
              "\" style=\"fill: none; stroke: #000000; stroke-width: 0.8; stroke-linejoin: miter; stroke-linecap: square\"/>\n",
              "   </g>\n",
              "   <g id=\"patch_6\">\n",
              "    <path d=\"M 7.2 7.2 \n",
              "L 78.266038 7.2 \n",
              "\" style=\"fill: none; stroke: #000000; stroke-width: 0.8; stroke-linejoin: miter; stroke-linecap: square\"/>\n",
              "   </g>\n",
              "  </g>\n",
              "  <g id=\"axes_2\">\n",
              "   <g id=\"patch_7\">\n",
              "    <path d=\"M 92.479245 78.266038 \n",
              "L 163.545283 78.266038 \n",
              "L 163.545283 7.2 \n",
              "L 92.479245 7.2 \n",
              "z\n",
              "\" style=\"fill: #ffffff\"/>\n",
              "   </g>\n",
              "   <g clip-path=\"url(#p6c182e73cb)\">\n",
              "    <image xlink:href=\"data:image/png;base64,\n",
              "iVBORw0KGgoAAAANSUhEUgAAAGMAAABjCAYAAACPO76VAAABgUlEQVR4nO3cMU4VURSA4TdykUcoJG5BtwKFsbdxgeyEHVi4ATsSLQzFw6F5Ce1NyMv8ke+rT2ZO8ue0d7m9/L7uJvx7fJwZ4xXebb0AL8QIESNEjBAxQsQIESNEjBAxQsbu7GzrHThyGSFihIgRIkaIGCFihIgRIkaIGCFjOR9b78CRywgRI0SMEDFCxAgRI0SMEDFCxAgZy34/Ofr7pIvgMlLECBEjRIwQMULECBEjRIwQMULG7uL91jtw5DJCxAgRI0SMEDFCxAgRI0SMEDFCxrq/2HoHjlxGiBghYoSIESJGiBghYoSIETIOH6+mBpcTL4LLSBEjRIwQMULECBEjRIwQMULECBl/Pl1ODX64P/EmuIwSMULECBEjRIwQMULECBEjRIyQ8fD179Tg9d3cM93r4fCafd40lxEiRogYIWKEiBEiRogYIWKEiBGyPP36vM4Mfrn5NvXBpx8/5/68Tv32v7Cczz2w5jJCxAgRI0SMEDFCxAgRI0SMEDFCngFAUBkvGhZfdgAAAABJRU5ErkJggg==\" id=\"image1cad2a8625\" transform=\"scale(1 -1) translate(0 -71.28)\" x=\"92.479245\" y=\"-6.986038\" width=\"71.28\" height=\"71.28\"/>\n",
              "   </g>\n",
              "   <g id=\"patch_8\">\n",
              "    <path d=\"M 92.479245 78.266038 \n",
              "L 92.479245 7.2 \n",
              "\" style=\"fill: none; stroke: #000000; stroke-width: 0.8; stroke-linejoin: miter; stroke-linecap: square\"/>\n",
              "   </g>\n",
              "   <g id=\"patch_9\">\n",
              "    <path d=\"M 163.545283 78.266038 \n",
              "L 163.545283 7.2 \n",
              "\" style=\"fill: none; stroke: #000000; stroke-width: 0.8; stroke-linejoin: miter; stroke-linecap: square\"/>\n",
              "   </g>\n",
              "   <g id=\"patch_10\">\n",
              "    <path d=\"M 92.479245 78.266038 \n",
              "L 163.545283 78.266038 \n",
              "\" style=\"fill: none; stroke: #000000; stroke-width: 0.8; stroke-linejoin: miter; stroke-linecap: square\"/>\n",
              "   </g>\n",
              "   <g id=\"patch_11\">\n",
              "    <path d=\"M 92.479245 7.2 \n",
              "L 163.545283 7.2 \n",
              "\" style=\"fill: none; stroke: #000000; stroke-width: 0.8; stroke-linejoin: miter; stroke-linecap: square\"/>\n",
              "   </g>\n",
              "  </g>\n",
              "  <g id=\"axes_3\">\n",
              "   <g id=\"patch_12\">\n",
              "    <path d=\"M 177.758491 78.266038 \n",
              "L 248.824528 78.266038 \n",
              "L 248.824528 7.2 \n",
              "L 177.758491 7.2 \n",
              "z\n",
              "\" style=\"fill: #ffffff\"/>\n",
              "   </g>\n",
              "   <g clip-path=\"url(#p43c3215695)\">\n",
              "    <image xlink:href=\"data:image/png;base64,\n",
              "iVBORw0KGgoAAAANSUhEUgAAAGMAAABjCAYAAACPO76VAAABqklEQVR4nO3csUrDUBhH8dx4K+0mqIN0cHESF58gkw/g6iP4KI6C4HP4Fo6dHHVz6NilKDEuguD0lxJ60PObP5ILh28ISVsudq+GJjC8vyVj2kC77QPomzFAjAFiDBBjgBgDxBggxgAxBogxQIwBYgwQY4AYA8QYIMYAMQaIMUCMAVKbtmz7DPriZoAYA8QYIMYAMQaIMUCMAWIMEGOA1FKyJ/DoU3VtxM0AMQaIMUCMAWIMEGOAGAPEGCDGAKnNZJJNrtfjnkRuBokxQIwBYgwQY4AYA8QYIMYAMQZILdNpNrlajXsSuRkkxgAxBogxQIwBYgwQY4AYA6QO88Nscrkc9yR/WfhxuZsBYgwQY4AYA8QYIMYAMQaIMUCMAVKfL/eiweNF+Cdhgz9S/qmdzbK5kc+hXzAGiDFAjAFiDBBjgBgDxBggxgApd09d9Mj80J1GF+z/07vy8N12351Hc24GiDFAjAFiDBBjgBgDxBggxgAxBkjpX0+iJ/Cz2+vogvObx+zOH302B7ZzsB/NvdwfRXNuBogxQIwBYgwQY4AYA8QYIMYAMQbIJ9oIIwKBNqbzAAAAAElFTkSuQmCC\" id=\"imagee9b704a5ff\" transform=\"scale(1 -1) translate(0 -71.28)\" x=\"177.758491\" y=\"-6.986038\" width=\"71.28\" height=\"71.28\"/>\n",
              "   </g>\n",
              "   <g id=\"patch_13\">\n",
              "    <path d=\"M 177.758491 78.266038 \n",
              "L 177.758491 7.2 \n",
              "\" style=\"fill: none; stroke: #000000; stroke-width: 0.8; stroke-linejoin: miter; stroke-linecap: square\"/>\n",
              "   </g>\n",
              "   <g id=\"patch_14\">\n",
              "    <path d=\"M 248.824528 78.266038 \n",
              "L 248.824528 7.2 \n",
              "\" style=\"fill: none; stroke: #000000; stroke-width: 0.8; stroke-linejoin: miter; stroke-linecap: square\"/>\n",
              "   </g>\n",
              "   <g id=\"patch_15\">\n",
              "    <path d=\"M 177.758491 78.266038 \n",
              "L 248.824528 78.266038 \n",
              "\" style=\"fill: none; stroke: #000000; stroke-width: 0.8; stroke-linejoin: miter; stroke-linecap: square\"/>\n",
              "   </g>\n",
              "   <g id=\"patch_16\">\n",
              "    <path d=\"M 177.758491 7.2 \n",
              "L 248.824528 7.2 \n",
              "\" style=\"fill: none; stroke: #000000; stroke-width: 0.8; stroke-linejoin: miter; stroke-linecap: square\"/>\n",
              "   </g>\n",
              "  </g>\n",
              "  <g id=\"axes_4\">\n",
              "   <g id=\"patch_17\">\n",
              "    <path d=\"M 263.037736 78.266038 \n",
              "L 334.103774 78.266038 \n",
              "L 334.103774 7.2 \n",
              "L 263.037736 7.2 \n",
              "z\n",
              "\" style=\"fill: #ffffff\"/>\n",
              "   </g>\n",
              "   <g clip-path=\"url(#pc78b3a18bf)\">\n",
              "    <image xlink:href=\"data:image/png;base64,\n",
              "iVBORw0KGgoAAAANSUhEUgAAAGMAAABjCAYAAACPO76VAAACpElEQVR4nO3dvWpTcQCG8ZM0raEpgsaCBgvSolTBwUVBCgqCbl6Ad+B9uLp7ATqoODiJi1PASRCrpSLRokYRxGpbbNrmw0s47xDMMzy/+eVkeDzDv8k5Vq6t3BkVgalX68msGO4fRLtq/VC0q5w6Wbo5mG9E15p+9znaFf1+tpueiWbDzc1oV80+Vf+DMUCMAWIMEGOAGAPEGCDGADEGSK1zuxINFx6cj3aznV/Rrt+ci3bdq+Wn693WILrW8lr2b2+wtRPtYqNhNPPOADEGiDFAjAFiDBBjgBgDxBggxgCp3b30OBrea12Jdh9/Hg0/OjuVXlx4W7rp/DmWfWQ1+2tDemIuRtHPB2LeGSDGADEGiDFAjAFiDBBjgBgDxBggtcv1H9Hw3NKjaHewmPVd3WtFu/bWmdLN1ovj0bUOb7+OduM+Wae8M0CMAWIMEGOAGAPEGCDGADEGiDFAakeq9WjYDL8/3htlz1Bv9Hej3bP2hdLN8sMv0bX6vb1oNyneGSDGADEGiDFAjAFiDBBjgBgDxBggtenK1HivGH59/HLndLRbfNIr3Qy637MPHWbPi0+KdwaIMUCMAWIMEGOAGAPEGCDGAKmN+4J/R9nrt59/PRvt5j98K90M0tdlw3lngBgDxBggxgAxBogxQIwBYgwQY4DEJ/BB+EKsXvjYbmNmP9pVGrPBKH2p12QeKU55Z4AYA8QYIMYAMQaIMUCMAWIMEGOAxCfwfpH9aDh8cXVxs/Um2t2/fqN0c+Jp+Y+ji6Iohpu/s13432iP+4fU3hkgxgAxBogxQIwBYgwQY4AYA8QYIPEJvBp2q4ffR6803ke79q2l0s16M3uMubmWnZjnPm1Hu8pGN9qNwhO9dwaIMUCMAWIMEGOAGAPEGCDGADEGyD8hl3nOj7UG1QAAAABJRU5ErkJggg==\" id=\"image1a549878d7\" transform=\"scale(1 -1) translate(0 -71.28)\" x=\"263.037736\" y=\"-6.986038\" width=\"71.28\" height=\"71.28\"/>\n",
              "   </g>\n",
              "   <g id=\"patch_18\">\n",
              "    <path d=\"M 263.037736 78.266038 \n",
              "L 263.037736 7.2 \n",
              "\" style=\"fill: none; stroke: #000000; stroke-width: 0.8; stroke-linejoin: miter; stroke-linecap: square\"/>\n",
              "   </g>\n",
              "   <g id=\"patch_19\">\n",
              "    <path d=\"M 334.103774 78.266038 \n",
              "L 334.103774 7.2 \n",
              "\" style=\"fill: none; stroke: #000000; stroke-width: 0.8; stroke-linejoin: miter; stroke-linecap: square\"/>\n",
              "   </g>\n",
              "   <g id=\"patch_20\">\n",
              "    <path d=\"M 263.037736 78.266038 \n",
              "L 334.103774 78.266038 \n",
              "\" style=\"fill: none; stroke: #000000; stroke-width: 0.8; stroke-linejoin: miter; stroke-linecap: square\"/>\n",
              "   </g>\n",
              "   <g id=\"patch_21\">\n",
              "    <path d=\"M 263.037736 7.2 \n",
              "L 334.103774 7.2 \n",
              "\" style=\"fill: none; stroke: #000000; stroke-width: 0.8; stroke-linejoin: miter; stroke-linecap: square\"/>\n",
              "   </g>\n",
              "  </g>\n",
              "  <g id=\"axes_5\">\n",
              "   <g id=\"patch_22\">\n",
              "    <path d=\"M 348.316981 78.266038 \n",
              "L 419.383019 78.266038 \n",
              "L 419.383019 7.2 \n",
              "L 348.316981 7.2 \n",
              "z\n",
              "\" style=\"fill: #ffffff\"/>\n",
              "   </g>\n",
              "   <g clip-path=\"url(#pfdc240b780)\">\n",
              "    <image xlink:href=\"data:image/png;base64,\n",
              "iVBORw0KGgoAAAANSUhEUgAAAGMAAABjCAYAAACPO76VAAAB90lEQVR4nO3dOy5EYQCG4XPO/EMnKAwajWjtQCGxCIUoSFSWYQOWoLMOjYhai4RMXApxSVzmYgtfXJJ3eJ/6y+Qkb/7iz9zqfndxWAWWT9aTWTW/cRXtBk9P0Y6s1ZmJdltHx9Gu+c7D6GcZA8QYIMYAMQaIMUCMAWIMEGOAlHQ43u5Fu7quv/wwo6Zut6PdbHmIdp4MEGOAGAPEGCDGADEGiDFAjAFiDJD4Bt7U0VvlVdX8nxt4NZbdwCebt2jnyQAxBogxQIwBYgwQY4AYA8QYIMYAKd3eczS8uZiOdlMf3e88z2h5/4hm172JaOfJADEGiDFAjAFiDBBjgBgDxBggxgApa6c70XDp4DXaDd+y93v/gv7NXbTbPdyOdp4MEGOAGAPEGCDGADEGiDFAjAFiDJB6dWUv+nh56+QsesH/dANPldlOtPNkgBgDxBggxgAxBogxQIwBYgyQ0j67jIZ9L3Nf1ru9j3aeDBBjgBgDxBggxgAxBogxQIwBYgyQMnz1Zv3rBv1o5skAMQaIMUCMAWIMEGOAGAPEGCDGACnN1GQ0HLy8/O6T/GXhn4J5MkCMAWIMEGOAGAPEGCDGADEGiDFAyvnmQjRc2H+MdoPn7Oe8q2H4h1pkTSualTm/ejxyjAFiDBBjgBgDxBggxgAxBogxQD4BMblDItaBxLoAAAAASUVORK5CYII=\" id=\"image773bf29ce6\" transform=\"scale(1 -1) translate(0 -71.28)\" x=\"348.316981\" y=\"-6.986038\" width=\"71.28\" height=\"71.28\"/>\n",
              "   </g>\n",
              "   <g id=\"patch_23\">\n",
              "    <path d=\"M 348.316981 78.266038 \n",
              "L 348.316981 7.2 \n",
              "\" style=\"fill: none; stroke: #000000; stroke-width: 0.8; stroke-linejoin: miter; stroke-linecap: square\"/>\n",
              "   </g>\n",
              "   <g id=\"patch_24\">\n",
              "    <path d=\"M 419.383019 78.266038 \n",
              "L 419.383019 7.2 \n",
              "\" style=\"fill: none; stroke: #000000; stroke-width: 0.8; stroke-linejoin: miter; stroke-linecap: square\"/>\n",
              "   </g>\n",
              "   <g id=\"patch_25\">\n",
              "    <path d=\"M 348.316981 78.266038 \n",
              "L 419.383019 78.266038 \n",
              "\" style=\"fill: none; stroke: #000000; stroke-width: 0.8; stroke-linejoin: miter; stroke-linecap: square\"/>\n",
              "   </g>\n",
              "   <g id=\"patch_26\">\n",
              "    <path d=\"M 348.316981 7.2 \n",
              "L 419.383019 7.2 \n",
              "\" style=\"fill: none; stroke: #000000; stroke-width: 0.8; stroke-linejoin: miter; stroke-linecap: square\"/>\n",
              "   </g>\n",
              "  </g>\n",
              "  <g id=\"axes_6\">\n",
              "   <g id=\"patch_27\">\n",
              "    <path d=\"M 433.596226 78.266038 \n",
              "L 504.662264 78.266038 \n",
              "L 504.662264 7.2 \n",
              "L 433.596226 7.2 \n",
              "z\n",
              "\" style=\"fill: #ffffff\"/>\n",
              "   </g>\n",
              "   <g clip-path=\"url(#p55f7af419e)\">\n",
              "    <image xlink:href=\"data:image/png;base64,\n",
              "iVBORw0KGgoAAAANSUhEUgAAAGMAAABjCAYAAACPO76VAAACCElEQVR4nO3czS4DURyG8Zn29EN9tUFDQqxELF2Ju3Eb4qpcgg0bViQkiNC0jFt4pSSPen7rf85M5slZnMy09dXNdlMFTs5Pk7Fq5+wimqua6LILoX10EM21fvk+9A3GADEGiDFAjAFiDBBjgBgDxBggpVNng5NReGKuw77NRza3AKbjlWjOnQFiDBBjgBgDxBggxgAxBogxQIwBUrp1dgSfLWcn8LqVrdd8RmNs4bN73e5Fc+4MEGOAGAPEGCDGADEGiDFAjAFiDJCS1vhcm2WD6Tvwf+RtM3smPjkQY4AYA8QYIMYAMQaIMUCMAWIMkNIJT8yD0Vs0V7ez9ZppNMYWPrvJMFvOnQFiDBBjgBgDxBggxgAxBogxQIwBUvp1iQZ3h0/Zip1ONvf+ns0tgOlq9gW/OwPEGCDGADEGiDFAjAFiDBBjgJRW2ONw/S6au+qtZVd+ycbI0p9Zz4bZH525M0CMAWIMEGOAGAPEGCDGADEGiDFASqvKTpEHS/fR3HV/PM/9/C3hh8/9jeyjcXcGiDFAjAFiDBBjgBgDxBggxgAxBkhph6fIve5DNNesDua5n78lfAe+v/GYLTfPvehnGQPEGCDGADEGiDFAjAFiDBBjgGS/O66qaqv9HM1NdrKv0MtlemWuutuN5o5Ht9GcOwPEGCDGADEGiDFAjAFiDBBjgBgD5As6Uy9BcX45ywAAAABJRU5ErkJggg==\" id=\"image88737d0ff1\" transform=\"scale(1 -1) translate(0 -71.28)\" x=\"433.596226\" y=\"-6.986038\" width=\"71.28\" height=\"71.28\"/>\n",
              "   </g>\n",
              "   <g id=\"patch_28\">\n",
              "    <path d=\"M 433.596226 78.266038 \n",
              "L 433.596226 7.2 \n",
              "\" style=\"fill: none; stroke: #000000; stroke-width: 0.8; stroke-linejoin: miter; stroke-linecap: square\"/>\n",
              "   </g>\n",
              "   <g id=\"patch_29\">\n",
              "    <path d=\"M 504.662264 78.266038 \n",
              "L 504.662264 7.2 \n",
              "\" style=\"fill: none; stroke: #000000; stroke-width: 0.8; stroke-linejoin: miter; stroke-linecap: square\"/>\n",
              "   </g>\n",
              "   <g id=\"patch_30\">\n",
              "    <path d=\"M 433.596226 78.266038 \n",
              "L 504.662264 78.266038 \n",
              "\" style=\"fill: none; stroke: #000000; stroke-width: 0.8; stroke-linejoin: miter; stroke-linecap: square\"/>\n",
              "   </g>\n",
              "   <g id=\"patch_31\">\n",
              "    <path d=\"M 433.596226 7.2 \n",
              "L 504.662264 7.2 \n",
              "\" style=\"fill: none; stroke: #000000; stroke-width: 0.8; stroke-linejoin: miter; stroke-linecap: square\"/>\n",
              "   </g>\n",
              "  </g>\n",
              "  <g id=\"axes_7\">\n",
              "   <g id=\"patch_32\">\n",
              "    <path d=\"M 518.875472 78.266038 \n",
              "L 589.941509 78.266038 \n",
              "L 589.941509 7.2 \n",
              "L 518.875472 7.2 \n",
              "z\n",
              "\" style=\"fill: #ffffff\"/>\n",
              "   </g>\n",
              "   <g clip-path=\"url(#p31eae6ba7b)\">\n",
              "    <image xlink:href=\"data:image/png;base64,\n",
              "iVBORw0KGgoAAAANSUhEUgAAAGMAAABjCAYAAACPO76VAAACXElEQVR4nO3dsWoUUQBG4Rl3go0QhKAWEpRE8A0UrUV8hYCleQJ7CzuxS2nvO1jZqIWklGCIomCMNtEkG7JZJzPXR5gfXMNRzlf/3MQcprjMmtR3F1ZLFSiT42RWlfYk23VdtKvP1MkoO2uU7UqJfiTxv7UqfTTLvjudCmOAGAPEGCDGADEGiDFAjAFiDJCm+7mfLcNbZBXeXlPpl43Oamd31t/gkwFiDBBjgBgDxBggxgAxBogxQIwB0kTvmKuqKtkra/0BnwwQY4AYA8QYIMYAMQaIMUCMAWIMkGa0eDlbHk2iWX8wznaT7LxZv1Mn88kAMQaIMUCMAWIMEGOAGAPEGCDGAGk2Hl7IhuNRtJvfyr7wxRdfot3J9tfh0X9yS/fJADEGiDFAjAFiDBBjgBgDxBggxgCpX35ajq6vO+356MB3k+yd+vNXt6Ld9UfDV/pu90d0Fp1PBogxQIwBYgwQY4AYA8QYIMYAqY93rkaXvmn4m7P2+uxXUq9PL0W7x0/vD24Wnr2Nzqp69v+f9skAMQaIMUCMAWIMEGOAGAPEGCDGAGnm6uwDzfkuu6nfOPs92t1+sD642Xp9LTqrvP+Q7frsg9T1XJPtmmznkwFiDBBjgBgDxBggxgAxBogxQIwBUnffsg8+p7rwL1Ydlmm022yHb68rb1ajs5bWsnfgo3H2vR0uz0e7g0Vv4P8cY4AYA8QYIMYAMQaIMUCMAWIMkJnfwFNH/a9otx/sNtrsJvzk871ot72XnXfnyma0u3nuY7TzyQAxBogxQIwBYgwQY4AYA8QYIMYA+Q0SDX4d+gZHUQAAAABJRU5ErkJggg==\" id=\"imagea52ed20f57\" transform=\"scale(1 -1) translate(0 -71.28)\" x=\"518.875472\" y=\"-6.986038\" width=\"71.28\" height=\"71.28\"/>\n",
              "   </g>\n",
              "   <g id=\"patch_33\">\n",
              "    <path d=\"M 518.875472 78.266038 \n",
              "L 518.875472 7.2 \n",
              "\" style=\"fill: none; stroke: #000000; stroke-width: 0.8; stroke-linejoin: miter; stroke-linecap: square\"/>\n",
              "   </g>\n",
              "   <g id=\"patch_34\">\n",
              "    <path d=\"M 589.941509 78.266038 \n",
              "L 589.941509 7.2 \n",
              "\" style=\"fill: none; stroke: #000000; stroke-width: 0.8; stroke-linejoin: miter; stroke-linecap: square\"/>\n",
              "   </g>\n",
              "   <g id=\"patch_35\">\n",
              "    <path d=\"M 518.875472 78.266038 \n",
              "L 589.941509 78.266038 \n",
              "\" style=\"fill: none; stroke: #000000; stroke-width: 0.8; stroke-linejoin: miter; stroke-linecap: square\"/>\n",
              "   </g>\n",
              "   <g id=\"patch_36\">\n",
              "    <path d=\"M 518.875472 7.2 \n",
              "L 589.941509 7.2 \n",
              "\" style=\"fill: none; stroke: #000000; stroke-width: 0.8; stroke-linejoin: miter; stroke-linecap: square\"/>\n",
              "   </g>\n",
              "  </g>\n",
              "  <g id=\"axes_8\">\n",
              "   <g id=\"patch_37\">\n",
              "    <path d=\"M 604.154717 78.266038 \n",
              "L 675.220755 78.266038 \n",
              "L 675.220755 7.2 \n",
              "L 604.154717 7.2 \n",
              "z\n",
              "\" style=\"fill: #ffffff\"/>\n",
              "   </g>\n",
              "   <g clip-path=\"url(#p92f3f99338)\">\n",
              "    <image xlink:href=\"data:image/png;base64,\n",
              "iVBORw0KGgoAAAANSUhEUgAAAGMAAABjCAYAAACPO76VAAACEElEQVR4nO3dTWoTcQCG8czkn4aY2pbqQCy4E1cuunXlslfoKbr0Ej2A4A1ceQzBXVd1K+JHWxBEakJNZrzCW2Lh6eT5rV/K0If/YjL5qD5/mXWDwNGb18ls8PT0Y7Trlstoh1ZV0ezHyctoV69zLfq/jAFiDBBjgBgDxBggxgAxBogxQMrFaisa7n9aRbtule16oYtevBjMPvyOdp4MEGOAGAPEGCDGADEGiDFAjAFiDJDydbkXDScXi7u9kh4r335GO08GiDFAjAFiDBBjgBgDxBggxgAxBki5Wu5Ew/omfAa+ztX0VDefRztPBogxQIwBYgwQY4AYA8QYIMYAMQZIeTjM7g7bcYl22SejN0w9zGZ3fBm6BWOAGAPEGCDGADEGiDFAjAFiDJDyfHQZDRdN9nnxyTpX01PV9oNo58kAMQaIMUCMAWIMEGOAGAPEGCDl8fBvNPzTZI8OJ1XYt9ucLwlrd6fRzpMBYgwQY4AYA8QYIMYAMQaIMUCMAVKm4R3z9UH2luZH61zNfRP+ANb8iXfg944xQIwBYgwQY4AYA8QYIMYAMQZI2a7H2fJF+CNOW6No1y568Aw8fPXi6jD7n3gyQIwBYgwQY4AYA8QYIMYAMQaIMUCq1fdn0Tdmv/11EP3B98evol17dh7tyIZNE+3ad9nHtj0ZIMYAMQaIMUCMAWIMEGOAGAPEGCD/AMc1PtzCTj6ZAAAAAElFTkSuQmCC\" id=\"imageafe3d0831c\" transform=\"scale(1 -1) translate(0 -71.28)\" x=\"604.154717\" y=\"-6.986038\" width=\"71.28\" height=\"71.28\"/>\n",
              "   </g>\n",
              "   <g id=\"patch_38\">\n",
              "    <path d=\"M 604.154717 78.266038 \n",
              "L 604.154717 7.2 \n",
              "\" style=\"fill: none; stroke: #000000; stroke-width: 0.8; stroke-linejoin: miter; stroke-linecap: square\"/>\n",
              "   </g>\n",
              "   <g id=\"patch_39\">\n",
              "    <path d=\"M 675.220755 78.266038 \n",
              "L 675.220755 7.2 \n",
              "\" style=\"fill: none; stroke: #000000; stroke-width: 0.8; stroke-linejoin: miter; stroke-linecap: square\"/>\n",
              "   </g>\n",
              "   <g id=\"patch_40\">\n",
              "    <path d=\"M 604.154717 78.266038 \n",
              "L 675.220755 78.266038 \n",
              "\" style=\"fill: none; stroke: #000000; stroke-width: 0.8; stroke-linejoin: miter; stroke-linecap: square\"/>\n",
              "   </g>\n",
              "   <g id=\"patch_41\">\n",
              "    <path d=\"M 604.154717 7.2 \n",
              "L 675.220755 7.2 \n",
              "\" style=\"fill: none; stroke: #000000; stroke-width: 0.8; stroke-linejoin: miter; stroke-linecap: square\"/>\n",
              "   </g>\n",
              "  </g>\n",
              "  <g id=\"axes_9\">\n",
              "   <g id=\"patch_42\">\n",
              "    <path d=\"M 689.433962 78.266038 \n",
              "L 760.5 78.266038 \n",
              "L 760.5 7.2 \n",
              "L 689.433962 7.2 \n",
              "z\n",
              "\" style=\"fill: #ffffff\"/>\n",
              "   </g>\n",
              "   <g clip-path=\"url(#p84ca0837b4)\">\n",
              "    <image xlink:href=\"data:image/png;base64,\n",
              "iVBORw0KGgoAAAANSUhEUgAAAGMAAABjCAYAAACPO76VAAABnklEQVR4nO3cMUoDURRG4bzMwwQJARVxAykC7sDeTdgJFtbuy9Zl2AtWNikthCEk6NgItj8MwxyG89WXcOHkFgOTlNuTu24W6I6HZEw9zMdeQP+MAWIMEGOAGAPEGCDGADEGiDFAjAFiDBBjgBgDxBggxgAxBogxQIwBYgyQOpuXsXfQHy8DxBggxgAxBogxQIwBYgwQY4AYA6SWpokGo1fV1YuXAWIMEGOAGAPEGCDGADEGiDFAjAFSy2KRTbbtsJvIyyAxBogxQIwBYgwQY4AYA8QYIMYAqWUZPoFrcF4GiDFAjAFiDBBjgBgDxBggxgCp3XqVTe6GXWTSSvbzbi8DxBggxgAxBogxQIwBYgwQY4AYA6R+XV9Eg6dv7wOvMmEl+857GSDGADEGiDFAjAFiDBBjgBgDxBggtb3/jAZXL8to7me/77PPJNWry2jOywAxBogxQIwBYgwQY4AYA8QYIMYAKd+7TfTP2jdPj9EHrp9fo7nueIjmRhG+Nd6cn0VzHw/baM7LADEGiDFAjAFiDBBjgBgDxBggxgD5BdVjHdBeFLgzAAAAAElFTkSuQmCC\" id=\"image209cb80832\" transform=\"scale(1 -1) translate(0 -71.28)\" x=\"689.433962\" y=\"-6.986038\" width=\"71.28\" height=\"71.28\"/>\n",
              "   </g>\n",
              "   <g id=\"patch_43\">\n",
              "    <path d=\"M 689.433962 78.266038 \n",
              "L 689.433962 7.2 \n",
              "\" style=\"fill: none; stroke: #000000; stroke-width: 0.8; stroke-linejoin: miter; stroke-linecap: square\"/>\n",
              "   </g>\n",
              "   <g id=\"patch_44\">\n",
              "    <path d=\"M 760.5 78.266038 \n",
              "L 760.5 7.2 \n",
              "\" style=\"fill: none; stroke: #000000; stroke-width: 0.8; stroke-linejoin: miter; stroke-linecap: square\"/>\n",
              "   </g>\n",
              "   <g id=\"patch_45\">\n",
              "    <path d=\"M 689.433962 78.266038 \n",
              "L 760.5 78.266038 \n",
              "\" style=\"fill: none; stroke: #000000; stroke-width: 0.8; stroke-linejoin: miter; stroke-linecap: square\"/>\n",
              "   </g>\n",
              "   <g id=\"patch_46\">\n",
              "    <path d=\"M 689.433962 7.2 \n",
              "L 760.5 7.2 \n",
              "\" style=\"fill: none; stroke: #000000; stroke-width: 0.8; stroke-linejoin: miter; stroke-linecap: square\"/>\n",
              "   </g>\n",
              "  </g>\n",
              " </g>\n",
              " <defs>\n",
              "  <clipPath id=\"p2bbd7fa736\">\n",
              "   <rect x=\"7.2\" y=\"7.2\" width=\"71.066038\" height=\"71.066038\"/>\n",
              "  </clipPath>\n",
              "  <clipPath id=\"p6c182e73cb\">\n",
              "   <rect x=\"92.479245\" y=\"7.2\" width=\"71.066038\" height=\"71.066038\"/>\n",
              "  </clipPath>\n",
              "  <clipPath id=\"p43c3215695\">\n",
              "   <rect x=\"177.758491\" y=\"7.2\" width=\"71.066038\" height=\"71.066038\"/>\n",
              "  </clipPath>\n",
              "  <clipPath id=\"pc78b3a18bf\">\n",
              "   <rect x=\"263.037736\" y=\"7.2\" width=\"71.066038\" height=\"71.066038\"/>\n",
              "  </clipPath>\n",
              "  <clipPath id=\"pfdc240b780\">\n",
              "   <rect x=\"348.316981\" y=\"7.2\" width=\"71.066038\" height=\"71.066038\"/>\n",
              "  </clipPath>\n",
              "  <clipPath id=\"p55f7af419e\">\n",
              "   <rect x=\"433.596226\" y=\"7.2\" width=\"71.066038\" height=\"71.066038\"/>\n",
              "  </clipPath>\n",
              "  <clipPath id=\"p31eae6ba7b\">\n",
              "   <rect x=\"518.875472\" y=\"7.2\" width=\"71.066038\" height=\"71.066038\"/>\n",
              "  </clipPath>\n",
              "  <clipPath id=\"p92f3f99338\">\n",
              "   <rect x=\"604.154717\" y=\"7.2\" width=\"71.066038\" height=\"71.066038\"/>\n",
              "  </clipPath>\n",
              "  <clipPath id=\"p84ca0837b4\">\n",
              "   <rect x=\"689.433962\" y=\"7.2\" width=\"71.066038\" height=\"71.066038\"/>\n",
              "  </clipPath>\n",
              " </defs>\n",
              "</svg>\n"
            ],
            "text/plain": [
              "<Figure size 1350x150 with 9 Axes>"
            ]
          },
          "metadata": {},
          "output_type": "display_data"
        }
      ],
      "source": [
        "import torch\n",
        "from torch import nn\n",
        "from d2l import torch as d2l\n",
        "\n",
        "net = nn.Sequential(\n",
        "    nn.Conv2d(1, 6, kernel_size=5, padding=2), nn.Sigmoid(),\n",
        "    nn.AvgPool2d(kernel_size=2, stride=2),\n",
        "    nn.Conv2d(6, 16, kernel_size=5), nn.Sigmoid(),\n",
        "    nn.AvgPool2d(kernel_size=2, stride=2),\n",
        "    nn.Flatten(),\n",
        "    nn.Linear(16 * 5 * 5, 120), nn.Sigmoid(),\n",
        "    nn.Linear(120, 84), nn.Sigmoid(),\n",
        "    nn.Linear(84, 10))\n",
        "X = torch.rand(size=(1, 1, 28, 28), dtype=torch.float32)\n",
        "for layer in net:\n",
        "    X = layer(X)\n",
        "    print(layer.__class__.__name__,'output shape: \\t',X.shape)\n",
        "batch_size = 256\n",
        "train_iter, test_iter = d2l.load_data_fashion_mnist(batch_size=batch_size)\n",
        "def evaluate_accuracy_gpu(net, data_iter, device=None): #@save\n",
        "    \"\"\"使用GPU计算模型在数据集上的精度\"\"\"\n",
        "    if isinstance(net, nn.Module):\n",
        "        net.eval()  # 设置为评估模式\n",
        "        if not device:\n",
        "            device = next(iter(net.parameters())).device\n",
        "    # 正确预测的数量，总预测的数量\n",
        "    metric = d2l.Accumulator(2)\n",
        "    with torch.no_grad():\n",
        "        for X, y in data_iter:\n",
        "            if isinstance(X, list):\n",
        "                # BERT微调所需的（之后将介绍）\n",
        "                X = [x.to(device) for x in X]\n",
        "            else:\n",
        "                X = X.to(device)\n",
        "            y = y.to(device)\n",
        "            metric.add(d2l.accuracy(net(X), y), y.numel())\n",
        "    return metric[0] / metric[1]\n",
        "#@save\n",
        "def train_ch6(net, train_iter, test_iter, num_epochs, lr, device):\n",
        "    \"\"\"用GPU训练模型(在第六章定义)\"\"\"\n",
        "    def init_weights(m):\n",
        "        if type(m) == nn.Linear or type(m) == nn.Conv2d:\n",
        "            nn.init.xavier_uniform_(m.weight)\n",
        "    net.apply(init_weights)\n",
        "    print('training on', device)\n",
        "    net.to(device)\n",
        "    optimizer = torch.optim.SGD(net.parameters(), lr=lr)\n",
        "    loss = nn.CrossEntropyLoss()\n",
        "    animator = d2l.Animator(xlabel='epoch', xlim=[1, num_epochs],\n",
        "                            legend=['train loss', 'train acc', 'test acc'])\n",
        "    timer, num_batches = d2l.Timer(), len(train_iter)\n",
        "    for epoch in range(num_epochs):\n",
        "        # 训练损失之和，训练准确率之和，样本数\n",
        "        metric = d2l.Accumulator(3)\n",
        "        net.train()\n",
        "        for i, (X, y) in enumerate(train_iter):\n",
        "            timer.start()\n",
        "            optimizer.zero_grad()\n",
        "            X, y = X.to(device), y.to(device)\n",
        "            y_hat = net(X)\n",
        "            l = loss(y_hat, y)\n",
        "            l.backward()\n",
        "            optimizer.step()\n",
        "            with torch.no_grad():\n",
        "                metric.add(l * X.shape[0], d2l.accuracy(y_hat, y), X.shape[0])\n",
        "            timer.stop()\n",
        "            train_l = metric[0] / metric[2]\n",
        "            train_acc = metric[1] / metric[2]\n",
        "            if (i + 1) % (num_batches // 5) == 0 or i == num_batches - 1:\n",
        "                animator.add(epoch + (i + 1) / num_batches,\n",
        "                            (train_l, train_acc, None))\n",
        "        test_acc = evaluate_accuracy_gpu(net, test_iter)\n",
        "        animator.add(epoch + 1, (None, None, test_acc))\n",
        "    x_first_Sigmoid_layer = net[0:2](X)[0:9, 1, :, :]\n",
        "    d2l.show_images(x_first_Sigmoid_layer.reshape(9, 28, 28).cpu().detach(), 1, 9)\n",
        "    x_second_Sigmoid_layer = net[0:5](X)[0:9, 1, :, :]\n",
        "    d2l.show_images(x_second_Sigmoid_layer.reshape(9, 10, 10).cpu().detach(), 1, 9)\n",
        "    print(f'loss {train_l:.3f}, train acc {train_acc:.3f}, '\n",
        "        f'test acc {test_acc:.3f}')\n",
        "    print(f'{metric[2] * num_epochs / timer.sum():.1f} examples/sec '\n",
        "        f'on {str(device)}')\n",
        "lr, num_epochs = 0.9, 10\n",
        "train_ch6(net, train_iter, test_iter, num_epochs, lr, d2l.try_gpu())"
      ]
    }
  ],
  "metadata": {
    "colab": {
      "provenance": []
    },
    "gpuClass": "standard",
    "kernelspec": {
      "display_name": "Python 3 (ipykernel)",
      "language": "python",
      "name": "python3"
    },
    "language_info": {
      "codemirror_mode": {
        "name": "ipython",
        "version": 3
      },
      "file_extension": ".py",
      "mimetype": "text/x-python",
      "name": "python",
      "nbconvert_exporter": "python",
      "pygments_lexer": "ipython3",
      "version": "3.9.12"
    }
  },
  "nbformat": 4,
  "nbformat_minor": 0
}
